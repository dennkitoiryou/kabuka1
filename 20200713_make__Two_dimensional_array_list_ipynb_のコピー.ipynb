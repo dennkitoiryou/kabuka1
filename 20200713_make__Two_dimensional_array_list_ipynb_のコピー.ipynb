{
  "nbformat": 4,
  "nbformat_minor": 0,
  "metadata": {
    "colab": {
      "name": "20200713 make_ Two-dimensional_array_list.ipynb  のコピー",
      "provenance": [],
      "collapsed_sections": [],
      "mount_file_id": "1hsM8h0LLMLq3yXo-6WvSDVQPQCdhQpwD",
      "authorship_tag": "ABX9TyNoFe8MBsx9quxzxN4bJVX1",
      "include_colab_link": true
    },
    "kernelspec": {
      "name": "python3",
      "display_name": "Python 3"
    }
  },
  "cells": [
    {
      "cell_type": "markdown",
      "metadata": {
        "id": "view-in-github",
        "colab_type": "text"
      },
      "source": [
        "<a href=\"https://colab.research.google.com/github/dennkitotaichi/kabuka1/blob/master/20200713_make__Two_dimensional_array_list_ipynb_%E3%81%AE%E3%82%B3%E3%83%94%E3%83%BC.ipynb\" target=\"_parent\"><img src=\"https://colab.research.google.com/assets/colab-badge.svg\" alt=\"Open In Colab\"/></a>"
      ]
    },
    {
      "cell_type": "code",
      "metadata": {
        "id": "gRLZ0xpNfyHW",
        "colab_type": "code",
        "colab": {
          "base_uri": "https://localhost:8080/",
          "height": 35
        },
        "outputId": "6b05d60d-3d69-4a3f-a48f-0ba2a3e24391"
      },
      "source": [
        "#Make a dictionary\n",
        "keys = ['1-4','1-2','3-6','5-4','7-4','8-3']\n",
        "values = [\"1A6A\", \"1A2A\", \"6A7A\",\"8A5A\",\"7A8A\",\"7A8A\"]\n",
        "items = dict(zip(keys, values))\n",
        "#print(items)\n",
        "#---------------------------------------------\n",
        "\n",
        "#1を10こ　3を100個　4を100個　2を10個　作成　Created 10 for 1, 100 for 3, 100 for 4, and 10 for 2.\n",
        "\n",
        "import pandas as pd\n",
        "import random\n",
        "\n",
        "import numpy as np\n",
        "\n",
        "#Create the first cycle\n",
        "\n",
        "no1= np.full(10,1)\n",
        "no2= np.full(10,2)\n",
        "no3= np.full(100,3)\n",
        "no4= np.full(100,4)\n",
        "\n",
        "def Create_the_first_cycle(no1,no2,no3,no4):\n",
        "\n",
        " no1_l = no1.tolist()\n",
        " no2_l = no2.tolist()\n",
        " no3_l = no3.tolist()\n",
        " no4_l = no4.tolist()\n",
        "\n",
        " list3 = no1_l + no2_l + no3_l + no4_l\n",
        " return list3\n",
        "\n",
        "#---------------------------------------------\n",
        "#Execute a function\n",
        "list3 = Create_the_first_cycle(no1,no2,no3,no4)\n",
        "#---------------------------------------------\n",
        "\n",
        "def Create_the_even_odd(list3):\n",
        " #print(list3)\n",
        " odd = list(filter(lambda x: x%2 == 1, list3))\n",
        " #print(\"odd\")\n",
        " #print(odd)\n",
        " #Display even numbers\n",
        " even = list(filter(lambda x: x%2 == 0, list3))\n",
        " #print(\"even\")\n",
        " #print(even)\n",
        " return even,odd\n",
        "\n",
        "#---------------------------------------------\n",
        "#Execute a function\n",
        "even,odd = Create_the_even_odd(list3)\n",
        "#---------------------------------------------\n",
        "\n",
        "\n",
        "def Shuffle_and_divide(odd,even):\n",
        " random.shuffle(odd)\n",
        " #print(odd)\n",
        " random.shuffle(even)\n",
        " #print(even)\n",
        "\n",
        " arr2 = []\n",
        " for i, j in zip(odd, even):\n",
        "    arr2.append([i, j])\n",
        " return arr2\n",
        "\n",
        "#---------------------------------------------\n",
        "#Execute a function\n",
        "arr2 = Shuffle_and_divide(odd,even)\n",
        "#print(arr2)\n",
        "#---------------------------------------------\n",
        "\n",
        "def After_two_cycles(items,arr2):\n",
        " l_2cycle=[]\n",
        " for row in arr2:\n",
        "        keytxt='%s-%s' % (row[0],row[1])\n",
        "        if keytxt in items.keys():\n",
        "         #print(keytxt)\n",
        "         tai = items.get(keytxt)\n",
        "         #print(tai)\n",
        "         l = tai\n",
        "         #int(l)\n",
        "         l_2cycle.append(l)\n",
        "\n",
        "\n",
        " #print(l_2cycle)\n",
        " #---------------------------------------------\n",
        " #奇数と偶数のリストに戻す\n",
        " #Return to odd and even list\n",
        " #str(l_2cycle)\n",
        " #文字列にして分けようと思ったがうまくいかず\n",
        "\n",
        " StrA = \"\".join(map(str, l_2cycle))\n",
        " #print(StrA)\n",
        " l = StrA.split('A')\n",
        " #print(l)\n",
        "\n",
        " l_1 = []\n",
        " for a in l:\n",
        "   if a != '':\n",
        "     l_1.append(a)\n",
        "\n",
        " #print(l_1)\n",
        " #---------------------------------------------\n",
        "\n",
        " #0の値を消したいここがうまくいかない\n",
        "\n",
        " ys = map((lambda x: int(x)), l_1)\n",
        " l_2 = []\n",
        " for y in ys:\n",
        "  #print(y, type(y))\n",
        "   l_2.append(y)\n",
        " #print(ys)\n",
        " return l_2\n",
        "\n",
        "#---------------------------------------------\n",
        "#Execute a function\n",
        "l_2cycles = After_two_cycles(items,arr2)\n",
        "print(l_2cycles)\n",
        "#---------------------------------------------\n"
      ],
      "execution_count": null,
      "outputs": [
        {
          "output_type": "stream",
          "text": [
            "[1, 6, 1, 2, 1, 6, 1, 6, 1, 6, 1, 6, 1, 6, 1, 6, 1, 2, 1, 6]\n"
          ],
          "name": "stdout"
        }
      ]
    },
    {
      "cell_type": "code",
      "metadata": {
        "id": "mBzJsPSFZsPV",
        "colab_type": "code",
        "colab": {
          "base_uri": "https://localhost:8080/",
          "height": 283
        },
        "outputId": "63e144f6-077c-4e8e-a726-c6316f73af6a"
      },
      "source": [
        "% matplotlib inline\n",
        "import numpy as np\n",
        "import matplotlib.pyplot as plt\n",
        "\n",
        "import seaborn as sns\n",
        "# ここにグラフを描画する処理を記載する\n",
        "x = l_2cycles\n",
        "\n",
        "sns.distplot(x, kde=False, rug=False, bins=10) "
      ],
      "execution_count": null,
      "outputs": [
        {
          "output_type": "execute_result",
          "data": {
            "text/plain": [
              "<matplotlib.axes._subplots.AxesSubplot at 0x7f2b4c17aba8>"
            ]
          },
          "metadata": {
            "tags": []
          },
          "execution_count": 8
        },
        {
          "output_type": "display_data",
          "data": {
            "image/png": "[encoded data removed]",
            "text/plain": [
              "<Figure size 432x288 with 1 Axes>"
            ]
          },
          "metadata": {
            "tags": [],
            "needs_background": "light"
          }
        }
      ]
    },
    {
      "cell_type": "code",
      "metadata": {
        "id": "Z6Vuosj77uM_",
        "colab_type": "code",
        "colab": {
          "base_uri": "https://localhost:8080/",
          "height": 304
        },
        "outputId": "d9f6ba54-0338-4ee0-98a3-928ca470d869"
      },
      "source": [
        "#2サイクル目のPCRをシュミレート　Simulate the second cycle of PCR\n",
        "\n",
        "l_2cycles_no2 = list3  + l_2cycles\n",
        "\n",
        "#---------------------------------------------\n",
        "#Execute a function\n",
        "even,odd = Create_the_even_odd(l_2cycles_no2)\n",
        "#---------------------------------------------\n",
        "\n",
        "#---------------------------------------------\n",
        "arr2nd = Shuffle_and_divide(odd,even)\n",
        "#print(arr2)\n",
        "#---------------------------------------------\n",
        "\n",
        "#---------------------------------------------\n",
        "#Execute a function\n",
        "l_3cycles = After_two_cycles(items,arr2nd)\n",
        "print(l_3cycles)\n",
        "#---------------------------------------------\n",
        "x = l_3cycles\n",
        "\n",
        "sns.distplot(x, kde=False, rug=False, bins=10) \n"
      ],
      "execution_count": null,
      "outputs": [
        {
          "output_type": "stream",
          "text": [
            "[1, 6, 1, 6, 1, 2, 1, 6, 6, 7, 6, 7, 1, 6, 1, 6, 1, 6, 1, 6, 1, 6, 1, 2, 6, 7, 6, 7, 1, 6, 1, 6, 6, 7, 1, 6, 1, 6, 1, 6, 1, 6, 6, 7, 1, 6, 1, 6, 1, 6, 6, 7]\n"
          ],
          "name": "stdout"
        },
        {
          "output_type": "execute_result",
          "data": {
            "text/plain": [
              "<matplotlib.axes._subplots.AxesSubplot at 0x7f2b57324240>"
            ]
          },
          "metadata": {
            "tags": []
          },
          "execution_count": 13
        },
        {
          "output_type": "display_data",
          "data": {
            "image/png": "[encoded data removed]",
            "text/plain": [
              "<Figure size 432x288 with 1 Axes>"
            ]
          },
          "metadata": {
            "tags": [],
            "needs_background": "light"
          }
        }
      ]
    },
    {
      "cell_type": "code",
      "metadata": {
        "id": "WzZ5Q576bev9",
        "colab_type": "code",
        "colab": {
          "base_uri": "https://localhost:8080/",
          "height": 321
        },
        "outputId": "41c1ca7d-a6be-4819-e840-998733ba0c6f"
      },
      "source": [
        "#3サイクル目のPCRをシュミレート　Simulate 3rd cycle PCR\n",
        "\n",
        "l_3cycles_no2 = list3  + l_3cycles\n",
        "\n",
        "#---------------------------------------------\n",
        "#Execute a function\n",
        "even,odd = Create_the_even_odd(l_3cycles_no2)\n",
        "#---------------------------------------------\n",
        "\n",
        "#---------------------------------------------\n",
        "arr3nd = Shuffle_and_divide(odd,even)\n",
        "#print(arr2)\n",
        "#---------------------------------------------\n",
        "\n",
        "#---------------------------------------------\n",
        "#Execute a function\n",
        "l_4cycles = After_two_cycles(items,arr3nd)\n",
        "print(l_4cycles)\n",
        "#---------------------------------------------\n",
        "x = l_4cycles\n",
        "\n",
        "sns.distplot(x, kde=False, rug=False, bins=10) "
      ],
      "execution_count": null,
      "outputs": [
        {
          "output_type": "stream",
          "text": [
            "[1, 2, 6, 7, 7, 8, 1, 6, 1, 6, 7, 8, 1, 6, 1, 6, 1, 6, 6, 7, 1, 6, 6, 7, 1, 6, 1, 6, 1, 6, 1, 6, 6, 7, 1, 6, 1, 6, 6, 7, 6, 7, 6, 7, 6, 7, 7, 8, 1, 6, 6, 7, 6, 7, 1, 2, 1, 6, 6, 7, 6, 7, 1, 2, 1, 6, 7, 8, 1, 6, 1, 6, 1, 6, 6, 7, 1, 6, 6, 7, 1, 6, 6, 7, 6, 7]\n"
          ],
          "name": "stdout"
        },
        {
          "output_type": "execute_result",
          "data": {
            "text/plain": [
              "<matplotlib.axes._subplots.AxesSubplot at 0x7f2b4bfa46a0>"
            ]
          },
          "metadata": {
            "tags": []
          },
          "execution_count": 14
        },
        {
          "output_type": "display_data",
          "data": {
            "image/png": "[encoded data removed]",
            "text/plain": [
              "<Figure size 432x288 with 1 Axes>"
            ]
          },
          "metadata": {
            "tags": [],
            "needs_background": "light"
          }
        }
      ]
    },
    {
      "cell_type": "code",
      "metadata": {
        "id": "B7mSUXZA77Kr",
        "colab_type": "code",
        "colab": {
          "base_uri": "https://localhost:8080/",
          "height": 321
        },
        "outputId": "919eddca-ae5d-4d8c-ed0e-c50b8f223464"
      },
      "source": [
        "#4サイクル目のPCRをシュミレート　Simulate 4th cycle PCR\n",
        "\n",
        "l_4cycles_no2 = list3  + l_4cycles\n",
        "\n",
        "#---------------------------------------------\n",
        "#Execute a function\n",
        "even,odd = Create_the_even_odd(l_4cycles_no2)\n",
        "#---------------------------------------------\n",
        "\n",
        "#---------------------------------------------\n",
        "arr4th = Shuffle_and_divide(odd,even)\n",
        "#print(arr2)\n",
        "#---------------------------------------------\n",
        "\n",
        "#---------------------------------------------\n",
        "#Execute a function\n",
        "l_5cycles = After_two_cycles(items,arr4th)\n",
        "print(l_5cycles)\n",
        "#---------------------------------------------\n",
        "x = l_5cycles\n",
        "\n",
        "sns.distplot(x, kde=False, rug=False, bins=10) "
      ],
      "execution_count": null,
      "outputs": [
        {
          "output_type": "stream",
          "text": [
            "[1, 6, 6, 7, 7, 8, 6, 7, 6, 7, 6, 7, 7, 8, 6, 7, 1, 6, 6, 7, 6, 7, 1, 6, 1, 6, 1, 6, 7, 8, 1, 6, 7, 8, 1, 6, 7, 8, 6, 7, 1, 6, 6, 7, 1, 6, 1, 6, 6, 7, 7, 8, 1, 6, 1, 6, 6, 7, 1, 6, 6, 7, 1, 2, 1, 6, 7, 8, 6, 7, 7, 8, 7, 8, 1, 6, 6, 7, 7, 8, 1, 6, 7, 8, 6, 7, 1, 6, 1, 6, 6, 7, 1, 6, 6, 7, 1, 6, 6, 7, 1, 6, 6, 7, 1, 6, 6, 7, 1, 6, 1, 6, 7, 8, 6, 7, 6, 7, 6, 7, 6, 7, 1, 6, 6, 7, 6, 7, 1, 6]\n"
          ],
          "name": "stdout"
        },
        {
          "output_type": "execute_result",
          "data": {
            "text/plain": [
              "<matplotlib.axes._subplots.AxesSubplot at 0x7f2b4bed5940>"
            ]
          },
          "metadata": {
            "tags": []
          },
          "execution_count": 16
        },
        {
          "output_type": "display_data",
          "data": {
            "image/png": "[encoded data removed]",
            "text/plain": [
              "<Figure size 432x288 with 1 Axes>"
            ]
          },
          "metadata": {
            "tags": [],
            "needs_background": "light"
          }
        }
      ]
    },
    {
      "cell_type": "code",
      "metadata": {
        "id": "4EbZe1Clb6r1",
        "colab_type": "code",
        "colab": {
          "base_uri": "https://localhost:8080/",
          "height": 321
        },
        "outputId": "ac0111f0-8ba3-4a24-fb27-31ccd0f65a68"
      },
      "source": [
        "#5サイクル目のPCRをシュミレート　Simulate 5th cycle PCR\n",
        "\n",
        "l_5cycles_no2 = list3  + l_5cycles\n",
        "\n",
        "#---------------------------------------------\n",
        "#Execute a function\n",
        "even,odd = Create_the_even_odd(l_5cycles_no2)\n",
        "#---------------------------------------------\n",
        "\n",
        "#---------------------------------------------\n",
        "arr5th = Shuffle_and_divide(odd,even)\n",
        "#print(arr2)\n",
        "#---------------------------------------------\n",
        "\n",
        "#---------------------------------------------\n",
        "#Execute a function\n",
        "l_6cycles = After_two_cycles(items,arr5th)\n",
        "print(l_6cycles)\n",
        "#---------------------------------------------\n",
        "x = l_6cycles\n",
        "\n",
        "sns.distplot(x, kde=False, rug=False, bins=10) "
      ],
      "execution_count": null,
      "outputs": [
        {
          "output_type": "stream",
          "text": [
            "[1, 6, 6, 7, 6, 7, 7, 8, 7, 8, 6, 7, 7, 8, 7, 8, 1, 6, 6, 7, 7, 8, 6, 7, 1, 6, 1, 6, 7, 8, 6, 7, 6, 7, 6, 7, 6, 7, 1, 6, 6, 7, 6, 7, 6, 7, 7, 8, 6, 7, 1, 6, 6, 7, 1, 2, 7, 8, 1, 6, 7, 8, 7, 8, 6, 7, 1, 6, 1, 6, 7, 8, 6, 7, 6, 7, 7, 8, 6, 7, 6, 7, 1, 6, 1, 6, 7, 8, 6, 7, 7, 8, 1, 6, 1, 6, 7, 8, 6, 7, 6, 7, 1, 6, 7, 8, 6, 7, 6, 7, 6, 7, 1, 6, 1, 6, 7, 8, 7, 8, 1, 2, 1, 2, 6, 7, 7, 8, 6, 7, 6, 7, 7, 8, 7, 8, 1, 6, 6, 7, 1, 2, 7, 8, 6, 7, 7, 8, 6, 7, 1, 6, 6, 7, 7, 8, 7, 8, 6, 7, 7, 8, 1, 6, 6, 7, 6, 7, 6, 7]\n"
          ],
          "name": "stdout"
        },
        {
          "output_type": "execute_result",
          "data": {
            "text/plain": [
              "<matplotlib.axes._subplots.AxesSubplot at 0x7f2b4be60668>"
            ]
          },
          "metadata": {
            "tags": []
          },
          "execution_count": 17
        },
        {
          "output_type": "display_data",
          "data": {
            "image/png": "[encoded data removed]",
            "text/plain": [
              "<Figure size 432x288 with 1 Axes>"
            ]
          },
          "metadata": {
            "tags": [],
            "needs_background": "light"
          }
        }
      ]
    },
    {
      "cell_type": "code",
      "metadata": {
        "id": "P7vr-EL9b6w6",
        "colab_type": "code",
        "colab": {
          "base_uri": "https://localhost:8080/",
          "height": 321
        },
        "outputId": "7f928b42-1e59-470c-ec4b-8c0975355443"
      },
      "source": [
        "#6サイクル目のPCRをシュミレート　Simulate 6th cycle PCR\n",
        "\n",
        "l_6cycles_no2 = list3  + l_6cycles\n",
        "\n",
        "#---------------------------------------------\n",
        "#Execute a function\n",
        "even,odd = Create_the_even_odd(l_6cycles_no2)\n",
        "#---------------------------------------------\n",
        "\n",
        "#---------------------------------------------\n",
        "arr6th = Shuffle_and_divide(odd,even)\n",
        "#print(arr2)\n",
        "#---------------------------------------------\n",
        "\n",
        "#---------------------------------------------\n",
        "#Execute a function\n",
        "l_7cycles = After_two_cycles(items,arr6th)\n",
        "print(l_7cycles)\n",
        "#---------------------------------------------\n",
        "x = l_7cycles\n",
        "\n",
        "sns.distplot(x, kde=False, rug=False, bins=10) "
      ],
      "execution_count": null,
      "outputs": [
        {
          "output_type": "stream",
          "text": [
            "[1, 2, 7, 8, 7, 8, 7, 8, 7, 8, 1, 6, 7, 8, 7, 8, 7, 8, 6, 7, 7, 8, 6, 7, 1, 6, 6, 7, 7, 8, 1, 6, 6, 7, 6, 7, 7, 8, 6, 7, 1, 2, 6, 7, 6, 7, 7, 8, 7, 8, 6, 7, 1, 6, 6, 7, 1, 6, 1, 6, 7, 8, 6, 7, 7, 8, 7, 8, 6, 7, 7, 8, 6, 7, 1, 6, 1, 6, 7, 8, 7, 8, 1, 6, 6, 7, 6, 7, 7, 8, 1, 6, 7, 8, 7, 8, 7, 8, 7, 8, 6, 7, 7, 8, 7, 8, 7, 8, 6, 7, 6, 7, 1, 6, 6, 7, 1, 6, 7, 8, 6, 7, 7, 8, 1, 6, 1, 6, 6, 7, 1, 6, 6, 7, 7, 8, 1, 2, 7, 8, 1, 6, 6, 7, 6, 7, 6, 7, 1, 6, 7, 8, 7, 8, 6, 7, 7, 8]\n"
          ],
          "name": "stdout"
        },
        {
          "output_type": "execute_result",
          "data": {
            "text/plain": [
              "<matplotlib.axes._subplots.AxesSubplot at 0x7f2b4bdd5fd0>"
            ]
          },
          "metadata": {
            "tags": []
          },
          "execution_count": 18
        },
        {
          "output_type": "display_data",
          "data": {
            "image/png": "[encoded data removed]",
            "text/plain": [
              "<Figure size 432x288 with 1 Axes>"
            ]
          },
          "metadata": {
            "tags": [],
            "needs_background": "light"
          }
        }
      ]
    },
    {
      "cell_type": "code",
      "metadata": {
        "id": "HzLVSyIZb60N",
        "colab_type": "code",
        "colab": {
          "base_uri": "https://localhost:8080/",
          "height": 324
        },
        "outputId": "44ae7ee5-9da9-431f-c6de-63676b38eef5"
      },
      "source": [
        "#7サイクル目のPCRをシュミレート　Simulate 6th cycle PCR\n",
        "\n",
        "l_7cycles_no2 = list3  + l_7cycles\n",
        "\n",
        "#---------------------------------------------\n",
        "#Execute a function\n",
        "even,odd = Create_the_even_odd(l_7cycles_no2)\n",
        "#---------------------------------------------\n",
        "\n",
        "#---------------------------------------------\n",
        "arr7th = Shuffle_and_divide(odd,even)\n",
        "#print(arr2)\n",
        "#---------------------------------------------\n",
        "\n",
        "#---------------------------------------------\n",
        "#Execute a function\n",
        "l_8cycles = After_two_cycles(items,arr7th)\n",
        "print(l_8cycles)\n",
        "#---------------------------------------------\n",
        "x = l_8cycles\n",
        "\n",
        "sns.distplot(x, kde=False, rug=False, bins=10) "
      ],
      "execution_count": null,
      "outputs": [
        {
          "output_type": "stream",
          "text": [
            "[6, 7, 6, 7, 7, 8, 1, 6, 1, 6, 6, 7, 7, 8, 6, 7, 7, 8, 7, 8, 7, 8, 6, 7, 6, 7, 7, 8, 1, 6, 1, 6, 6, 7, 7, 8, 6, 7, 7, 8, 7, 8, 7, 8, 1, 6, 1, 6, 7, 8, 6, 7, 7, 8, 7, 8, 1, 6, 1, 6, 7, 8, 1, 6, 6, 7, 6, 7, 7, 8, 6, 7, 7, 8, 6, 7, 1, 6, 7, 8, 7, 8, 1, 6, 7, 8, 1, 2, 6, 7, 7, 8, 7, 8, 7, 8, 6, 7, 1, 6, 7, 8, 1, 6, 7, 8, 7, 8, 1, 6, 1, 6, 1, 6, 6, 7, 7, 8, 6, 7, 6, 7, 1, 6, 7, 8, 6, 7, 7, 8, 1, 6, 6, 7]\n"
          ],
          "name": "stdout"
        },
        {
          "output_type": "execute_result",
          "data": {
            "text/plain": [
              "<matplotlib.axes._subplots.AxesSubplot at 0x7f2b4bcb6390>"
            ]
          },
          "metadata": {
            "tags": []
          },
          "execution_count": 19
        },
        {
          "output_type": "display_data",
          "data": {
            "image/png": "[encoded data removed]",
            "text/plain": [
              "<Figure size 432x288 with 1 Axes>"
            ]
          },
          "metadata": {
            "tags": [],
            "needs_background": "light"
          }
        }
      ]
    },
    {
      "cell_type": "code",
      "metadata": {
        "id": "5oywXhHfb65D",
        "colab_type": "code",
        "colab": {}
      },
      "source": [
        ""
      ],
      "execution_count": null,
      "outputs": []
    },
    {
      "cell_type": "code",
      "metadata": {
        "id": "3qiJt7oLb6ug",
        "colab_type": "code",
        "colab": {}
      },
      "source": [
        ""
      ],
      "execution_count": null,
      "outputs": []
    },
    {
      "cell_type": "code",
      "metadata": {
        "id": "JEf5W8B27uZC",
        "colab_type": "code",
        "colab": {}
      },
      "source": [
        ""
      ],
      "execution_count": null,
      "outputs": []
    },
    {
      "cell_type": "code",
      "metadata": {
        "id": "-94OsZ4D9AXE",
        "colab_type": "code",
        "colab": {}
      },
      "source": [
        "#Make a dictionary\n",
        "keys = ['1-4','1-2','3-6','5-4','7-4','8-3']\n",
        "values = [\"1A6A\", \"1A2A\", \"6A7A\",\"8A5A\",\"7A8A\",\"7A8A\"]\n",
        "items = dict(zip(keys, values))\n",
        "#print(items)\n",
        "\n",
        "#1を10こ　3を100個　4を100個　2を10個　作成　Created 10 for 1, 100 for 3, 100 for 4, and 10 for 2.\n",
        "\n",
        "import numpy as np\n",
        "\n",
        "\n",
        "no1= np.full(10,1)\n",
        "no2= np.full(10,2)\n",
        "no3= np.full(100,3)\n",
        "no4= np.full(100,4)\n",
        "\n",
        "no1_l = no1.tolist()\n",
        "no2_l = no2.tolist()\n",
        "no3_l = no3.tolist()\n",
        "no4_l = no4.tolist()\n",
        "\n",
        "\n",
        "list3 = no1_l + no2_l + no3_l + no4_l\n",
        "#print(list3)\n",
        "\n",
        "\n",
        "odd = list(filter(lambda x: x%2 == 1, list3))\n",
        "#print(\"odd\")\n",
        "#print(odd)\n",
        "\n",
        "#Display even numbers\n",
        "even = list(filter(lambda x: x%2 == 0, list3))\n",
        "#print(\"even\")\n",
        "#print(even)\n",
        "\n",
        "import pandas as pd\n",
        "import random\n",
        "\n",
        "#---------------------------------------------\n",
        "\n",
        "def Shuffle_and_divide(odd,even):\n",
        " random.shuffle(odd)\n",
        " #print(odd)\n",
        "\n",
        " random.shuffle(even)\n",
        " #print(even)\n",
        "\n",
        " arr2 = []\n",
        " for i, j in zip(odd, even):\n",
        "    arr2.append([i, j])\n",
        " return arr2\n",
        "\n",
        "\n",
        "#---------------------------------------------\n",
        "arr2 = Shuffle_and_divide(odd,even)\n",
        "#print(arr2)\n",
        "#---------------------------------------------\n",
        "#Retrieve unique value of 2D array (list of list)\n",
        "def get_unique_list(seq):\n",
        "    seen = []\n",
        "    return [x for x in seq if x not in seen and not seen.append(x)]\n",
        "\n",
        "g_unique = get_unique_list(arr2)\n",
        "#print(g_unique)\n",
        "#---------------------------------------------\n",
        "\n",
        "l_2cycle=[]\n",
        "for row in arr2:\n",
        "        keytxt='%s-%s' % (row[0],row[1])\n",
        "        if keytxt in items.keys():\n",
        "         #print(keytxt)\n",
        "         tai = items.get(keytxt)\n",
        "         #print(tai)\n",
        "         l = tai\n",
        "         #int(l)\n",
        "         l_2cycle.append(l)\n",
        "\n",
        "\n",
        "#print(l_2cycle)\n",
        "#---------------------------------------------\n",
        "#奇数と偶数のリストに戻す\n",
        "#Return to odd and even list\n",
        "#str(l_2cycle)\n",
        "#文字列にして分けようと思ったがうまくいかず\n",
        "\n",
        "StrA = \"\".join(map(str, l_2cycle))\n",
        "#print(StrA)\n",
        "l = StrA.split('A')\n",
        "#print(l)\n",
        "\n",
        "l_1 = []\n",
        "for a in l:\n",
        "  if a != '':\n",
        "    l_1.append(a)\n",
        "\n",
        "#print(l_1)\n",
        "#---------------------------------------------\n",
        "\n",
        "#0の値を消したいここがうまくいかない\n",
        "\n",
        "ys = map((lambda x: int(x)), l_1)\n",
        "l_2 = []\n",
        "for y in ys:\n",
        "  #print(y, type(y))\n",
        "  l_2.append(y)\n",
        "#print(ys)\n",
        "\n",
        "print(l_2)\n"
      ],
      "execution_count": null,
      "outputs": []
    },
    {
      "cell_type": "code",
      "metadata": {
        "id": "8wvQC4Sg9Bxe",
        "colab_type": "code",
        "colab": {}
      },
      "source": [
        "\n",
        "\n",
        "\n"
      ],
      "execution_count": null,
      "outputs": []
    },
    {
      "cell_type": "code",
      "metadata": {
        "id": "s8lJpMA63IxO",
        "colab_type": "code",
        "colab": {}
      },
      "source": [
        "#Retrieve unique value of 2D array (list of list)\n",
        "\n",
        "def get_unique_list(seq):\n",
        "    seen = []\n",
        "    return [x for x in seq if x not in seen and not seen.append(x)]\n",
        "\n",
        "g_unique = get_unique_list(arr2)\n",
        "print(g_unique)"
      ],
      "execution_count": null,
      "outputs": []
    },
    {
      "cell_type": "code",
      "metadata": {
        "id": "ltcDYyFZPkPx",
        "colab_type": "code",
        "colab": {}
      },
      "source": [
        "for row in arr2:\n",
        "        keytxt='%s-%s' % (row[0],row[1])\n",
        "        #print(keytxt)"
      ],
      "execution_count": null,
      "outputs": []
    },
    {
      "cell_type": "code",
      "metadata": {
        "id": "tEZ-nIo4g3KO",
        "colab_type": "code",
        "colab": {}
      },
      "source": [
        "#Make a dictionary\n",
        "keys = ['1-4','1-2','3-6','5-4','7-4','8-3']\n",
        "values = [\"1A6A\", \"1A2A\", \"6A7A\",\"8A5A\",\"7A8A\",\"7A8A\"]\n",
        "items = dict(zip(keys, values))\n",
        "print(items)"
      ],
      "execution_count": null,
      "outputs": []
    },
    {
      "cell_type": "code",
      "metadata": {
        "id": "d5Mj_1H5g3HH",
        "colab_type": "code",
        "colab": {}
      },
      "source": [
        "l_2cycle=[]\n",
        "for row in arr2:\n",
        "        keytxt='%s-%s' % (row[0],row[1])\n",
        "        if keytxt in items.keys():\n",
        "         #print(keytxt)\n",
        "         tai = items.get(keytxt)\n",
        "         #print(tai)\n",
        "         l = tai\n",
        "         #int(l)\n",
        "         l_2cycle.append(l)\n",
        "print(l_2cycle)\n",
        "\n",
        "#奇数と偶数のリストに戻す\n",
        "#Return to odd and even list\n",
        "#str(l_2cycle)\n",
        "#文字列にして分けようと思ったがうまくいかず\n",
        "\n",
        "StrA = \"\".join(map(str, l_2cycle))\n",
        "print(StrA)\n",
        "l = StrA.split('A')\n",
        "print(l)\n",
        "\n",
        "#ここがうまくいかない\n",
        "int(l)\n",
        "print(l)\n",
        "odd = list(filter(lambda x: x%2 == 1, l))\n",
        "print(\"odd\")\n",
        "print(odd)\n",
        "\n",
        "#Display even numbers\n",
        "even = list(filter(lambda x: x%2 == 0, l))\n",
        "print(\"even\")\n",
        "print(even)\n"
      ],
      "execution_count": null,
      "outputs": []
    },
    {
      "cell_type": "code",
      "metadata": {
        "id": "1-auqUBgQhPj",
        "colab_type": "code",
        "colab": {}
      },
      "source": [
        ""
      ],
      "execution_count": null,
      "outputs": []
    },
    {
      "cell_type": "code",
      "metadata": {
        "id": "gJHpu5FRg4DW",
        "colab_type": "code",
        "colab": {}
      },
      "source": [
        ""
      ],
      "execution_count": null,
      "outputs": []
    },
    {
      "cell_type": "code",
      "metadata": {
        "id": "6UkeC1Msg4A_",
        "colab_type": "code",
        "colab": {}
      },
      "source": [
        ""
      ],
      "execution_count": null,
      "outputs": []
    },
    {
      "cell_type": "code",
      "metadata": {
        "id": "Lq9NJCf5g3-c",
        "colab_type": "code",
        "colab": {}
      },
      "source": [
        ""
      ],
      "execution_count": null,
      "outputs": []
    },
    {
      "cell_type": "code",
      "metadata": {
        "id": "c9CnQ5AUeA7U",
        "colab_type": "code",
        "colab": {}
      },
      "source": [
        "#ここから辞書を作成したい　I want to create a dictionary from here"
      ],
      "execution_count": null,
      "outputs": []
    },
    {
      "cell_type": "code",
      "metadata": {
        "id": "KWH0MR594yXx",
        "colab_type": "code",
        "colab": {}
      },
      "source": [
        "#I want to create a dictionary from a list\n",
        "\n",
        "keys = ['a', 'b', 'c']\n",
        "values = [10, 20, 30]\n",
        "\n",
        "dic = dict(zip(keys, values)) \n",
        "\n"
      ],
      "execution_count": null,
      "outputs": []
    },
    {
      "cell_type": "code",
      "metadata": {
        "id": "8SbkhStjePAV",
        "colab_type": "code",
        "colab": {}
      },
      "source": [
        "#During dictionary and key practice\n",
        "\n",
        "#Variable i contains the first element of array arr2\n",
        "\n",
        "#I want to retrieve the dictionary value from the list\n",
        "\n",
        "\n",
        "\n",
        "\n",
        "\n",
        "\n",
        "\n",
        "react={}\n",
        "for row in arr2:\n",
        "        keytxt='%s-%s' % (row[0],row[1])\n",
        "        print(keytxt)\n",
        "        print(mydict)\n",
        "        if keytxt in mydict.keys():\n",
        "         print(keytxt)\n",
        "\n",
        "\n",
        "print(\"react\")\n",
        "\n"
      ],
      "execution_count": null,
      "outputs": []
    },
    {
      "cell_type": "code",
      "metadata": {
        "id": "eE9353e70Ckp",
        "colab_type": "code",
        "colab": {}
      },
      "source": [
        "\n",
        "\n",
        "react={}\n",
        "for i in arr2:\n",
        "        keytxt='%s-%s' % (i[0],i[1])\n",
        "        if mydict.get(k2):\n",
        "        print(k2)\n",
        "        #print(react)\n",
        "print(\"react\")\n",
        "print(react)\n",
        "\n",
        "for sset in arr2:\n",
        "    k2='%s-%s' % (sset[0],sset[1])\n",
        "    if mydict.get(k2):\n",
        "        print(k2)\n",
        "\n",
        "print(k2)"
      ],
      "execution_count": null,
      "outputs": []
    },
    {
      "cell_type": "code",
      "metadata": {
        "id": "Bfdcl-dhiPeg",
        "colab_type": "code",
        "colab": {}
      },
      "source": [
        "import codecs\n",
        "import pandas as pd\n",
        "\n",
        "with codecs.open(r'/content/drive/My Drive/arr2.csv', \"r\", \"Shift-JIS\", \"ignore\") as file:\n",
        "    df2 = pd.read_table(file, delimiter=\",\")\n",
        "\n",
        "print(df2)\n",
        "\n",
        "reader = df2\n",
        "\n",
        "#Create a dictionary from Pandas\n",
        "#If you give a value or list/tuple to the character string with the% operator, it can be expanded as follows.\n",
        "react={}\n",
        "for row in reader:\n",
        "        keytxt='%s-%s' % (row[1],row[2])\n",
        "        if keytxt in mydict.keys():\n",
        "         print(keytxt)\n",
        "         \n",
        "print(\"react\")\n",
        "\n",
        "for sset in arr2:\n",
        "    k2='%s-%s' % (sset[0],sset[1])\n",
        "    if react.get(k2):\n",
        "        print(k2)\n",
        "print(k2)"
      ],
      "execution_count": null,
      "outputs": []
    },
    {
      "cell_type": "code",
      "metadata": {
        "id": "eQBKc1JmigU3",
        "colab_type": "code",
        "colab": {}
      },
      "source": [
        "print(sset)"
      ],
      "execution_count": null,
      "outputs": []
    },
    {
      "cell_type": "code",
      "metadata": {
        "id": "ELw19n7V9BuL",
        "colab_type": "code",
        "colab": {}
      },
      "source": [
        "\n",
        "import codecs\n",
        "import pandas as pd\n",
        "\n",
        "with codecs.open(r'/content/drive/My Drive/arr2.csv', \"r\", \"Shift-JIS\", \"ignore\") as file:\n",
        "    df2 = pd.read_table(file, delimiter=\",\")\n",
        "\n",
        "#print(df2)\n",
        "\n",
        "reader = df2\n",
        "\n",
        "print(arr2)\n",
        "\n",
        "#Create a dictionary from Pandas\n",
        "#If you give a value or list/tuple to the character string with the% operator, it can be expanded as follows.\n",
        "\n",
        "#\"row\" is used when exporting Excel. Take out the parts separated by commas! !!\n",
        "react={}\n",
        "for arr2 in reader:\n",
        "        keytxt='%s-%s' % (arr2[1],arr2[2])\n",
        "        keytxt2='%s,waiawawaww,%s' % (arr2[1],arr2[2])\n",
        "        print(keytxt2)\n",
        "        react[keytxt]=1\n",
        "        print(react)\n",
        "print(\"react\")\n",
        "\n",
        "print(react)\n",
        "\n",
        "print(\"keytxt\")\n",
        "\n",
        "print(keytxt)\n",
        "\n",
        "print(\"keytxt2\")\n",
        "\n",
        "print(keytxt2)\n",
        "\n",
        "for sset in arr2:\n",
        "    k2='%s-%s' % (sset[1],sset[2])\n",
        "    if react.get(k2):\n",
        "        print(k2)\n",
        "print(\"k2\")\n",
        "\n",
        "print(k2)\n",
        "\n"
      ],
      "execution_count": null,
      "outputs": []
    },
    {
      "cell_type": "code",
      "metadata": {
        "id": "Ccr_aIdH9BrD",
        "colab_type": "code",
        "colab": {}
      },
      "source": [
        "import codecs\n",
        "import pandas as pd\n",
        "\n",
        "with codecs.open(r'/content/drive/My Drive/arr2.csv', \"r\", \"Shift-JIS\", \"ignore\") as file:\n",
        "    df2 = pd.read_table(file, delimiter=\",\")\n",
        "\n",
        "#print(df2)\n",
        "\n",
        "reader = df2\n",
        "\n",
        "#Create a dictionary from Pandas\n",
        "#If you give a value or list/tuple to the character string with the% operator, it can be expanded as follows.\n",
        "react={}\n",
        "for row in reader:\n",
        "        keytxt='%s-%s' % (row[1],row[2])\n",
        "        \n",
        "        react[keytxt]=1\n",
        "        print(react)\n",
        "print(\"react\")\n",
        "\n",
        "for sset in arr2:\n",
        "    k2='%s-%s' % (sset[0],sset[1])\n",
        "    if react.get(k2):\n",
        "        print(k2)\n",
        "print(k2)\n"
      ],
      "execution_count": null,
      "outputs": []
    },
    {
      "cell_type": "code",
      "metadata": {
        "id": "kKuLqTJ3Vs9C",
        "colab_type": "code",
        "colab": {}
      },
      "source": [
        ""
      ],
      "execution_count": null,
      "outputs": []
    },
    {
      "cell_type": "code",
      "metadata": {
        "id": "sie8lnKoVs6_",
        "colab_type": "code",
        "colab": {}
      },
      "source": [
        ""
      ],
      "execution_count": null,
      "outputs": []
    },
    {
      "cell_type": "code",
      "metadata": {
        "id": "6BaoRP-5Vs4G",
        "colab_type": "code",
        "colab": {}
      },
      "source": [
        ""
      ],
      "execution_count": null,
      "outputs": []
    },
    {
      "cell_type": "code",
      "metadata": {
        "id": "UMrHf3k20rFT",
        "colab_type": "code",
        "colab": {}
      },
      "source": [
        "mylist = [[0]*2 for i in range(3)]\n",
        "print(mylist)\n",
        "\n",
        "mylist1_1 = mylist\n",
        "print(mylist1_1)\n",
        "mylist1_1[2][1]=100\n",
        "print(mylist1_1)\n"
      ],
      "execution_count": null,
      "outputs": []
    },
    {
      "cell_type": "code",
      "metadata": {
        "id": "uL1CuItM9AUZ",
        "colab_type": "code",
        "colab": {}
      },
      "source": [
        ""
      ],
      "execution_count": null,
      "outputs": []
    },
    {
      "cell_type": "code",
      "metadata": {
        "id": "ydCYTy9o1BMg",
        "colab_type": "code",
        "colab": {}
      },
      "source": [
        "for i in range(3):\n",
        "  for w in range(2):\n",
        "\n",
        "   print(i)\n",
        "   print(w)"
      ],
      "execution_count": null,
      "outputs": []
    },
    {
      "cell_type": "code",
      "metadata": {
        "id": "wzjqKw_40NZ9",
        "colab_type": "code",
        "colab": {}
      },
      "source": [
        "\n",
        "def Enter_data(a, b):\n",
        " for i in range(a):\n",
        "  for w in range(b):\n",
        "   print(w)\n",
        "   print(i)\n",
        "\n",
        "\n",
        "Enter_data(2, 3)"
      ],
      "execution_count": null,
      "outputs": []
    },
    {
      "cell_type": "code",
      "metadata": {
        "id": "4Xng0tME19f8",
        "colab_type": "code",
        "colab": {}
      },
      "source": [
        "Enter_data(2, 3)"
      ],
      "execution_count": null,
      "outputs": []
    },
    {
      "cell_type": "code",
      "metadata": {
        "id": "m8AhOjiF2PwF",
        "colab_type": "code",
        "colab": {}
      },
      "source": [
        "mylist2 = mylist\n",
        "\n",
        "def Enter_data2(a, b):\n",
        " for i in range(a):\n",
        "  for w in range(b):\n",
        "   print(w,i)\n",
        "\n",
        "   mylist2[w][0]=w\n",
        "   mylist2[w][1]=w\n",
        "   \n",
        "\n",
        "  return mylist2\n",
        "\n",
        "make_mylist = Enter_data2(2, 3)\n",
        "\n",
        "print(make_mylist)"
      ],
      "execution_count": null,
      "outputs": []
    },
    {
      "cell_type": "code",
      "metadata": {
        "id": "a8z-xoo34UXk",
        "colab_type": "code",
        "colab": {}
      },
      "source": [
        "mylist2 = mylist\n",
        "\n",
        "def Enter_data2(a, b,c,d):\n",
        " for i in range(a):\n",
        "  for w in range(b):\n",
        "   print(w,i)\n",
        "   mylist2[w][0]=c\n",
        "   mylist2[w][1]=d\n",
        "  return mylist2\n",
        "\n",
        "make_mylist = Enter_data2(2, 3,0,0)\n",
        "\n",
        "print(make_mylist)\n",
        "\n",
        "make_mylist = Enter_data2(2, 3,1,2)\n",
        "\n",
        "print(make_mylist)\n",
        "\n",
        "make_mylist = Enter_data2(2, 3,1,5)\n",
        "\n",
        "print(make_mylist)"
      ],
      "execution_count": null,
      "outputs": []
    },
    {
      "cell_type": "code",
      "metadata": {
        "id": "F727ty9e1Un4",
        "colab_type": "code",
        "colab": {}
      },
      "source": [
        "mylist2 = mylist\n",
        "print(mylist2)\n",
        "mylist2[1][0]=100\n",
        "print(mylist2)\n",
        "mylist3 = mylist\n",
        "print(mylist3)\n",
        "\n",
        "mylist4 = list(range(0,7))\n",
        "print(mylist4)\n",
        "\n",
        "for w in range(2):\n",
        "  print(w)\n",
        "  mylist3[0][w]=w\n",
        "  print(mylist3)\n",
        "\n",
        "\n",
        "for w in range(2):\n",
        "  print(w)\n",
        "  mylist3[w][0]=w\n",
        "  print(mylist3)"
      ],
      "execution_count": null,
      "outputs": []
    },
    {
      "cell_type": "code",
      "metadata": {
        "id": "O3ciNuwh1VO0",
        "colab_type": "code",
        "colab": {}
      },
      "source": [
        "lookback = 1\n",
        "\n",
        "for i in range(len(mylist4)):\n",
        " j = 0 - lookback + i\n",
        " k = j + lookback\n",
        "        \n",
        " mylist3[0][0] = mylist4[j]\n",
        " mylist3[0][1] = mylist4[k]\n",
        "\n",
        " print(\"tugihaXdayo\")\n",
        " print(mylist3)\n",
        " print(\"tugihaYdayo\")\n",
        " print(mylist3)"
      ],
      "execution_count": null,
      "outputs": []
    },
    {
      "cell_type": "code",
      "metadata": {
        "id": "JLznKUYo3PF-",
        "colab_type": "code",
        "colab": {}
      },
      "source": [
        "lookback = 1\n",
        "\n",
        "for i in range(len(mylist4)):\n",
        " j = i \n",
        "  \n",
        " mylist3[0][j] = mylist4[j-1]\n",
        " mylist3[0][j] = mylist4[j]\n",
        " mylist3[0][j] = mylist4[j]\n",
        "\n",
        "\n",
        " print(\"tugihaXdayo\")\n",
        " print(mylist3)\n",
        " print(\"tugihaYdayo\")\n",
        " print(mylist3)"
      ],
      "execution_count": null,
      "outputs": []
    },
    {
      "cell_type": "code",
      "metadata": {
        "id": "1z7ADz3D3PJe",
        "colab_type": "code",
        "colab": {}
      },
      "source": [
        ""
      ],
      "execution_count": null,
      "outputs": []
    }
  ]
}