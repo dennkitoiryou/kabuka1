{
  "nbformat": 4,
  "nbformat_minor": 0,
  "metadata": {
    "colab": {
      "name": "202008 make_ Two-dimensional_array_list.ipynb ",
      "provenance": [],
      "collapsed_sections": [],
      "mount_file_id": "1oOXtb2U_upVIz9KuwL-WSrScDG1iXc8o",
      "authorship_tag": "ABX9TyNQ6hu6TamMr8JkdDzFFv3c"
    },
    "kernelspec": {
      "name": "python3",
      "display_name": "Python 3"
    }
  },
  "cells": [
    {
      "cell_type": "code",
      "metadata": {
        "id": "-94OsZ4D9AXE",
        "colab_type": "code",
        "colab": {
          "base_uri": "https://localhost:8080/",
          "height": 105
        },
        "outputId": "775f9ccb-994f-4cdd-c314-c715db9776c3"
      },
      "source": [
        "\n",
        "list2 = list(range(1,101))\n",
        "\n",
        "odd = list(filter(lambda x: x%2 == 1, list2))\n",
        "print(\"odd\")\n",
        "print(odd)\n",
        "\n",
        "#Display even numbers\n",
        "even = list(filter(lambda x: x%2 == 0, list2))\n",
        "print(\"even\")\n",
        "print(even)"
      ],
      "execution_count": 5,
      "outputs": [
        {
          "output_type": "stream",
          "text": [
            "odd\n",
            "[1, 3, 5, 7, 9, 11, 13, 15, 17, 19, 21, 23, 25, 27, 29, 31, 33, 35, 37, 39, 41, 43, 45, 47, 49, 51, 53, 55, 57, 59, 61, 63, 65, 67, 69, 71, 73, 75, 77, 79, 81, 83, 85, 87, 89, 91, 93, 95, 97, 99]\n",
            "even\n",
            "[2, 4, 6, 8, 10, 12, 14, 16, 18, 20, 22, 24, 26, 28, 30, 32, 34, 36, 38, 40, 42, 44, 46, 48, 50, 52, 54, 56, 58, 60, 62, 64, 66, 68, 70, 72, 74, 76, 78, 80, 82, 84, 86, 88, 90, 92, 94, 96, 98, 100]\n"
          ],
          "name": "stdout"
        }
      ]
    },
    {
      "cell_type": "code",
      "metadata": {
        "id": "8wvQC4Sg9Bxe",
        "colab_type": "code",
        "colab": {
          "base_uri": "https://localhost:8080/",
          "height": 1000
        },
        "outputId": "dd63187a-9c35-43f7-91c7-0004cc46f5e7"
      },
      "source": [
        "import pandas as pd\n",
        "import random\n",
        "random.shuffle(odd)\n",
        "print(odd)\n",
        "\n",
        "random.shuffle(even)\n",
        "print(even)\n",
        "\n",
        "arr2 = []\n",
        "for i, j in zip(odd, even):\n",
        "    arr2.append([i, j])\n",
        "print(arr2)\n",
        "df = pd.DataFrame(arr2,\n",
        "                  columns=['odd', 'even'])\n",
        "print(\"arr2\")\n",
        "print(arr2)\n",
        "print(\"df\")\n",
        "print(df)\n",
        "\n",
        "df.to_csv(r'/content/drive/My Drive/arr2.csv', encoding = \"shift-jis\")"
      ],
      "execution_count": 8,
      "outputs": [
        {
          "output_type": "stream",
          "text": [
            "[75, 17, 11, 67, 59, 15, 39, 81, 77, 3, 65, 93, 79, 37, 83, 73, 21, 27, 53, 87, 85, 35, 61, 1, 89, 45, 55, 71, 43, 41, 13, 47, 97, 29, 33, 25, 63, 49, 99, 57, 7, 23, 31, 19, 5, 9, 91, 69, 51, 95]\n",
            "[70, 92, 32, 34, 36, 62, 52, 6, 82, 2, 100, 86, 64, 60, 96, 20, 38, 24, 98, 74, 54, 88, 48, 90, 30, 40, 58, 72, 56, 80, 8, 66, 78, 26, 42, 12, 22, 4, 18, 50, 94, 84, 28, 14, 44, 16, 46, 10, 76, 68]\n",
            "[[75, 70], [17, 92], [11, 32], [67, 34], [59, 36], [15, 62], [39, 52], [81, 6], [77, 82], [3, 2], [65, 100], [93, 86], [79, 64], [37, 60], [83, 96], [73, 20], [21, 38], [27, 24], [53, 98], [87, 74], [85, 54], [35, 88], [61, 48], [1, 90], [89, 30], [45, 40], [55, 58], [71, 72], [43, 56], [41, 80], [13, 8], [47, 66], [97, 78], [29, 26], [33, 42], [25, 12], [63, 22], [49, 4], [99, 18], [57, 50], [7, 94], [23, 84], [31, 28], [19, 14], [5, 44], [9, 16], [91, 46], [69, 10], [51, 76], [95, 68]]\n",
            "arr2\n",
            "[[75, 70], [17, 92], [11, 32], [67, 34], [59, 36], [15, 62], [39, 52], [81, 6], [77, 82], [3, 2], [65, 100], [93, 86], [79, 64], [37, 60], [83, 96], [73, 20], [21, 38], [27, 24], [53, 98], [87, 74], [85, 54], [35, 88], [61, 48], [1, 90], [89, 30], [45, 40], [55, 58], [71, 72], [43, 56], [41, 80], [13, 8], [47, 66], [97, 78], [29, 26], [33, 42], [25, 12], [63, 22], [49, 4], [99, 18], [57, 50], [7, 94], [23, 84], [31, 28], [19, 14], [5, 44], [9, 16], [91, 46], [69, 10], [51, 76], [95, 68]]\n",
            "df\n",
            "    odd  even\n",
            "0    75    70\n",
            "1    17    92\n",
            "2    11    32\n",
            "3    67    34\n",
            "4    59    36\n",
            "5    15    62\n",
            "6    39    52\n",
            "7    81     6\n",
            "8    77    82\n",
            "9     3     2\n",
            "10   65   100\n",
            "11   93    86\n",
            "12   79    64\n",
            "13   37    60\n",
            "14   83    96\n",
            "15   73    20\n",
            "16   21    38\n",
            "17   27    24\n",
            "18   53    98\n",
            "19   87    74\n",
            "20   85    54\n",
            "21   35    88\n",
            "22   61    48\n",
            "23    1    90\n",
            "24   89    30\n",
            "25   45    40\n",
            "26   55    58\n",
            "27   71    72\n",
            "28   43    56\n",
            "29   41    80\n",
            "30   13     8\n",
            "31   47    66\n",
            "32   97    78\n",
            "33   29    26\n",
            "34   33    42\n",
            "35   25    12\n",
            "36   63    22\n",
            "37   49     4\n",
            "38   99    18\n",
            "39   57    50\n",
            "40    7    94\n",
            "41   23    84\n",
            "42   31    28\n",
            "43   19    14\n",
            "44    5    44\n",
            "45    9    16\n",
            "46   91    46\n",
            "47   69    10\n",
            "48   51    76\n",
            "49   95    68\n"
          ],
          "name": "stdout"
        }
      ]
    },
    {
      "cell_type": "code",
      "metadata": {
        "id": "ELw19n7V9BuL",
        "colab_type": "code",
        "colab": {
          "base_uri": "https://localhost:8080/",
          "height": 255
        },
        "outputId": "03301d4d-deaa-4e66-9304-ea76f40c2b02"
      },
      "source": [
        "import codecs\n",
        "import pandas as pd\n",
        "\n",
        "with codecs.open(r'/content/drive/My Drive/arr2.csv', \"r\", \"Shift-JIS\", \"ignore\") as file:\n",
        "    df2 = pd.read_table(file, delimiter=\",\")\n",
        "\n",
        "#print(df2)\n",
        "\n",
        "reader = df2\n",
        "\n",
        "#Create a dictionary from Pandas\n",
        "#If you give a value or list/tuple to the character string with the% operator, it can be expanded as follows.\n",
        "react={}\n",
        "for row in reader:\n",
        "        keytxt='%s-%s' % (row[1],row[2])\n",
        "        keytxt2='%s,waiawawaww,%s' % (row[1],row[2])\n",
        "        print(keytxt2)\n",
        "        react[keytxt]=1\n",
        "        print(react)\n",
        "print(\"react\")\n",
        "\n",
        "print(react)\n",
        "\n",
        "print(\"keytxt\")\n",
        "\n",
        "print(keytxt)\n",
        "\n",
        "print(\"keytxt2\")\n",
        "\n",
        "print(keytxt2)\n",
        "\n",
        "for sset in arr2:\n",
        "    k2='%s-%s' % (sset[0],sset[1])\n",
        "    if react.get(k2):\n",
        "        print(k2)\n",
        "print(\"k2\")\n",
        "\n",
        "print(k2)\n",
        "\n"
      ],
      "execution_count": 16,
      "outputs": [
        {
          "output_type": "stream",
          "text": [
            "n,waiawawaww,n\n",
            "{'n-n': 1}\n",
            "d,waiawawaww,d\n",
            "{'n-n': 1, 'd-d': 1}\n",
            "v,waiawawaww,e\n",
            "{'n-n': 1, 'd-d': 1, 'v-e': 1}\n",
            "react\n",
            "{'n-n': 1, 'd-d': 1, 'v-e': 1}\n",
            "keytxt\n",
            "v-e\n",
            "keytxt2\n",
            "v,waiawawaww,e\n",
            "k2\n",
            "95-68\n"
          ],
          "name": "stdout"
        }
      ]
    },
    {
      "cell_type": "code",
      "metadata": {
        "id": "Ccr_aIdH9BrD",
        "colab_type": "code",
        "colab": {
          "base_uri": "https://localhost:8080/",
          "height": 304
        },
        "outputId": "25758c12-ec4a-4f3b-d867-ff4e8abe7dcb"
      },
      "source": [
        "import codecs\n",
        "import pandas as pd\n",
        "\n",
        "with codecs.open(r'/content/drive/My Drive/arr2.csv', \"r\", \"Shift-JIS\", \"ignore\") as file:\n",
        "    df2 = pd.read_table(file, delimiter=\",\")\n",
        "\n",
        "#print(df2)\n",
        "\n",
        "reader = df2\n",
        "\n",
        "#Create a dictionary from Pandas\n",
        "#If you give a value or list/tuple to the character string with the% operator, it can be expanded as follows.\n",
        "react={}\n",
        "for row in reader:\n",
        "        keytxt='%s-%s' % (row[1],row[2])\n",
        "        \n",
        "        react[keytxt]=1\n",
        "        print(react)\n",
        "print(\"react\")\n",
        "\n",
        "for sset in arr2:\n",
        "    k2='%s-%s' % (sset[0],sset[1])\n",
        "    if react.get(k2):\n",
        "        print(k2)\n",
        "print(k2)\n"
      ],
      "execution_count": 4,
      "outputs": [
        {
          "output_type": "stream",
          "text": [
            "{'n-n': 1}\n",
            "{'n-n': 1, 'd-d': 1}\n",
            "{'n-n': 1, 'd-d': 1, 'v-e': 1}\n",
            "react\n"
          ],
          "name": "stdout"
        },
        {
          "output_type": "error",
          "ename": "NameError",
          "evalue": "ignored",
          "traceback": [
            "\u001b[0;31m---------------------------------------------------------------------------\u001b[0m",
            "\u001b[0;31mNameError\u001b[0m                                 Traceback (most recent call last)",
            "\u001b[0;32m<ipython-input-4-65bdde7b1376>\u001b[0m in \u001b[0;36m<module>\u001b[0;34m()\u001b[0m\n\u001b[1;32m     19\u001b[0m \u001b[0mprint\u001b[0m\u001b[0;34m(\u001b[0m\u001b[0;34m\"react\"\u001b[0m\u001b[0;34m)\u001b[0m\u001b[0;34m\u001b[0m\u001b[0;34m\u001b[0m\u001b[0m\n\u001b[1;32m     20\u001b[0m \u001b[0;34m\u001b[0m\u001b[0m\n\u001b[0;32m---> 21\u001b[0;31m \u001b[0;32mfor\u001b[0m \u001b[0msset\u001b[0m \u001b[0;32min\u001b[0m \u001b[0marr2\u001b[0m\u001b[0;34m:\u001b[0m\u001b[0;34m\u001b[0m\u001b[0;34m\u001b[0m\u001b[0m\n\u001b[0m\u001b[1;32m     22\u001b[0m     \u001b[0mk2\u001b[0m\u001b[0;34m=\u001b[0m\u001b[0;34m'%s-%s'\u001b[0m \u001b[0;34m%\u001b[0m \u001b[0;34m(\u001b[0m\u001b[0msset\u001b[0m\u001b[0;34m[\u001b[0m\u001b[0;36m0\u001b[0m\u001b[0;34m]\u001b[0m\u001b[0;34m,\u001b[0m\u001b[0msset\u001b[0m\u001b[0;34m[\u001b[0m\u001b[0;36m1\u001b[0m\u001b[0;34m]\u001b[0m\u001b[0;34m)\u001b[0m\u001b[0;34m\u001b[0m\u001b[0;34m\u001b[0m\u001b[0m\n\u001b[1;32m     23\u001b[0m     \u001b[0;32mif\u001b[0m \u001b[0mreact\u001b[0m\u001b[0;34m.\u001b[0m\u001b[0mget\u001b[0m\u001b[0;34m(\u001b[0m\u001b[0mk2\u001b[0m\u001b[0;34m)\u001b[0m\u001b[0;34m:\u001b[0m\u001b[0;34m\u001b[0m\u001b[0;34m\u001b[0m\u001b[0m\n",
            "\u001b[0;31mNameError\u001b[0m: name 'arr2' is not defined"
          ]
        }
      ]
    },
    {
      "cell_type": "code",
      "metadata": {
        "id": "kKuLqTJ3Vs9C",
        "colab_type": "code",
        "colab": {}
      },
      "source": [
        ""
      ],
      "execution_count": null,
      "outputs": []
    },
    {
      "cell_type": "code",
      "metadata": {
        "id": "sie8lnKoVs6_",
        "colab_type": "code",
        "colab": {}
      },
      "source": [
        ""
      ],
      "execution_count": null,
      "outputs": []
    },
    {
      "cell_type": "code",
      "metadata": {
        "id": "6BaoRP-5Vs4G",
        "colab_type": "code",
        "colab": {}
      },
      "source": [
        ""
      ],
      "execution_count": null,
      "outputs": []
    },
    {
      "cell_type": "code",
      "metadata": {
        "id": "UMrHf3k20rFT",
        "colab_type": "code",
        "colab": {
          "base_uri": "https://localhost:8080/",
          "height": 68
        },
        "outputId": "02b816d6-1f36-4d2d-fc74-ffd4e509aa11"
      },
      "source": [
        "mylist = [[0]*2 for i in range(3)]\n",
        "print(mylist)\n",
        "\n",
        "mylist1_1 = mylist\n",
        "print(mylist1_1)\n",
        "mylist1_1[2][1]=100\n",
        "print(mylist1_1)\n"
      ],
      "execution_count": null,
      "outputs": [
        {
          "output_type": "stream",
          "text": [
            "[[0, 0], [0, 0], [0, 0]]\n",
            "[[0, 0], [0, 0], [0, 0]]\n",
            "[[0, 0], [0, 0], [0, 100]]\n"
          ],
          "name": "stdout"
        }
      ]
    },
    {
      "cell_type": "code",
      "metadata": {
        "id": "uL1CuItM9AUZ",
        "colab_type": "code",
        "colab": {}
      },
      "source": [
        ""
      ],
      "execution_count": null,
      "outputs": []
    },
    {
      "cell_type": "code",
      "metadata": {
        "id": "ydCYTy9o1BMg",
        "colab_type": "code",
        "colab": {
          "base_uri": "https://localhost:8080/",
          "height": 221
        },
        "outputId": "0c111f3e-a8a8-491b-8f15-f4bbedb59aab"
      },
      "source": [
        "for i in range(3):\n",
        "  for w in range(2):\n",
        "\n",
        "   print(i)\n",
        "   print(w)"
      ],
      "execution_count": null,
      "outputs": [
        {
          "output_type": "stream",
          "text": [
            "0\n",
            "0\n",
            "0\n",
            "1\n",
            "1\n",
            "0\n",
            "1\n",
            "1\n",
            "2\n",
            "0\n",
            "2\n",
            "1\n"
          ],
          "name": "stdout"
        }
      ]
    },
    {
      "cell_type": "code",
      "metadata": {
        "id": "wzjqKw_40NZ9",
        "colab_type": "code",
        "colab": {
          "base_uri": "https://localhost:8080/",
          "height": 221
        },
        "outputId": "71bf5505-1e12-4b29-bbaf-b18da35aeceb"
      },
      "source": [
        "\n",
        "def Enter_data(a, b):\n",
        " for i in range(a):\n",
        "  for w in range(b):\n",
        "   print(w)\n",
        "   print(i)\n",
        "\n",
        "\n",
        "Enter_data(2, 3)"
      ],
      "execution_count": null,
      "outputs": [
        {
          "output_type": "stream",
          "text": [
            "0\n",
            "0\n",
            "1\n",
            "0\n",
            "2\n",
            "0\n",
            "0\n",
            "1\n",
            "1\n",
            "1\n",
            "2\n",
            "1\n"
          ],
          "name": "stdout"
        }
      ]
    },
    {
      "cell_type": "code",
      "metadata": {
        "id": "4Xng0tME19f8",
        "colab_type": "code",
        "colab": {
          "base_uri": "https://localhost:8080/",
          "height": 221
        },
        "outputId": "d722a8d1-8212-4efd-a245-193ca5ad87bf"
      },
      "source": [
        "Enter_data(2, 3)"
      ],
      "execution_count": null,
      "outputs": [
        {
          "output_type": "stream",
          "text": [
            "0\n",
            "0\n",
            "1\n",
            "0\n",
            "2\n",
            "0\n",
            "0\n",
            "1\n",
            "1\n",
            "1\n",
            "2\n",
            "1\n"
          ],
          "name": "stdout"
        }
      ]
    },
    {
      "cell_type": "code",
      "metadata": {
        "id": "m8AhOjiF2PwF",
        "colab_type": "code",
        "colab": {
          "base_uri": "https://localhost:8080/",
          "height": 85
        },
        "outputId": "dfbc9dbe-8ec4-4e64-ed86-41bec9533c42"
      },
      "source": [
        "mylist2 = mylist\n",
        "\n",
        "def Enter_data2(a, b):\n",
        " for i in range(a):\n",
        "  for w in range(b):\n",
        "   print(w,i)\n",
        "\n",
        "   mylist2[w][0]=w\n",
        "   mylist2[w][1]=w\n",
        "   \n",
        "\n",
        "  return mylist2\n",
        "\n",
        "make_mylist = Enter_data2(2, 3)\n",
        "\n",
        "print(make_mylist)"
      ],
      "execution_count": null,
      "outputs": [
        {
          "output_type": "stream",
          "text": [
            "0 0\n",
            "1 0\n",
            "2 0\n",
            "[[0, 0], [1, 1], [2, 2]]\n"
          ],
          "name": "stdout"
        }
      ]
    },
    {
      "cell_type": "code",
      "metadata": {
        "id": "a8z-xoo34UXk",
        "colab_type": "code",
        "colab": {
          "base_uri": "https://localhost:8080/",
          "height": 221
        },
        "outputId": "e0eb2c20-1592-4538-a0be-76a9c0e9bfa8"
      },
      "source": [
        "mylist2 = mylist\n",
        "\n",
        "def Enter_data2(a, b,c,d):\n",
        " for i in range(a):\n",
        "  for w in range(b):\n",
        "   print(w,i)\n",
        "   mylist2[w][0]=c\n",
        "   mylist2[w][1]=d\n",
        "  return mylist2\n",
        "\n",
        "make_mylist = Enter_data2(2, 3,0,0)\n",
        "\n",
        "print(make_mylist)\n",
        "\n",
        "make_mylist = Enter_data2(2, 3,1,2)\n",
        "\n",
        "print(make_mylist)\n",
        "\n",
        "make_mylist = Enter_data2(2, 3,1,5)\n",
        "\n",
        "print(make_mylist)"
      ],
      "execution_count": null,
      "outputs": [
        {
          "output_type": "stream",
          "text": [
            "0 0\n",
            "1 0\n",
            "2 0\n",
            "[[0, 0], [0, 0], [0, 0]]\n",
            "0 0\n",
            "1 0\n",
            "2 0\n",
            "[[1, 2], [1, 2], [1, 2]]\n",
            "0 0\n",
            "1 0\n",
            "2 0\n",
            "[[1, 5], [1, 5], [1, 5]]\n"
          ],
          "name": "stdout"
        }
      ]
    },
    {
      "cell_type": "code",
      "metadata": {
        "id": "F727ty9e1Un4",
        "colab_type": "code",
        "colab": {
          "base_uri": "https://localhost:8080/",
          "height": 221
        },
        "outputId": "76878a49-dbeb-4296-e733-d1d607069a91"
      },
      "source": [
        "mylist2 = mylist\n",
        "print(mylist2)\n",
        "mylist2[1][0]=100\n",
        "print(mylist2)\n",
        "mylist3 = mylist\n",
        "print(mylist3)\n",
        "\n",
        "mylist4 = list(range(0,7))\n",
        "print(mylist4)\n",
        "\n",
        "for w in range(2):\n",
        "  print(w)\n",
        "  mylist3[0][w]=w\n",
        "  print(mylist3)\n",
        "\n",
        "\n",
        "for w in range(2):\n",
        "  print(w)\n",
        "  mylist3[w][0]=w\n",
        "  print(mylist3)"
      ],
      "execution_count": null,
      "outputs": [
        {
          "output_type": "stream",
          "text": [
            "[[0, 0], [1, 1], [2, 2]]\n",
            "[[0, 0], [100, 1], [2, 2]]\n",
            "[[0, 0], [100, 1], [2, 2]]\n",
            "[0, 1, 2, 3, 4, 5, 6]\n",
            "0\n",
            "[[0, 0], [100, 1], [2, 2]]\n",
            "1\n",
            "[[0, 1], [100, 1], [2, 2]]\n",
            "0\n",
            "[[0, 1], [100, 1], [2, 2]]\n",
            "1\n",
            "[[0, 1], [1, 1], [2, 2]]\n"
          ],
          "name": "stdout"
        }
      ]
    },
    {
      "cell_type": "code",
      "metadata": {
        "id": "O3ciNuwh1VO0",
        "colab_type": "code",
        "colab": {
          "base_uri": "https://localhost:8080/",
          "height": 493
        },
        "outputId": "5185d9e5-cd87-4f44-c67e-e698903ce3cc"
      },
      "source": [
        "lookback = 1\n",
        "\n",
        "for i in range(len(mylist4)):\n",
        " j = 0 - lookback + i\n",
        " k = j + lookback\n",
        "        \n",
        " mylist3[0][0] = mylist4[j]\n",
        " mylist3[0][1] = mylist4[k]\n",
        "\n",
        " print(\"tugihaXdayo\")\n",
        " print(mylist3)\n",
        " print(\"tugihaYdayo\")\n",
        " print(mylist3)"
      ],
      "execution_count": null,
      "outputs": [
        {
          "output_type": "stream",
          "text": [
            "tugihaXdayo\n",
            "[[6, 0], [1, 1], [2, 2]]\n",
            "tugihaYdayo\n",
            "[[6, 0], [1, 1], [2, 2]]\n",
            "tugihaXdayo\n",
            "[[0, 1], [1, 1], [2, 2]]\n",
            "tugihaYdayo\n",
            "[[0, 1], [1, 1], [2, 2]]\n",
            "tugihaXdayo\n",
            "[[1, 2], [1, 1], [2, 2]]\n",
            "tugihaYdayo\n",
            "[[1, 2], [1, 1], [2, 2]]\n",
            "tugihaXdayo\n",
            "[[2, 3], [1, 1], [2, 2]]\n",
            "tugihaYdayo\n",
            "[[2, 3], [1, 1], [2, 2]]\n",
            "tugihaXdayo\n",
            "[[3, 4], [1, 1], [2, 2]]\n",
            "tugihaYdayo\n",
            "[[3, 4], [1, 1], [2, 2]]\n",
            "tugihaXdayo\n",
            "[[4, 5], [1, 1], [2, 2]]\n",
            "tugihaYdayo\n",
            "[[4, 5], [1, 1], [2, 2]]\n",
            "tugihaXdayo\n",
            "[[5, 6], [1, 1], [2, 2]]\n",
            "tugihaYdayo\n",
            "[[5, 6], [1, 1], [2, 2]]\n"
          ],
          "name": "stdout"
        }
      ]
    },
    {
      "cell_type": "code",
      "metadata": {
        "id": "JLznKUYo3PF-",
        "colab_type": "code",
        "colab": {
          "base_uri": "https://localhost:8080/",
          "height": 372
        },
        "outputId": "f047a2a2-4ad5-4a9e-8cd5-461848244eef"
      },
      "source": [
        "lookback = 1\n",
        "\n",
        "for i in range(len(mylist4)):\n",
        " j = i \n",
        "  \n",
        " mylist3[0][j] = mylist4[j-1]\n",
        " mylist3[0][j] = mylist4[j]\n",
        " mylist3[0][j] = mylist4[j]\n",
        "\n",
        "\n",
        " print(\"tugihaXdayo\")\n",
        " print(mylist3)\n",
        " print(\"tugihaYdayo\")\n",
        " print(mylist3)"
      ],
      "execution_count": null,
      "outputs": [
        {
          "output_type": "stream",
          "text": [
            "tugihaXdayo\n",
            "[[0, 1], [1, 1], [2, 2]]\n",
            "tugihaYdayo\n",
            "[[0, 1], [1, 1], [2, 2]]\n",
            "tugihaXdayo\n",
            "[[0, 1], [1, 1], [2, 2]]\n",
            "tugihaYdayo\n",
            "[[0, 1], [1, 1], [2, 2]]\n"
          ],
          "name": "stdout"
        },
        {
          "output_type": "error",
          "ename": "IndexError",
          "evalue": "ignored",
          "traceback": [
            "\u001b[0;31m---------------------------------------------------------------------------\u001b[0m",
            "\u001b[0;31mIndexError\u001b[0m                                Traceback (most recent call last)",
            "\u001b[0;32m<ipython-input-115-d3f6c760e2a1>\u001b[0m in \u001b[0;36m<module>\u001b[0;34m()\u001b[0m\n\u001b[1;32m      4\u001b[0m  \u001b[0mj\u001b[0m \u001b[0;34m=\u001b[0m \u001b[0mi\u001b[0m\u001b[0;34m\u001b[0m\u001b[0;34m\u001b[0m\u001b[0m\n\u001b[1;32m      5\u001b[0m \u001b[0;34m\u001b[0m\u001b[0m\n\u001b[0;32m----> 6\u001b[0;31m  \u001b[0mmylist3\u001b[0m\u001b[0;34m[\u001b[0m\u001b[0;36m0\u001b[0m\u001b[0;34m]\u001b[0m\u001b[0;34m[\u001b[0m\u001b[0mj\u001b[0m\u001b[0;34m]\u001b[0m \u001b[0;34m=\u001b[0m \u001b[0mmylist4\u001b[0m\u001b[0;34m[\u001b[0m\u001b[0mj\u001b[0m\u001b[0;34m-\u001b[0m\u001b[0;36m1\u001b[0m\u001b[0;34m]\u001b[0m\u001b[0;34m\u001b[0m\u001b[0;34m\u001b[0m\u001b[0m\n\u001b[0m\u001b[1;32m      7\u001b[0m  \u001b[0mmylist3\u001b[0m\u001b[0;34m[\u001b[0m\u001b[0;36m0\u001b[0m\u001b[0;34m]\u001b[0m\u001b[0;34m[\u001b[0m\u001b[0mj\u001b[0m\u001b[0;34m]\u001b[0m \u001b[0;34m=\u001b[0m \u001b[0mmylist4\u001b[0m\u001b[0;34m[\u001b[0m\u001b[0mj\u001b[0m\u001b[0;34m]\u001b[0m\u001b[0;34m\u001b[0m\u001b[0;34m\u001b[0m\u001b[0m\n\u001b[1;32m      8\u001b[0m  \u001b[0mmylist3\u001b[0m\u001b[0;34m[\u001b[0m\u001b[0;36m0\u001b[0m\u001b[0;34m]\u001b[0m\u001b[0;34m[\u001b[0m\u001b[0mj\u001b[0m\u001b[0;34m]\u001b[0m \u001b[0;34m=\u001b[0m \u001b[0mmylist4\u001b[0m\u001b[0;34m[\u001b[0m\u001b[0mj\u001b[0m\u001b[0;34m]\u001b[0m\u001b[0;34m\u001b[0m\u001b[0;34m\u001b[0m\u001b[0m\n",
            "\u001b[0;31mIndexError\u001b[0m: list assignment index out of range"
          ]
        }
      ]
    },
    {
      "cell_type": "code",
      "metadata": {
        "id": "1z7ADz3D3PJe",
        "colab_type": "code",
        "colab": {}
      },
      "source": [
        ""
      ],
      "execution_count": null,
      "outputs": []
    }
  ]
}