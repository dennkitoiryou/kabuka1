{
  "nbformat": 4,
  "nbformat_minor": 0,
  "metadata": {
    "colab": {
      "name": "20200708 make_ Two-dimensional_array_list.ipynb ",
      "provenance": [],
      "collapsed_sections": [],
      "mount_file_id": "1oOXtb2U_upVIz9KuwL-WSrScDG1iXc8o",
      "authorship_tag": "ABX9TyOf+dKfTIobCwCPMR7PVXHQ",
      "include_colab_link": true
    },
    "kernelspec": {
      "name": "python3",
      "display_name": "Python 3"
    }
  },
  "cells": [
    {
      "cell_type": "markdown",
      "metadata": {
        "id": "view-in-github",
        "colab_type": "text"
      },
      "source": [
        "<a href=\"https://colab.research.google.com/github/dennkitotaichi/kabuka1/blob/master/20200708_make__Two_dimensional_array_list.ipynb\" target=\"_parent\"><img src=\"https://colab.research.google.com/assets/colab-badge.svg\" alt=\"Open In Colab\"/></a>"
      ]
    },
    {
      "cell_type": "code",
      "metadata": {
        "id": "gRLZ0xpNfyHW",
        "colab_type": "code",
        "colab": {}
      },
      "source": [
        ""
      ],
      "execution_count": 23,
      "outputs": []
    },
    {
      "cell_type": "code",
      "metadata": {
        "id": "-94OsZ4D9AXE",
        "colab_type": "code",
        "colab": {
          "base_uri": "https://localhost:8080/",
          "height": 105
        },
        "outputId": "7561e526-dc17-4061-881b-c46c726799cb"
      },
      "source": [
        "\n",
        "list2 = list(range(1,101))\n",
        "\n",
        "odd = list(filter(lambda x: x%2 == 1, list2))\n",
        "print(\"odd\")\n",
        "print(odd)\n",
        "\n",
        "#Display even numbers\n",
        "even = list(filter(lambda x: x%2 == 0, list2))\n",
        "print(\"even\")\n",
        "print(even)"
      ],
      "execution_count": 2,
      "outputs": [
        {
          "output_type": "stream",
          "text": [
            "odd\n",
            "[1, 3, 5, 7, 9, 11, 13, 15, 17, 19, 21, 23, 25, 27, 29, 31, 33, 35, 37, 39, 41, 43, 45, 47, 49, 51, 53, 55, 57, 59, 61, 63, 65, 67, 69, 71, 73, 75, 77, 79, 81, 83, 85, 87, 89, 91, 93, 95, 97, 99]\n",
            "even\n",
            "[2, 4, 6, 8, 10, 12, 14, 16, 18, 20, 22, 24, 26, 28, 30, 32, 34, 36, 38, 40, 42, 44, 46, 48, 50, 52, 54, 56, 58, 60, 62, 64, 66, 68, 70, 72, 74, 76, 78, 80, 82, 84, 86, 88, 90, 92, 94, 96, 98, 100]\n"
          ],
          "name": "stdout"
        }
      ]
    },
    {
      "cell_type": "code",
      "metadata": {
        "id": "8wvQC4Sg9Bxe",
        "colab_type": "code",
        "colab": {
          "base_uri": "https://localhost:8080/",
          "height": 1000
        },
        "outputId": "49acb29b-c744-4672-c88e-556c29830beb"
      },
      "source": [
        "import pandas as pd\n",
        "import random\n",
        "random.shuffle(odd)\n",
        "print(odd)\n",
        "\n",
        "random.shuffle(even)\n",
        "print(even)\n",
        "\n",
        "arr2 = []\n",
        "for i, j in zip(odd, even):\n",
        "    arr2.append([i, j])\n",
        "print(arr2)\n",
        "df = pd.DataFrame(arr2,\n",
        "                  columns=['odd', 'even'])\n",
        "print(\"arr2\")\n",
        "print(arr2)\n",
        "print(\"df\")\n",
        "print(df)\n",
        "\n",
        "df.to_csv(r'/content/drive/My Drive/arr2.csv', encoding = \"shift-jis\")\n",
        "\n",
        "\n"
      ],
      "execution_count": 5,
      "outputs": [
        {
          "output_type": "stream",
          "text": [
            "[5, 61, 73, 23, 47, 69, 67, 3, 37, 25, 63, 39, 91, 57, 1, 93, 99, 45, 51, 27, 9, 31, 35, 85, 53, 21, 59, 89, 75, 33, 43, 19, 29, 7, 17, 11, 65, 79, 77, 95, 83, 41, 87, 81, 55, 13, 49, 97, 15, 71]\n",
            "[76, 18, 14, 2, 46, 26, 74, 34, 32, 70, 94, 80, 86, 58, 50, 12, 84, 64, 98, 96, 88, 24, 42, 30, 8, 6, 56, 66, 10, 38, 36, 82, 40, 22, 90, 16, 28, 78, 100, 72, 60, 52, 44, 54, 92, 20, 68, 48, 4, 62]\n",
            "[[5, 76], [61, 18], [73, 14], [23, 2], [47, 46], [69, 26], [67, 74], [3, 34], [37, 32], [25, 70], [63, 94], [39, 80], [91, 86], [57, 58], [1, 50], [93, 12], [99, 84], [45, 64], [51, 98], [27, 96], [9, 88], [31, 24], [35, 42], [85, 30], [53, 8], [21, 6], [59, 56], [89, 66], [75, 10], [33, 38], [43, 36], [19, 82], [29, 40], [7, 22], [17, 90], [11, 16], [65, 28], [79, 78], [77, 100], [95, 72], [83, 60], [41, 52], [87, 44], [81, 54], [55, 92], [13, 20], [49, 68], [97, 48], [15, 4], [71, 62]]\n",
            "arr2\n",
            "[[5, 76], [61, 18], [73, 14], [23, 2], [47, 46], [69, 26], [67, 74], [3, 34], [37, 32], [25, 70], [63, 94], [39, 80], [91, 86], [57, 58], [1, 50], [93, 12], [99, 84], [45, 64], [51, 98], [27, 96], [9, 88], [31, 24], [35, 42], [85, 30], [53, 8], [21, 6], [59, 56], [89, 66], [75, 10], [33, 38], [43, 36], [19, 82], [29, 40], [7, 22], [17, 90], [11, 16], [65, 28], [79, 78], [77, 100], [95, 72], [83, 60], [41, 52], [87, 44], [81, 54], [55, 92], [13, 20], [49, 68], [97, 48], [15, 4], [71, 62]]\n",
            "df\n",
            "    odd  even\n",
            "0     5    76\n",
            "1    61    18\n",
            "2    73    14\n",
            "3    23     2\n",
            "4    47    46\n",
            "5    69    26\n",
            "6    67    74\n",
            "7     3    34\n",
            "8    37    32\n",
            "9    25    70\n",
            "10   63    94\n",
            "11   39    80\n",
            "12   91    86\n",
            "13   57    58\n",
            "14    1    50\n",
            "15   93    12\n",
            "16   99    84\n",
            "17   45    64\n",
            "18   51    98\n",
            "19   27    96\n",
            "20    9    88\n",
            "21   31    24\n",
            "22   35    42\n",
            "23   85    30\n",
            "24   53     8\n",
            "25   21     6\n",
            "26   59    56\n",
            "27   89    66\n",
            "28   75    10\n",
            "29   33    38\n",
            "30   43    36\n",
            "31   19    82\n",
            "32   29    40\n",
            "33    7    22\n",
            "34   17    90\n",
            "35   11    16\n",
            "36   65    28\n",
            "37   79    78\n",
            "38   77   100\n",
            "39   95    72\n",
            "40   83    60\n",
            "41   41    52\n",
            "42   87    44\n",
            "43   81    54\n",
            "44   55    92\n",
            "45   13    20\n",
            "46   49    68\n",
            "47   97    48\n",
            "48   15     4\n",
            "49   71    62\n"
          ],
          "name": "stdout"
        }
      ]
    },
    {
      "cell_type": "code",
      "metadata": {
        "id": "8SbkhStjePAV",
        "colab_type": "code",
        "colab": {
          "base_uri": "https://localhost:8080/",
          "height": 88
        },
        "outputId": "245f5acf-edcb-4805-995e-79a5cee83223"
      },
      "source": [
        "#During dictionary and key practice\n",
        "\n",
        "#Variable i contains the first element of array arr2\n",
        "\n",
        "react={}\n",
        "for i in arr2:\n",
        "        keytxt='%s-%s' % (i[0],i[1])\n",
        "        \n",
        "        react[keytxt]=1\n",
        "        #print(react)\n",
        "print(\"react\")\n",
        "print(react)\n",
        "\n",
        "for sset in arr2:\n",
        "    k2='%s-%s' % (sset[1],sset[0])\n",
        "    if react.get(k2):\n",
        "        print(k2)\n",
        "print(k2)"
      ],
      "execution_count": 9,
      "outputs": [
        {
          "output_type": "stream",
          "text": [
            "react\n",
            "{'5-76': 1, '61-18': 1, '73-14': 1, '23-2': 1, '47-46': 1, '69-26': 1, '67-74': 1, '3-34': 1, '37-32': 1, '25-70': 1, '63-94': 1, '39-80': 1, '91-86': 1, '57-58': 1, '1-50': 1, '93-12': 1, '99-84': 1, '45-64': 1, '51-98': 1, '27-96': 1, '9-88': 1, '31-24': 1, '35-42': 1, '85-30': 1, '53-8': 1, '21-6': 1, '59-56': 1, '89-66': 1, '75-10': 1, '33-38': 1, '43-36': 1, '19-82': 1, '29-40': 1, '7-22': 1, '17-90': 1, '11-16': 1, '65-28': 1, '79-78': 1, '77-100': 1, '95-72': 1, '83-60': 1, '41-52': 1, '87-44': 1, '81-54': 1, '55-92': 1, '13-20': 1, '49-68': 1, '97-48': 1, '15-4': 1, '71-62': 1}\n",
            "62-71\n"
          ],
          "name": "stdout"
        }
      ]
    },
    {
      "cell_type": "code",
      "metadata": {
        "id": "Bfdcl-dhiPeg",
        "colab_type": "code",
        "colab": {
          "base_uri": "https://localhost:8080/",
          "height": 969
        },
        "outputId": "67b5c3cf-05c8-4eea-dde6-e51151e38206"
      },
      "source": [
        "import codecs\n",
        "import pandas as pd\n",
        "\n",
        "with codecs.open(r'/content/drive/My Drive/arr2.csv', \"r\", \"Shift-JIS\", \"ignore\") as file:\n",
        "    df2 = pd.read_table(file, delimiter=\",\")\n",
        "\n",
        "print(df2)\n",
        "\n",
        "reader = df2\n",
        "\n",
        "#Create a dictionary from Pandas\n",
        "#If you give a value or list/tuple to the character string with the% operator, it can be expanded as follows.\n",
        "react={}\n",
        "for row in reader:\n",
        "        keytxt='%s-%s' % (row[1],row[2])\n",
        "        \n",
        "        react[keytxt]=1\n",
        "        print(react)\n",
        "print(\"react\")\n",
        "\n",
        "for sset in arr2:\n",
        "    k2='%s-%s' % (sset[0],sset[1])\n",
        "    if react.get(k2):\n",
        "        print(k2)\n",
        "print(k2)"
      ],
      "execution_count": 34,
      "outputs": [
        {
          "output_type": "stream",
          "text": [
            "    Unnamed: 0  odd  even\n",
            "0            0   43    36\n",
            "1            1   13    60\n",
            "2            2   77    32\n",
            "3            3   31    10\n",
            "4            4    5    70\n",
            "5            5   69    82\n",
            "6            6   23     2\n",
            "7            7   65    74\n",
            "8            8   63    16\n",
            "9            9   33    92\n",
            "10          10   55    46\n",
            "11          11    7    24\n",
            "12          12   11    96\n",
            "13          13   57    78\n",
            "14          14   83    26\n",
            "15          15    1    84\n",
            "16          16   41    66\n",
            "17          17   51    98\n",
            "18          18   15    48\n",
            "19          19   47    22\n",
            "20          20   81    38\n",
            "21          21    3     8\n",
            "22          22   27   100\n",
            "23          23   25    68\n",
            "24          24   35    12\n",
            "25          25   19    56\n",
            "26          26   85    14\n",
            "27          27   71    50\n",
            "28          28   93    28\n",
            "29          29   91    58\n",
            "30          30   61    64\n",
            "31          31   87    62\n",
            "32          32   21    30\n",
            "33          33   67    20\n",
            "34          34   17     4\n",
            "35          35   79    90\n",
            "36          36   75    86\n",
            "37          37   59    54\n",
            "38          38   95    88\n",
            "39          39   73    44\n",
            "40          40   89    42\n",
            "41          41   97     6\n",
            "42          42    9    52\n",
            "43          43   99    76\n",
            "44          44   53    40\n",
            "45          45   29    80\n",
            "46          46   37    94\n",
            "47          47   39    18\n",
            "48          48   49    34\n",
            "49          49   45    72\n",
            "{'n-n': 1}\n",
            "{'n-n': 1, 'd-d': 1}\n",
            "{'n-n': 1, 'd-d': 1, 'v-e': 1}\n",
            "react\n",
            "45-72\n"
          ],
          "name": "stdout"
        }
      ]
    },
    {
      "cell_type": "code",
      "metadata": {
        "id": "eQBKc1JmigU3",
        "colab_type": "code",
        "colab": {
          "base_uri": "https://localhost:8080/",
          "height": 34
        },
        "outputId": "e7190404-e3aa-461f-fc94-28fab85c045f"
      },
      "source": [
        "print(sset)"
      ],
      "execution_count": 35,
      "outputs": [
        {
          "output_type": "stream",
          "text": [
            "[45, 72]\n"
          ],
          "name": "stdout"
        }
      ]
    },
    {
      "cell_type": "code",
      "metadata": {
        "id": "ELw19n7V9BuL",
        "colab_type": "code",
        "colab": {
          "base_uri": "https://localhost:8080/",
          "height": 457
        },
        "outputId": "5761b58e-d67a-4c6f-d37e-b66289c0a047"
      },
      "source": [
        "\n",
        "import codecs\n",
        "import pandas as pd\n",
        "\n",
        "with codecs.open(r'/content/drive/My Drive/arr2.csv', \"r\", \"Shift-JIS\", \"ignore\") as file:\n",
        "    df2 = pd.read_table(file, delimiter=\",\")\n",
        "\n",
        "#print(df2)\n",
        "\n",
        "reader = df2\n",
        "\n",
        "print(arr2)\n",
        "\n",
        "#Create a dictionary from Pandas\n",
        "#If you give a value or list/tuple to the character string with the% operator, it can be expanded as follows.\n",
        "\n",
        "#\"row\" is used when exporting Excel. Take out the parts separated by commas! !!\n",
        "react={}\n",
        "for arr2 in reader:\n",
        "        keytxt='%s-%s' % (arr2[1],arr2[2])\n",
        "        keytxt2='%s,waiawawaww,%s' % (arr2[1],arr2[2])\n",
        "        print(keytxt2)\n",
        "        react[keytxt]=1\n",
        "        print(react)\n",
        "print(\"react\")\n",
        "\n",
        "print(react)\n",
        "\n",
        "print(\"keytxt\")\n",
        "\n",
        "print(keytxt)\n",
        "\n",
        "print(\"keytxt2\")\n",
        "\n",
        "print(keytxt2)\n",
        "\n",
        "for sset in arr2:\n",
        "    k2='%s-%s' % (sset[1],sset[2])\n",
        "    if react.get(k2):\n",
        "        print(k2)\n",
        "print(\"k2\")\n",
        "\n",
        "print(k2)\n",
        "\n"
      ],
      "execution_count": 31,
      "outputs": [
        {
          "output_type": "stream",
          "text": [
            "even\n",
            "n,waiawawaww,n\n",
            "{'n-n': 1}\n",
            "d,waiawawaww,d\n",
            "{'n-n': 1, 'd-d': 1}\n",
            "v,waiawawaww,e\n",
            "{'n-n': 1, 'd-d': 1, 'v-e': 1}\n",
            "react\n",
            "{'n-n': 1, 'd-d': 1, 'v-e': 1}\n",
            "keytxt\n",
            "v-e\n",
            "keytxt2\n",
            "v,waiawawaww,e\n"
          ],
          "name": "stdout"
        },
        {
          "output_type": "error",
          "ename": "IndexError",
          "evalue": "ignored",
          "traceback": [
            "\u001b[0;31m---------------------------------------------------------------------------\u001b[0m",
            "\u001b[0;31mIndexError\u001b[0m                                Traceback (most recent call last)",
            "\u001b[0;32m<ipython-input-31-1bf7b2eedd85>\u001b[0m in \u001b[0;36m<module>\u001b[0;34m()\u001b[0m\n\u001b[1;32m     35\u001b[0m \u001b[0;34m\u001b[0m\u001b[0m\n\u001b[1;32m     36\u001b[0m \u001b[0;32mfor\u001b[0m \u001b[0msset\u001b[0m \u001b[0;32min\u001b[0m \u001b[0marr2\u001b[0m\u001b[0;34m:\u001b[0m\u001b[0;34m\u001b[0m\u001b[0;34m\u001b[0m\u001b[0m\n\u001b[0;32m---> 37\u001b[0;31m     \u001b[0mk2\u001b[0m\u001b[0;34m=\u001b[0m\u001b[0;34m'%s-%s'\u001b[0m \u001b[0;34m%\u001b[0m \u001b[0;34m(\u001b[0m\u001b[0msset\u001b[0m\u001b[0;34m[\u001b[0m\u001b[0;36m1\u001b[0m\u001b[0;34m]\u001b[0m\u001b[0;34m,\u001b[0m\u001b[0msset\u001b[0m\u001b[0;34m[\u001b[0m\u001b[0;36m2\u001b[0m\u001b[0;34m]\u001b[0m\u001b[0;34m)\u001b[0m\u001b[0;34m\u001b[0m\u001b[0;34m\u001b[0m\u001b[0m\n\u001b[0m\u001b[1;32m     38\u001b[0m     \u001b[0;32mif\u001b[0m \u001b[0mreact\u001b[0m\u001b[0;34m.\u001b[0m\u001b[0mget\u001b[0m\u001b[0;34m(\u001b[0m\u001b[0mk2\u001b[0m\u001b[0;34m)\u001b[0m\u001b[0;34m:\u001b[0m\u001b[0;34m\u001b[0m\u001b[0;34m\u001b[0m\u001b[0m\n\u001b[1;32m     39\u001b[0m         \u001b[0mprint\u001b[0m\u001b[0;34m(\u001b[0m\u001b[0mk2\u001b[0m\u001b[0;34m)\u001b[0m\u001b[0;34m\u001b[0m\u001b[0;34m\u001b[0m\u001b[0m\n",
            "\u001b[0;31mIndexError\u001b[0m: string index out of range"
          ]
        }
      ]
    },
    {
      "cell_type": "code",
      "metadata": {
        "id": "Ccr_aIdH9BrD",
        "colab_type": "code",
        "colab": {
          "base_uri": "https://localhost:8080/",
          "height": 304
        },
        "outputId": "2c0f3c1c-1cf9-4e5c-a178-b0586cba1787"
      },
      "source": [
        "import codecs\n",
        "import pandas as pd\n",
        "\n",
        "with codecs.open(r'/content/drive/My Drive/arr2.csv', \"r\", \"Shift-JIS\", \"ignore\") as file:\n",
        "    df2 = pd.read_table(file, delimiter=\",\")\n",
        "\n",
        "#print(df2)\n",
        "\n",
        "reader = df2\n",
        "\n",
        "#Create a dictionary from Pandas\n",
        "#If you give a value or list/tuple to the character string with the% operator, it can be expanded as follows.\n",
        "react={}\n",
        "for row in reader:\n",
        "        keytxt='%s-%s' % (row[1],row[2])\n",
        "        \n",
        "        react[keytxt]=1\n",
        "        print(react)\n",
        "print(\"react\")\n",
        "\n",
        "for sset in arr2:\n",
        "    k2='%s-%s' % (sset[0],sset[1])\n",
        "    if react.get(k2):\n",
        "        print(k2)\n",
        "print(k2)\n"
      ],
      "execution_count": 32,
      "outputs": [
        {
          "output_type": "stream",
          "text": [
            "{'n-n': 1}\n",
            "{'n-n': 1, 'd-d': 1}\n",
            "{'n-n': 1, 'd-d': 1, 'v-e': 1}\n",
            "react\n"
          ],
          "name": "stdout"
        },
        {
          "output_type": "error",
          "ename": "IndexError",
          "evalue": "ignored",
          "traceback": [
            "\u001b[0;31m---------------------------------------------------------------------------\u001b[0m",
            "\u001b[0;31mIndexError\u001b[0m                                Traceback (most recent call last)",
            "\u001b[0;32m<ipython-input-32-65bdde7b1376>\u001b[0m in \u001b[0;36m<module>\u001b[0;34m()\u001b[0m\n\u001b[1;32m     20\u001b[0m \u001b[0;34m\u001b[0m\u001b[0m\n\u001b[1;32m     21\u001b[0m \u001b[0;32mfor\u001b[0m \u001b[0msset\u001b[0m \u001b[0;32min\u001b[0m \u001b[0marr2\u001b[0m\u001b[0;34m:\u001b[0m\u001b[0;34m\u001b[0m\u001b[0;34m\u001b[0m\u001b[0m\n\u001b[0;32m---> 22\u001b[0;31m     \u001b[0mk2\u001b[0m\u001b[0;34m=\u001b[0m\u001b[0;34m'%s-%s'\u001b[0m \u001b[0;34m%\u001b[0m \u001b[0;34m(\u001b[0m\u001b[0msset\u001b[0m\u001b[0;34m[\u001b[0m\u001b[0;36m0\u001b[0m\u001b[0;34m]\u001b[0m\u001b[0;34m,\u001b[0m\u001b[0msset\u001b[0m\u001b[0;34m[\u001b[0m\u001b[0;36m1\u001b[0m\u001b[0;34m]\u001b[0m\u001b[0;34m)\u001b[0m\u001b[0;34m\u001b[0m\u001b[0;34m\u001b[0m\u001b[0m\n\u001b[0m\u001b[1;32m     23\u001b[0m     \u001b[0;32mif\u001b[0m \u001b[0mreact\u001b[0m\u001b[0;34m.\u001b[0m\u001b[0mget\u001b[0m\u001b[0;34m(\u001b[0m\u001b[0mk2\u001b[0m\u001b[0;34m)\u001b[0m\u001b[0;34m:\u001b[0m\u001b[0;34m\u001b[0m\u001b[0;34m\u001b[0m\u001b[0m\n\u001b[1;32m     24\u001b[0m         \u001b[0mprint\u001b[0m\u001b[0;34m(\u001b[0m\u001b[0mk2\u001b[0m\u001b[0;34m)\u001b[0m\u001b[0;34m\u001b[0m\u001b[0;34m\u001b[0m\u001b[0m\n",
            "\u001b[0;31mIndexError\u001b[0m: string index out of range"
          ]
        }
      ]
    },
    {
      "cell_type": "code",
      "metadata": {
        "id": "kKuLqTJ3Vs9C",
        "colab_type": "code",
        "colab": {}
      },
      "source": [
        ""
      ],
      "execution_count": null,
      "outputs": []
    },
    {
      "cell_type": "code",
      "metadata": {
        "id": "sie8lnKoVs6_",
        "colab_type": "code",
        "colab": {}
      },
      "source": [
        ""
      ],
      "execution_count": null,
      "outputs": []
    },
    {
      "cell_type": "code",
      "metadata": {
        "id": "6BaoRP-5Vs4G",
        "colab_type": "code",
        "colab": {}
      },
      "source": [
        ""
      ],
      "execution_count": null,
      "outputs": []
    },
    {
      "cell_type": "code",
      "metadata": {
        "id": "UMrHf3k20rFT",
        "colab_type": "code",
        "colab": {
          "base_uri": "https://localhost:8080/",
          "height": 68
        },
        "outputId": "02b816d6-1f36-4d2d-fc74-ffd4e509aa11"
      },
      "source": [
        "mylist = [[0]*2 for i in range(3)]\n",
        "print(mylist)\n",
        "\n",
        "mylist1_1 = mylist\n",
        "print(mylist1_1)\n",
        "mylist1_1[2][1]=100\n",
        "print(mylist1_1)\n"
      ],
      "execution_count": null,
      "outputs": [
        {
          "output_type": "stream",
          "text": [
            "[[0, 0], [0, 0], [0, 0]]\n",
            "[[0, 0], [0, 0], [0, 0]]\n",
            "[[0, 0], [0, 0], [0, 100]]\n"
          ],
          "name": "stdout"
        }
      ]
    },
    {
      "cell_type": "code",
      "metadata": {
        "id": "uL1CuItM9AUZ",
        "colab_type": "code",
        "colab": {}
      },
      "source": [
        ""
      ],
      "execution_count": null,
      "outputs": []
    },
    {
      "cell_type": "code",
      "metadata": {
        "id": "ydCYTy9o1BMg",
        "colab_type": "code",
        "colab": {
          "base_uri": "https://localhost:8080/",
          "height": 221
        },
        "outputId": "0c111f3e-a8a8-491b-8f15-f4bbedb59aab"
      },
      "source": [
        "for i in range(3):\n",
        "  for w in range(2):\n",
        "\n",
        "   print(i)\n",
        "   print(w)"
      ],
      "execution_count": null,
      "outputs": [
        {
          "output_type": "stream",
          "text": [
            "0\n",
            "0\n",
            "0\n",
            "1\n",
            "1\n",
            "0\n",
            "1\n",
            "1\n",
            "2\n",
            "0\n",
            "2\n",
            "1\n"
          ],
          "name": "stdout"
        }
      ]
    },
    {
      "cell_type": "code",
      "metadata": {
        "id": "wzjqKw_40NZ9",
        "colab_type": "code",
        "colab": {
          "base_uri": "https://localhost:8080/",
          "height": 221
        },
        "outputId": "71bf5505-1e12-4b29-bbaf-b18da35aeceb"
      },
      "source": [
        "\n",
        "def Enter_data(a, b):\n",
        " for i in range(a):\n",
        "  for w in range(b):\n",
        "   print(w)\n",
        "   print(i)\n",
        "\n",
        "\n",
        "Enter_data(2, 3)"
      ],
      "execution_count": null,
      "outputs": [
        {
          "output_type": "stream",
          "text": [
            "0\n",
            "0\n",
            "1\n",
            "0\n",
            "2\n",
            "0\n",
            "0\n",
            "1\n",
            "1\n",
            "1\n",
            "2\n",
            "1\n"
          ],
          "name": "stdout"
        }
      ]
    },
    {
      "cell_type": "code",
      "metadata": {
        "id": "4Xng0tME19f8",
        "colab_type": "code",
        "colab": {
          "base_uri": "https://localhost:8080/",
          "height": 221
        },
        "outputId": "d722a8d1-8212-4efd-a245-193ca5ad87bf"
      },
      "source": [
        "Enter_data(2, 3)"
      ],
      "execution_count": null,
      "outputs": [
        {
          "output_type": "stream",
          "text": [
            "0\n",
            "0\n",
            "1\n",
            "0\n",
            "2\n",
            "0\n",
            "0\n",
            "1\n",
            "1\n",
            "1\n",
            "2\n",
            "1\n"
          ],
          "name": "stdout"
        }
      ]
    },
    {
      "cell_type": "code",
      "metadata": {
        "id": "m8AhOjiF2PwF",
        "colab_type": "code",
        "colab": {
          "base_uri": "https://localhost:8080/",
          "height": 85
        },
        "outputId": "dfbc9dbe-8ec4-4e64-ed86-41bec9533c42"
      },
      "source": [
        "mylist2 = mylist\n",
        "\n",
        "def Enter_data2(a, b):\n",
        " for i in range(a):\n",
        "  for w in range(b):\n",
        "   print(w,i)\n",
        "\n",
        "   mylist2[w][0]=w\n",
        "   mylist2[w][1]=w\n",
        "   \n",
        "\n",
        "  return mylist2\n",
        "\n",
        "make_mylist = Enter_data2(2, 3)\n",
        "\n",
        "print(make_mylist)"
      ],
      "execution_count": null,
      "outputs": [
        {
          "output_type": "stream",
          "text": [
            "0 0\n",
            "1 0\n",
            "2 0\n",
            "[[0, 0], [1, 1], [2, 2]]\n"
          ],
          "name": "stdout"
        }
      ]
    },
    {
      "cell_type": "code",
      "metadata": {
        "id": "a8z-xoo34UXk",
        "colab_type": "code",
        "colab": {
          "base_uri": "https://localhost:8080/",
          "height": 221
        },
        "outputId": "e0eb2c20-1592-4538-a0be-76a9c0e9bfa8"
      },
      "source": [
        "mylist2 = mylist\n",
        "\n",
        "def Enter_data2(a, b,c,d):\n",
        " for i in range(a):\n",
        "  for w in range(b):\n",
        "   print(w,i)\n",
        "   mylist2[w][0]=c\n",
        "   mylist2[w][1]=d\n",
        "  return mylist2\n",
        "\n",
        "make_mylist = Enter_data2(2, 3,0,0)\n",
        "\n",
        "print(make_mylist)\n",
        "\n",
        "make_mylist = Enter_data2(2, 3,1,2)\n",
        "\n",
        "print(make_mylist)\n",
        "\n",
        "make_mylist = Enter_data2(2, 3,1,5)\n",
        "\n",
        "print(make_mylist)"
      ],
      "execution_count": null,
      "outputs": [
        {
          "output_type": "stream",
          "text": [
            "0 0\n",
            "1 0\n",
            "2 0\n",
            "[[0, 0], [0, 0], [0, 0]]\n",
            "0 0\n",
            "1 0\n",
            "2 0\n",
            "[[1, 2], [1, 2], [1, 2]]\n",
            "0 0\n",
            "1 0\n",
            "2 0\n",
            "[[1, 5], [1, 5], [1, 5]]\n"
          ],
          "name": "stdout"
        }
      ]
    },
    {
      "cell_type": "code",
      "metadata": {
        "id": "F727ty9e1Un4",
        "colab_type": "code",
        "colab": {
          "base_uri": "https://localhost:8080/",
          "height": 221
        },
        "outputId": "76878a49-dbeb-4296-e733-d1d607069a91"
      },
      "source": [
        "mylist2 = mylist\n",
        "print(mylist2)\n",
        "mylist2[1][0]=100\n",
        "print(mylist2)\n",
        "mylist3 = mylist\n",
        "print(mylist3)\n",
        "\n",
        "mylist4 = list(range(0,7))\n",
        "print(mylist4)\n",
        "\n",
        "for w in range(2):\n",
        "  print(w)\n",
        "  mylist3[0][w]=w\n",
        "  print(mylist3)\n",
        "\n",
        "\n",
        "for w in range(2):\n",
        "  print(w)\n",
        "  mylist3[w][0]=w\n",
        "  print(mylist3)"
      ],
      "execution_count": null,
      "outputs": [
        {
          "output_type": "stream",
          "text": [
            "[[0, 0], [1, 1], [2, 2]]\n",
            "[[0, 0], [100, 1], [2, 2]]\n",
            "[[0, 0], [100, 1], [2, 2]]\n",
            "[0, 1, 2, 3, 4, 5, 6]\n",
            "0\n",
            "[[0, 0], [100, 1], [2, 2]]\n",
            "1\n",
            "[[0, 1], [100, 1], [2, 2]]\n",
            "0\n",
            "[[0, 1], [100, 1], [2, 2]]\n",
            "1\n",
            "[[0, 1], [1, 1], [2, 2]]\n"
          ],
          "name": "stdout"
        }
      ]
    },
    {
      "cell_type": "code",
      "metadata": {
        "id": "O3ciNuwh1VO0",
        "colab_type": "code",
        "colab": {
          "base_uri": "https://localhost:8080/",
          "height": 493
        },
        "outputId": "5185d9e5-cd87-4f44-c67e-e698903ce3cc"
      },
      "source": [
        "lookback = 1\n",
        "\n",
        "for i in range(len(mylist4)):\n",
        " j = 0 - lookback + i\n",
        " k = j + lookback\n",
        "        \n",
        " mylist3[0][0] = mylist4[j]\n",
        " mylist3[0][1] = mylist4[k]\n",
        "\n",
        " print(\"tugihaXdayo\")\n",
        " print(mylist3)\n",
        " print(\"tugihaYdayo\")\n",
        " print(mylist3)"
      ],
      "execution_count": null,
      "outputs": [
        {
          "output_type": "stream",
          "text": [
            "tugihaXdayo\n",
            "[[6, 0], [1, 1], [2, 2]]\n",
            "tugihaYdayo\n",
            "[[6, 0], [1, 1], [2, 2]]\n",
            "tugihaXdayo\n",
            "[[0, 1], [1, 1], [2, 2]]\n",
            "tugihaYdayo\n",
            "[[0, 1], [1, 1], [2, 2]]\n",
            "tugihaXdayo\n",
            "[[1, 2], [1, 1], [2, 2]]\n",
            "tugihaYdayo\n",
            "[[1, 2], [1, 1], [2, 2]]\n",
            "tugihaXdayo\n",
            "[[2, 3], [1, 1], [2, 2]]\n",
            "tugihaYdayo\n",
            "[[2, 3], [1, 1], [2, 2]]\n",
            "tugihaXdayo\n",
            "[[3, 4], [1, 1], [2, 2]]\n",
            "tugihaYdayo\n",
            "[[3, 4], [1, 1], [2, 2]]\n",
            "tugihaXdayo\n",
            "[[4, 5], [1, 1], [2, 2]]\n",
            "tugihaYdayo\n",
            "[[4, 5], [1, 1], [2, 2]]\n",
            "tugihaXdayo\n",
            "[[5, 6], [1, 1], [2, 2]]\n",
            "tugihaYdayo\n",
            "[[5, 6], [1, 1], [2, 2]]\n"
          ],
          "name": "stdout"
        }
      ]
    },
    {
      "cell_type": "code",
      "metadata": {
        "id": "JLznKUYo3PF-",
        "colab_type": "code",
        "colab": {
          "base_uri": "https://localhost:8080/",
          "height": 372
        },
        "outputId": "f047a2a2-4ad5-4a9e-8cd5-461848244eef"
      },
      "source": [
        "lookback = 1\n",
        "\n",
        "for i in range(len(mylist4)):\n",
        " j = i \n",
        "  \n",
        " mylist3[0][j] = mylist4[j-1]\n",
        " mylist3[0][j] = mylist4[j]\n",
        " mylist3[0][j] = mylist4[j]\n",
        "\n",
        "\n",
        " print(\"tugihaXdayo\")\n",
        " print(mylist3)\n",
        " print(\"tugihaYdayo\")\n",
        " print(mylist3)"
      ],
      "execution_count": null,
      "outputs": [
        {
          "output_type": "stream",
          "text": [
            "tugihaXdayo\n",
            "[[0, 1], [1, 1], [2, 2]]\n",
            "tugihaYdayo\n",
            "[[0, 1], [1, 1], [2, 2]]\n",
            "tugihaXdayo\n",
            "[[0, 1], [1, 1], [2, 2]]\n",
            "tugihaYdayo\n",
            "[[0, 1], [1, 1], [2, 2]]\n"
          ],
          "name": "stdout"
        },
        {
          "output_type": "error",
          "ename": "IndexError",
          "evalue": "ignored",
          "traceback": [
            "\u001b[0;31m---------------------------------------------------------------------------\u001b[0m",
            "\u001b[0;31mIndexError\u001b[0m                                Traceback (most recent call last)",
            "\u001b[0;32m<ipython-input-115-d3f6c760e2a1>\u001b[0m in \u001b[0;36m<module>\u001b[0;34m()\u001b[0m\n\u001b[1;32m      4\u001b[0m  \u001b[0mj\u001b[0m \u001b[0;34m=\u001b[0m \u001b[0mi\u001b[0m\u001b[0;34m\u001b[0m\u001b[0;34m\u001b[0m\u001b[0m\n\u001b[1;32m      5\u001b[0m \u001b[0;34m\u001b[0m\u001b[0m\n\u001b[0;32m----> 6\u001b[0;31m  \u001b[0mmylist3\u001b[0m\u001b[0;34m[\u001b[0m\u001b[0;36m0\u001b[0m\u001b[0;34m]\u001b[0m\u001b[0;34m[\u001b[0m\u001b[0mj\u001b[0m\u001b[0;34m]\u001b[0m \u001b[0;34m=\u001b[0m \u001b[0mmylist4\u001b[0m\u001b[0;34m[\u001b[0m\u001b[0mj\u001b[0m\u001b[0;34m-\u001b[0m\u001b[0;36m1\u001b[0m\u001b[0;34m]\u001b[0m\u001b[0;34m\u001b[0m\u001b[0;34m\u001b[0m\u001b[0m\n\u001b[0m\u001b[1;32m      7\u001b[0m  \u001b[0mmylist3\u001b[0m\u001b[0;34m[\u001b[0m\u001b[0;36m0\u001b[0m\u001b[0;34m]\u001b[0m\u001b[0;34m[\u001b[0m\u001b[0mj\u001b[0m\u001b[0;34m]\u001b[0m \u001b[0;34m=\u001b[0m \u001b[0mmylist4\u001b[0m\u001b[0;34m[\u001b[0m\u001b[0mj\u001b[0m\u001b[0;34m]\u001b[0m\u001b[0;34m\u001b[0m\u001b[0;34m\u001b[0m\u001b[0m\n\u001b[1;32m      8\u001b[0m  \u001b[0mmylist3\u001b[0m\u001b[0;34m[\u001b[0m\u001b[0;36m0\u001b[0m\u001b[0;34m]\u001b[0m\u001b[0;34m[\u001b[0m\u001b[0mj\u001b[0m\u001b[0;34m]\u001b[0m \u001b[0;34m=\u001b[0m \u001b[0mmylist4\u001b[0m\u001b[0;34m[\u001b[0m\u001b[0mj\u001b[0m\u001b[0;34m]\u001b[0m\u001b[0;34m\u001b[0m\u001b[0;34m\u001b[0m\u001b[0m\n",
            "\u001b[0;31mIndexError\u001b[0m: list assignment index out of range"
          ]
        }
      ]
    },
    {
      "cell_type": "code",
      "metadata": {
        "id": "1z7ADz3D3PJe",
        "colab_type": "code",
        "colab": {}
      },
      "source": [
        ""
      ],
      "execution_count": null,
      "outputs": []
    }
  ]
}