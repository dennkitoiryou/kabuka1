{
  "nbformat": 4,
  "nbformat_minor": 0,
  "metadata": {
    "colab": {
      "name": "20200710 make_ Two-dimensional_array_list.ipynb ",
      "provenance": [],
      "collapsed_sections": [],
      "mount_file_id": "1hsM8h0LLMLq3yXo-6WvSDVQPQCdhQpwD",
      "authorship_tag": "ABX9TyOqkzcY35YOmxAo7R8eyE0b",
      "include_colab_link": true
    },
    "kernelspec": {
      "name": "python3",
      "display_name": "Python 3"
    }
  },
  "cells": [
    {
      "cell_type": "markdown",
      "metadata": {
        "id": "view-in-github",
        "colab_type": "text"
      },
      "source": [
        "<a href=\"https://colab.research.google.com/github/dennkitotaichi/kabuka1/blob/master/20200710_make__Two_dimensional_array_list.ipynb\" target=\"_parent\"><img src=\"https://colab.research.google.com/assets/colab-badge.svg\" alt=\"Open In Colab\"/></a>"
      ]
    },
    {
      "cell_type": "code",
      "metadata": {
        "id": "lfbdUhAxLzr0",
        "colab_type": "code",
        "colab": {
          "base_uri": "https://localhost:8080/",
          "height": 34
        },
        "outputId": "82d096f7-4ecd-46d5-98ce-022923462fbd"
      },
      "source": [
        "mydict = {1.6:\"1-4\", 1.2:\"1-2\", 6.7:\"3-6\", 8.5:\"5-4\", 7.8:\"7-4\", 8.3:\"8-3\"}\n",
        "\n",
        "print(mydict)"
      ],
      "execution_count": 2,
      "outputs": [
        {
          "output_type": "stream",
          "text": [
            "{1.6: '1-4', 1.2: '1-2', 6.7: '3-6', 8.5: '5-4', 7.8: '7-4', 8.3: '8-3'}\n"
          ],
          "name": "stdout"
        }
      ]
    },
    {
      "cell_type": "code",
      "metadata": {
        "id": "gRLZ0xpNfyHW",
        "colab_type": "code",
        "colab": {
          "base_uri": "https://localhost:8080/",
          "height": 54
        },
        "outputId": "b7b975b1-a8cd-470c-e43c-40ff1509dbd4"
      },
      "source": [
        "#1を10こ　3を100個　4を100個　2を10個　作成　Created 10 for 1, 100 for 3, 100 for 4, and 10 for 2.\n",
        "\n",
        "import numpy as np\n",
        "\n",
        "no1= np.full(10,1)\n",
        "no2= np.full(10,2)\n",
        "no3= np.full(100,3)\n",
        "no4= np.full(100,4)\n",
        "\n",
        "no1_l = no1.tolist()\n",
        "no2_l = no2.tolist()\n",
        "no3_l = no3.tolist()\n",
        "no4_l = no4.tolist()\n",
        "\n",
        "\n",
        "list3 = no1_l + no2_l + no3_l + no4_l\n",
        "print(list3)"
      ],
      "execution_count": 3,
      "outputs": [
        {
          "output_type": "stream",
          "text": [
            "[1, 1, 1, 1, 1, 1, 1, 1, 1, 1, 2, 2, 2, 2, 2, 2, 2, 2, 2, 2, 3, 3, 3, 3, 3, 3, 3, 3, 3, 3, 3, 3, 3, 3, 3, 3, 3, 3, 3, 3, 3, 3, 3, 3, 3, 3, 3, 3, 3, 3, 3, 3, 3, 3, 3, 3, 3, 3, 3, 3, 3, 3, 3, 3, 3, 3, 3, 3, 3, 3, 3, 3, 3, 3, 3, 3, 3, 3, 3, 3, 3, 3, 3, 3, 3, 3, 3, 3, 3, 3, 3, 3, 3, 3, 3, 3, 3, 3, 3, 3, 3, 3, 3, 3, 3, 3, 3, 3, 3, 3, 3, 3, 3, 3, 3, 3, 3, 3, 3, 3, 4, 4, 4, 4, 4, 4, 4, 4, 4, 4, 4, 4, 4, 4, 4, 4, 4, 4, 4, 4, 4, 4, 4, 4, 4, 4, 4, 4, 4, 4, 4, 4, 4, 4, 4, 4, 4, 4, 4, 4, 4, 4, 4, 4, 4, 4, 4, 4, 4, 4, 4, 4, 4, 4, 4, 4, 4, 4, 4, 4, 4, 4, 4, 4, 4, 4, 4, 4, 4, 4, 4, 4, 4, 4, 4, 4, 4, 4, 4, 4, 4, 4, 4, 4, 4, 4, 4, 4, 4, 4, 4, 4, 4, 4, 4, 4, 4, 4, 4, 4]\n"
          ],
          "name": "stdout"
        }
      ]
    },
    {
      "cell_type": "code",
      "metadata": {
        "id": "-94OsZ4D9AXE",
        "colab_type": "code",
        "colab": {
          "base_uri": "https://localhost:8080/",
          "height": 107
        },
        "outputId": "dc76c275-27f0-491a-fd03-4d52fff7fad9"
      },
      "source": [
        "\n",
        "\n",
        "odd = list(filter(lambda x: x%2 == 1, list3))\n",
        "print(\"odd\")\n",
        "print(odd)\n",
        "\n",
        "#Display even numbers\n",
        "even = list(filter(lambda x: x%2 == 0, list3))\n",
        "print(\"even\")\n",
        "print(even)"
      ],
      "execution_count": 44,
      "outputs": [
        {
          "output_type": "stream",
          "text": [
            "odd\n",
            "[1, 1, 1, 1, 1, 1, 1, 1, 1, 1, 3, 3, 3, 3, 3, 3, 3, 3, 3, 3, 3, 3, 3, 3, 3, 3, 3, 3, 3, 3, 3, 3, 3, 3, 3, 3, 3, 3, 3, 3, 3, 3, 3, 3, 3, 3, 3, 3, 3, 3, 3, 3, 3, 3, 3, 3, 3, 3, 3, 3, 3, 3, 3, 3, 3, 3, 3, 3, 3, 3, 3, 3, 3, 3, 3, 3, 3, 3, 3, 3, 3, 3, 3, 3, 3, 3, 3, 3, 3, 3, 3, 3, 3, 3, 3, 3, 3, 3, 3, 3, 3, 3, 3, 3, 3, 3, 3, 3, 3, 3]\n",
            "even\n",
            "[2, 2, 2, 2, 2, 2, 2, 2, 2, 2, 4, 4, 4, 4, 4, 4, 4, 4, 4, 4, 4, 4, 4, 4, 4, 4, 4, 4, 4, 4, 4, 4, 4, 4, 4, 4, 4, 4, 4, 4, 4, 4, 4, 4, 4, 4, 4, 4, 4, 4, 4, 4, 4, 4, 4, 4, 4, 4, 4, 4, 4, 4, 4, 4, 4, 4, 4, 4, 4, 4, 4, 4, 4, 4, 4, 4, 4, 4, 4, 4, 4, 4, 4, 4, 4, 4, 4, 4, 4, 4, 4, 4, 4, 4, 4, 4, 4, 4, 4, 4, 4, 4, 4, 4, 4, 4, 4, 4, 4, 4]\n"
          ],
          "name": "stdout"
        }
      ]
    },
    {
      "cell_type": "code",
      "metadata": {
        "id": "8wvQC4Sg9Bxe",
        "colab_type": "code",
        "colab": {
          "base_uri": "https://localhost:8080/",
          "height": 54
        },
        "outputId": "dac14e51-d7a1-41c7-fd01-3cc839984f89"
      },
      "source": [
        "import pandas as pd\n",
        "import random\n",
        "random.shuffle(odd)\n",
        "#print(odd)\n",
        "\n",
        "random.shuffle(even)\n",
        "#print(even)\n",
        "\n",
        "arr2 = []\n",
        "for i, j in zip(odd, even):\n",
        "    arr2.append([i, j])\n",
        "print(arr2)\n",
        "\n",
        "\n",
        "df = pd.DataFrame(arr2,\n",
        "                  columns=['odd', 'even'])\n",
        "#print(\"arr2\")\n",
        "#print(arr2)\n",
        "#print(\"df\")\n",
        "#print(df)\n",
        "\n",
        "df.to_csv(r'/content/drive/My Drive/arr2.csv', encoding = \"shift-jis\")\n",
        "\n",
        "\n"
      ],
      "execution_count": 45,
      "outputs": [
        {
          "output_type": "stream",
          "text": [
            "[[3, 4], [3, 4], [3, 4], [3, 2], [3, 4], [3, 4], [3, 4], [3, 4], [3, 2], [3, 4], [3, 4], [3, 4], [3, 4], [3, 4], [3, 4], [3, 4], [3, 4], [3, 4], [3, 4], [3, 4], [3, 4], [3, 4], [1, 4], [3, 4], [3, 4], [1, 2], [3, 4], [3, 4], [3, 2], [3, 4], [1, 4], [3, 4], [3, 4], [3, 4], [3, 4], [3, 4], [3, 2], [3, 4], [3, 4], [3, 4], [3, 4], [3, 4], [3, 4], [3, 2], [3, 4], [3, 4], [3, 4], [3, 4], [3, 4], [3, 4], [3, 2], [3, 4], [3, 4], [3, 4], [3, 4], [3, 4], [3, 4], [1, 4], [3, 4], [3, 4], [3, 4], [3, 4], [3, 4], [3, 4], [3, 4], [3, 4], [3, 4], [3, 4], [3, 4], [3, 4], [1, 4], [3, 4], [3, 4], [3, 4], [3, 4], [3, 4], [3, 2], [3, 4], [3, 2], [3, 4], [1, 4], [3, 4], [3, 4], [3, 4], [3, 4], [1, 2], [3, 4], [1, 4], [3, 4], [3, 4], [3, 4], [1, 4], [3, 4], [3, 4], [3, 4], [3, 4], [3, 4], [3, 4], [3, 4], [3, 4], [3, 4], [3, 4], [3, 4], [3, 4], [1, 4], [3, 4], [3, 4], [3, 4], [3, 4], [3, 4]]\n"
          ],
          "name": "stdout"
        }
      ]
    },
    {
      "cell_type": "code",
      "metadata": {
        "id": "s8lJpMA63IxO",
        "colab_type": "code",
        "colab": {
          "base_uri": "https://localhost:8080/",
          "height": 34
        },
        "outputId": "3c9ee81f-ba32-46f5-fd83-a82becbdb906"
      },
      "source": [
        "#Retrieve unique value of 2D array (list of list)\n",
        "\n",
        "def get_unique_list(seq):\n",
        "    seen = []\n",
        "    return [x for x in seq if x not in seen and not seen.append(x)]\n",
        "\n",
        "g_unique = get_unique_list(arr2)\n",
        "print(g_unique)"
      ],
      "execution_count": 46,
      "outputs": [
        {
          "output_type": "stream",
          "text": [
            "[[3, 4], [3, 2], [1, 4], [1, 2]]\n"
          ],
          "name": "stdout"
        }
      ]
    },
    {
      "cell_type": "code",
      "metadata": {
        "id": "ltcDYyFZPkPx",
        "colab_type": "code",
        "colab": {}
      },
      "source": [
        "for row in arr2:\n",
        "        keytxt='%s-%s' % (row[0],row[1])\n",
        "        #print(keytxt)"
      ],
      "execution_count": 47,
      "outputs": []
    },
    {
      "cell_type": "code",
      "metadata": {
        "id": "tEZ-nIo4g3KO",
        "colab_type": "code",
        "colab": {
          "base_uri": "https://localhost:8080/",
          "height": 34
        },
        "outputId": "a149edb9-3ef6-4e3b-ada5-ba57e0e2c5fa"
      },
      "source": [
        "#Make a dictionary\n",
        "keys = ['1-4','1-2','3-6','5-4','7-4','8-3']\n",
        "values = [1.6, 1.2, 6.7,8.5,7.8,7.8]\n",
        "items = dict(zip(keys, values))\n",
        "print(items)"
      ],
      "execution_count": 48,
      "outputs": [
        {
          "output_type": "stream",
          "text": [
            "{'1-4': 1.6, '1-2': 1.2, '3-6': 6.7, '5-4': 8.5, '7-4': 7.8, '8-3': 7.8}\n"
          ],
          "name": "stdout"
        }
      ]
    },
    {
      "cell_type": "code",
      "metadata": {
        "id": "d5Mj_1H5g3HH",
        "colab_type": "code",
        "colab": {
          "base_uri": "https://localhost:8080/",
          "height": 367
        },
        "outputId": "932e5755-0e4b-451e-c375-e413b92b6185"
      },
      "source": [
        "for row in arr2:\n",
        "        keytxt='%s-%s' % (row[0],row[1])\n",
        "        if keytxt in items.keys():\n",
        "         print(keytxt)\n",
        "         print(items.get(keytxt))\n",
        "#この後に1.6とかの数字のみをリストとして取り出したい！！！！"
      ],
      "execution_count": 49,
      "outputs": [
        {
          "output_type": "stream",
          "text": [
            "1-4\n",
            "1.6\n",
            "1-2\n",
            "1.2\n",
            "1-4\n",
            "1.6\n",
            "1-4\n",
            "1.6\n",
            "1-4\n",
            "1.6\n",
            "1-4\n",
            "1.6\n",
            "1-2\n",
            "1.2\n",
            "1-4\n",
            "1.6\n",
            "1-4\n",
            "1.6\n",
            "1-4\n",
            "1.6\n"
          ],
          "name": "stdout"
        }
      ]
    },
    {
      "cell_type": "code",
      "metadata": {
        "id": "1-auqUBgQhPj",
        "colab_type": "code",
        "colab": {}
      },
      "source": [
        ""
      ],
      "execution_count": null,
      "outputs": []
    },
    {
      "cell_type": "code",
      "metadata": {
        "id": "gJHpu5FRg4DW",
        "colab_type": "code",
        "colab": {}
      },
      "source": [
        ""
      ],
      "execution_count": null,
      "outputs": []
    },
    {
      "cell_type": "code",
      "metadata": {
        "id": "6UkeC1Msg4A_",
        "colab_type": "code",
        "colab": {}
      },
      "source": [
        ""
      ],
      "execution_count": null,
      "outputs": []
    },
    {
      "cell_type": "code",
      "metadata": {
        "id": "Lq9NJCf5g3-c",
        "colab_type": "code",
        "colab": {}
      },
      "source": [
        ""
      ],
      "execution_count": null,
      "outputs": []
    },
    {
      "cell_type": "code",
      "metadata": {
        "id": "c9CnQ5AUeA7U",
        "colab_type": "code",
        "colab": {}
      },
      "source": [
        "#ここから辞書を作成したい　I want to create a dictionary from here"
      ],
      "execution_count": 38,
      "outputs": []
    },
    {
      "cell_type": "code",
      "metadata": {
        "id": "KWH0MR594yXx",
        "colab_type": "code",
        "colab": {}
      },
      "source": [
        "#I want to create a dictionary from a list\n",
        "\n",
        "keys = ['a', 'b', 'c']\n",
        "values = [10, 20, 30]\n",
        "\n",
        "dic = dict(zip(keys, values)) \n",
        "\n"
      ],
      "execution_count": null,
      "outputs": []
    },
    {
      "cell_type": "code",
      "metadata": {
        "id": "8SbkhStjePAV",
        "colab_type": "code",
        "colab": {
          "base_uri": "https://localhost:8080/",
          "height": 1000
        },
        "outputId": "97d69549-e68a-4777-c192-acc47dc45360"
      },
      "source": [
        "#During dictionary and key practice\n",
        "\n",
        "#Variable i contains the first element of array arr2\n",
        "\n",
        "#I want to retrieve the dictionary value from the list\n",
        "\n",
        "\n",
        "\n",
        "\n",
        "\n",
        "\n",
        "\n",
        "react={}\n",
        "for row in arr2:\n",
        "        keytxt='%s-%s' % (row[0],row[1])\n",
        "        print(keytxt)\n",
        "        print(mydict)\n",
        "        if keytxt in mydict.keys():\n",
        "         print(keytxt)\n",
        "\n",
        "\n",
        "print(\"react\")\n",
        "\n"
      ],
      "execution_count": 23,
      "outputs": [
        {
          "output_type": "stream",
          "text": [
            "3-4\n",
            "{1.6: '1-4', 1.2: '1-2', 6.7: '3-6', 8.5: '5-4', 7.8: '7-4', 8.3: '8-3'}\n",
            "3-4\n",
            "{1.6: '1-4', 1.2: '1-2', 6.7: '3-6', 8.5: '5-4', 7.8: '7-4', 8.3: '8-3'}\n",
            "3-4\n",
            "{1.6: '1-4', 1.2: '1-2', 6.7: '3-6', 8.5: '5-4', 7.8: '7-4', 8.3: '8-3'}\n",
            "1-4\n",
            "{1.6: '1-4', 1.2: '1-2', 6.7: '3-6', 8.5: '5-4', 7.8: '7-4', 8.3: '8-3'}\n",
            "3-2\n",
            "{1.6: '1-4', 1.2: '1-2', 6.7: '3-6', 8.5: '5-4', 7.8: '7-4', 8.3: '8-3'}\n",
            "3-4\n",
            "{1.6: '1-4', 1.2: '1-2', 6.7: '3-6', 8.5: '5-4', 7.8: '7-4', 8.3: '8-3'}\n",
            "3-4\n",
            "{1.6: '1-4', 1.2: '1-2', 6.7: '3-6', 8.5: '5-4', 7.8: '7-4', 8.3: '8-3'}\n",
            "3-4\n",
            "{1.6: '1-4', 1.2: '1-2', 6.7: '3-6', 8.5: '5-4', 7.8: '7-4', 8.3: '8-3'}\n",
            "3-4\n",
            "{1.6: '1-4', 1.2: '1-2', 6.7: '3-6', 8.5: '5-4', 7.8: '7-4', 8.3: '8-3'}\n",
            "3-4\n",
            "{1.6: '1-4', 1.2: '1-2', 6.7: '3-6', 8.5: '5-4', 7.8: '7-4', 8.3: '8-3'}\n",
            "3-4\n",
            "{1.6: '1-4', 1.2: '1-2', 6.7: '3-6', 8.5: '5-4', 7.8: '7-4', 8.3: '8-3'}\n",
            "3-4\n",
            "{1.6: '1-4', 1.2: '1-2', 6.7: '3-6', 8.5: '5-4', 7.8: '7-4', 8.3: '8-3'}\n",
            "3-4\n",
            "{1.6: '1-4', 1.2: '1-2', 6.7: '3-6', 8.5: '5-4', 7.8: '7-4', 8.3: '8-3'}\n",
            "3-4\n",
            "{1.6: '1-4', 1.2: '1-2', 6.7: '3-6', 8.5: '5-4', 7.8: '7-4', 8.3: '8-3'}\n",
            "3-4\n",
            "{1.6: '1-4', 1.2: '1-2', 6.7: '3-6', 8.5: '5-4', 7.8: '7-4', 8.3: '8-3'}\n",
            "3-2\n",
            "{1.6: '1-4', 1.2: '1-2', 6.7: '3-6', 8.5: '5-4', 7.8: '7-4', 8.3: '8-3'}\n",
            "3-4\n",
            "{1.6: '1-4', 1.2: '1-2', 6.7: '3-6', 8.5: '5-4', 7.8: '7-4', 8.3: '8-3'}\n",
            "3-4\n",
            "{1.6: '1-4', 1.2: '1-2', 6.7: '3-6', 8.5: '5-4', 7.8: '7-4', 8.3: '8-3'}\n",
            "3-4\n",
            "{1.6: '1-4', 1.2: '1-2', 6.7: '3-6', 8.5: '5-4', 7.8: '7-4', 8.3: '8-3'}\n",
            "3-4\n",
            "{1.6: '1-4', 1.2: '1-2', 6.7: '3-6', 8.5: '5-4', 7.8: '7-4', 8.3: '8-3'}\n",
            "3-4\n",
            "{1.6: '1-4', 1.2: '1-2', 6.7: '3-6', 8.5: '5-4', 7.8: '7-4', 8.3: '8-3'}\n",
            "3-2\n",
            "{1.6: '1-4', 1.2: '1-2', 6.7: '3-6', 8.5: '5-4', 7.8: '7-4', 8.3: '8-3'}\n",
            "3-2\n",
            "{1.6: '1-4', 1.2: '1-2', 6.7: '3-6', 8.5: '5-4', 7.8: '7-4', 8.3: '8-3'}\n",
            "3-4\n",
            "{1.6: '1-4', 1.2: '1-2', 6.7: '3-6', 8.5: '5-4', 7.8: '7-4', 8.3: '8-3'}\n",
            "1-4\n",
            "{1.6: '1-4', 1.2: '1-2', 6.7: '3-6', 8.5: '5-4', 7.8: '7-4', 8.3: '8-3'}\n",
            "3-4\n",
            "{1.6: '1-4', 1.2: '1-2', 6.7: '3-6', 8.5: '5-4', 7.8: '7-4', 8.3: '8-3'}\n",
            "3-4\n",
            "{1.6: '1-4', 1.2: '1-2', 6.7: '3-6', 8.5: '5-4', 7.8: '7-4', 8.3: '8-3'}\n",
            "3-4\n",
            "{1.6: '1-4', 1.2: '1-2', 6.7: '3-6', 8.5: '5-4', 7.8: '7-4', 8.3: '8-3'}\n",
            "3-4\n",
            "{1.6: '1-4', 1.2: '1-2', 6.7: '3-6', 8.5: '5-4', 7.8: '7-4', 8.3: '8-3'}\n",
            "3-4\n",
            "{1.6: '1-4', 1.2: '1-2', 6.7: '3-6', 8.5: '5-4', 7.8: '7-4', 8.3: '8-3'}\n",
            "1-4\n",
            "{1.6: '1-4', 1.2: '1-2', 6.7: '3-6', 8.5: '5-4', 7.8: '7-4', 8.3: '8-3'}\n",
            "3-4\n",
            "{1.6: '1-4', 1.2: '1-2', 6.7: '3-6', 8.5: '5-4', 7.8: '7-4', 8.3: '8-3'}\n",
            "3-4\n",
            "{1.6: '1-4', 1.2: '1-2', 6.7: '3-6', 8.5: '5-4', 7.8: '7-4', 8.3: '8-3'}\n",
            "3-4\n",
            "{1.6: '1-4', 1.2: '1-2', 6.7: '3-6', 8.5: '5-4', 7.8: '7-4', 8.3: '8-3'}\n",
            "3-4\n",
            "{1.6: '1-4', 1.2: '1-2', 6.7: '3-6', 8.5: '5-4', 7.8: '7-4', 8.3: '8-3'}\n",
            "1-4\n",
            "{1.6: '1-4', 1.2: '1-2', 6.7: '3-6', 8.5: '5-4', 7.8: '7-4', 8.3: '8-3'}\n",
            "3-4\n",
            "{1.6: '1-4', 1.2: '1-2', 6.7: '3-6', 8.5: '5-4', 7.8: '7-4', 8.3: '8-3'}\n",
            "1-4\n",
            "{1.6: '1-4', 1.2: '1-2', 6.7: '3-6', 8.5: '5-4', 7.8: '7-4', 8.3: '8-3'}\n",
            "3-4\n",
            "{1.6: '1-4', 1.2: '1-2', 6.7: '3-6', 8.5: '5-4', 7.8: '7-4', 8.3: '8-3'}\n",
            "3-4\n",
            "{1.6: '1-4', 1.2: '1-2', 6.7: '3-6', 8.5: '5-4', 7.8: '7-4', 8.3: '8-3'}\n",
            "3-4\n",
            "{1.6: '1-4', 1.2: '1-2', 6.7: '3-6', 8.5: '5-4', 7.8: '7-4', 8.3: '8-3'}\n",
            "3-4\n",
            "{1.6: '1-4', 1.2: '1-2', 6.7: '3-6', 8.5: '5-4', 7.8: '7-4', 8.3: '8-3'}\n",
            "3-4\n",
            "{1.6: '1-4', 1.2: '1-2', 6.7: '3-6', 8.5: '5-4', 7.8: '7-4', 8.3: '8-3'}\n",
            "3-4\n",
            "{1.6: '1-4', 1.2: '1-2', 6.7: '3-6', 8.5: '5-4', 7.8: '7-4', 8.3: '8-3'}\n",
            "3-4\n",
            "{1.6: '1-4', 1.2: '1-2', 6.7: '3-6', 8.5: '5-4', 7.8: '7-4', 8.3: '8-3'}\n",
            "3-4\n",
            "{1.6: '1-4', 1.2: '1-2', 6.7: '3-6', 8.5: '5-4', 7.8: '7-4', 8.3: '8-3'}\n",
            "3-4\n",
            "{1.6: '1-4', 1.2: '1-2', 6.7: '3-6', 8.5: '5-4', 7.8: '7-4', 8.3: '8-3'}\n",
            "3-4\n",
            "{1.6: '1-4', 1.2: '1-2', 6.7: '3-6', 8.5: '5-4', 7.8: '7-4', 8.3: '8-3'}\n",
            "3-4\n",
            "{1.6: '1-4', 1.2: '1-2', 6.7: '3-6', 8.5: '5-4', 7.8: '7-4', 8.3: '8-3'}\n",
            "3-2\n",
            "{1.6: '1-4', 1.2: '1-2', 6.7: '3-6', 8.5: '5-4', 7.8: '7-4', 8.3: '8-3'}\n",
            "3-4\n",
            "{1.6: '1-4', 1.2: '1-2', 6.7: '3-6', 8.5: '5-4', 7.8: '7-4', 8.3: '8-3'}\n",
            "3-4\n",
            "{1.6: '1-4', 1.2: '1-2', 6.7: '3-6', 8.5: '5-4', 7.8: '7-4', 8.3: '8-3'}\n",
            "1-4\n",
            "{1.6: '1-4', 1.2: '1-2', 6.7: '3-6', 8.5: '5-4', 7.8: '7-4', 8.3: '8-3'}\n",
            "3-4\n",
            "{1.6: '1-4', 1.2: '1-2', 6.7: '3-6', 8.5: '5-4', 7.8: '7-4', 8.3: '8-3'}\n",
            "3-4\n",
            "{1.6: '1-4', 1.2: '1-2', 6.7: '3-6', 8.5: '5-4', 7.8: '7-4', 8.3: '8-3'}\n",
            "3-2\n",
            "{1.6: '1-4', 1.2: '1-2', 6.7: '3-6', 8.5: '5-4', 7.8: '7-4', 8.3: '8-3'}\n",
            "3-4\n",
            "{1.6: '1-4', 1.2: '1-2', 6.7: '3-6', 8.5: '5-4', 7.8: '7-4', 8.3: '8-3'}\n",
            "3-4\n",
            "{1.6: '1-4', 1.2: '1-2', 6.7: '3-6', 8.5: '5-4', 7.8: '7-4', 8.3: '8-3'}\n",
            "3-4\n",
            "{1.6: '1-4', 1.2: '1-2', 6.7: '3-6', 8.5: '5-4', 7.8: '7-4', 8.3: '8-3'}\n",
            "3-4\n",
            "{1.6: '1-4', 1.2: '1-2', 6.7: '3-6', 8.5: '5-4', 7.8: '7-4', 8.3: '8-3'}\n",
            "3-4\n",
            "{1.6: '1-4', 1.2: '1-2', 6.7: '3-6', 8.5: '5-4', 7.8: '7-4', 8.3: '8-3'}\n",
            "3-4\n",
            "{1.6: '1-4', 1.2: '1-2', 6.7: '3-6', 8.5: '5-4', 7.8: '7-4', 8.3: '8-3'}\n",
            "3-4\n",
            "{1.6: '1-4', 1.2: '1-2', 6.7: '3-6', 8.5: '5-4', 7.8: '7-4', 8.3: '8-3'}\n",
            "3-4\n",
            "{1.6: '1-4', 1.2: '1-2', 6.7: '3-6', 8.5: '5-4', 7.8: '7-4', 8.3: '8-3'}\n",
            "3-4\n",
            "{1.6: '1-4', 1.2: '1-2', 6.7: '3-6', 8.5: '5-4', 7.8: '7-4', 8.3: '8-3'}\n",
            "3-4\n",
            "{1.6: '1-4', 1.2: '1-2', 6.7: '3-6', 8.5: '5-4', 7.8: '7-4', 8.3: '8-3'}\n",
            "3-4\n",
            "{1.6: '1-4', 1.2: '1-2', 6.7: '3-6', 8.5: '5-4', 7.8: '7-4', 8.3: '8-3'}\n",
            "3-4\n",
            "{1.6: '1-4', 1.2: '1-2', 6.7: '3-6', 8.5: '5-4', 7.8: '7-4', 8.3: '8-3'}\n",
            "3-4\n",
            "{1.6: '1-4', 1.2: '1-2', 6.7: '3-6', 8.5: '5-4', 7.8: '7-4', 8.3: '8-3'}\n",
            "3-4\n",
            "{1.6: '1-4', 1.2: '1-2', 6.7: '3-6', 8.5: '5-4', 7.8: '7-4', 8.3: '8-3'}\n",
            "3-4\n",
            "{1.6: '1-4', 1.2: '1-2', 6.7: '3-6', 8.5: '5-4', 7.8: '7-4', 8.3: '8-3'}\n",
            "3-2\n",
            "{1.6: '1-4', 1.2: '1-2', 6.7: '3-6', 8.5: '5-4', 7.8: '7-4', 8.3: '8-3'}\n",
            "3-4\n",
            "{1.6: '1-4', 1.2: '1-2', 6.7: '3-6', 8.5: '5-4', 7.8: '7-4', 8.3: '8-3'}\n",
            "3-4\n",
            "{1.6: '1-4', 1.2: '1-2', 6.7: '3-6', 8.5: '5-4', 7.8: '7-4', 8.3: '8-3'}\n",
            "3-2\n",
            "{1.6: '1-4', 1.2: '1-2', 6.7: '3-6', 8.5: '5-4', 7.8: '7-4', 8.3: '8-3'}\n",
            "3-4\n",
            "{1.6: '1-4', 1.2: '1-2', 6.7: '3-6', 8.5: '5-4', 7.8: '7-4', 8.3: '8-3'}\n",
            "3-4\n",
            "{1.6: '1-4', 1.2: '1-2', 6.7: '3-6', 8.5: '5-4', 7.8: '7-4', 8.3: '8-3'}\n",
            "3-4\n",
            "{1.6: '1-4', 1.2: '1-2', 6.7: '3-6', 8.5: '5-4', 7.8: '7-4', 8.3: '8-3'}\n",
            "3-4\n",
            "{1.6: '1-4', 1.2: '1-2', 6.7: '3-6', 8.5: '5-4', 7.8: '7-4', 8.3: '8-3'}\n",
            "1-4\n",
            "{1.6: '1-4', 1.2: '1-2', 6.7: '3-6', 8.5: '5-4', 7.8: '7-4', 8.3: '8-3'}\n",
            "3-4\n",
            "{1.6: '1-4', 1.2: '1-2', 6.7: '3-6', 8.5: '5-4', 7.8: '7-4', 8.3: '8-3'}\n",
            "3-4\n",
            "{1.6: '1-4', 1.2: '1-2', 6.7: '3-6', 8.5: '5-4', 7.8: '7-4', 8.3: '8-3'}\n",
            "1-4\n",
            "{1.6: '1-4', 1.2: '1-2', 6.7: '3-6', 8.5: '5-4', 7.8: '7-4', 8.3: '8-3'}\n",
            "3-4\n",
            "{1.6: '1-4', 1.2: '1-2', 6.7: '3-6', 8.5: '5-4', 7.8: '7-4', 8.3: '8-3'}\n",
            "3-4\n",
            "{1.6: '1-4', 1.2: '1-2', 6.7: '3-6', 8.5: '5-4', 7.8: '7-4', 8.3: '8-3'}\n",
            "3-4\n",
            "{1.6: '1-4', 1.2: '1-2', 6.7: '3-6', 8.5: '5-4', 7.8: '7-4', 8.3: '8-3'}\n",
            "3-2\n",
            "{1.6: '1-4', 1.2: '1-2', 6.7: '3-6', 8.5: '5-4', 7.8: '7-4', 8.3: '8-3'}\n",
            "3-4\n",
            "{1.6: '1-4', 1.2: '1-2', 6.7: '3-6', 8.5: '5-4', 7.8: '7-4', 8.3: '8-3'}\n",
            "3-4\n",
            "{1.6: '1-4', 1.2: '1-2', 6.7: '3-6', 8.5: '5-4', 7.8: '7-4', 8.3: '8-3'}\n",
            "3-4\n",
            "{1.6: '1-4', 1.2: '1-2', 6.7: '3-6', 8.5: '5-4', 7.8: '7-4', 8.3: '8-3'}\n",
            "3-4\n",
            "{1.6: '1-4', 1.2: '1-2', 6.7: '3-6', 8.5: '5-4', 7.8: '7-4', 8.3: '8-3'}\n",
            "3-4\n",
            "{1.6: '1-4', 1.2: '1-2', 6.7: '3-6', 8.5: '5-4', 7.8: '7-4', 8.3: '8-3'}\n",
            "3-4\n",
            "{1.6: '1-4', 1.2: '1-2', 6.7: '3-6', 8.5: '5-4', 7.8: '7-4', 8.3: '8-3'}\n",
            "3-4\n",
            "{1.6: '1-4', 1.2: '1-2', 6.7: '3-6', 8.5: '5-4', 7.8: '7-4', 8.3: '8-3'}\n",
            "3-4\n",
            "{1.6: '1-4', 1.2: '1-2', 6.7: '3-6', 8.5: '5-4', 7.8: '7-4', 8.3: '8-3'}\n",
            "3-4\n",
            "{1.6: '1-4', 1.2: '1-2', 6.7: '3-6', 8.5: '5-4', 7.8: '7-4', 8.3: '8-3'}\n",
            "3-4\n",
            "{1.6: '1-4', 1.2: '1-2', 6.7: '3-6', 8.5: '5-4', 7.8: '7-4', 8.3: '8-3'}\n",
            "3-4\n",
            "{1.6: '1-4', 1.2: '1-2', 6.7: '3-6', 8.5: '5-4', 7.8: '7-4', 8.3: '8-3'}\n",
            "1-4\n",
            "{1.6: '1-4', 1.2: '1-2', 6.7: '3-6', 8.5: '5-4', 7.8: '7-4', 8.3: '8-3'}\n",
            "3-4\n",
            "{1.6: '1-4', 1.2: '1-2', 6.7: '3-6', 8.5: '5-4', 7.8: '7-4', 8.3: '8-3'}\n",
            "3-4\n",
            "{1.6: '1-4', 1.2: '1-2', 6.7: '3-6', 8.5: '5-4', 7.8: '7-4', 8.3: '8-3'}\n",
            "3-4\n",
            "{1.6: '1-4', 1.2: '1-2', 6.7: '3-6', 8.5: '5-4', 7.8: '7-4', 8.3: '8-3'}\n",
            "3-4\n",
            "{1.6: '1-4', 1.2: '1-2', 6.7: '3-6', 8.5: '5-4', 7.8: '7-4', 8.3: '8-3'}\n",
            "3-4\n",
            "{1.6: '1-4', 1.2: '1-2', 6.7: '3-6', 8.5: '5-4', 7.8: '7-4', 8.3: '8-3'}\n",
            "1-4\n",
            "{1.6: '1-4', 1.2: '1-2', 6.7: '3-6', 8.5: '5-4', 7.8: '7-4', 8.3: '8-3'}\n",
            "3-2\n",
            "{1.6: '1-4', 1.2: '1-2', 6.7: '3-6', 8.5: '5-4', 7.8: '7-4', 8.3: '8-3'}\n",
            "3-4\n",
            "{1.6: '1-4', 1.2: '1-2', 6.7: '3-6', 8.5: '5-4', 7.8: '7-4', 8.3: '8-3'}\n",
            "3-4\n",
            "{1.6: '1-4', 1.2: '1-2', 6.7: '3-6', 8.5: '5-4', 7.8: '7-4', 8.3: '8-3'}\n",
            "3-4\n",
            "{1.6: '1-4', 1.2: '1-2', 6.7: '3-6', 8.5: '5-4', 7.8: '7-4', 8.3: '8-3'}\n",
            "3-4\n",
            "{1.6: '1-4', 1.2: '1-2', 6.7: '3-6', 8.5: '5-4', 7.8: '7-4', 8.3: '8-3'}\n",
            "react\n"
          ],
          "name": "stdout"
        }
      ]
    },
    {
      "cell_type": "code",
      "metadata": {
        "id": "eE9353e70Ckp",
        "colab_type": "code",
        "colab": {}
      },
      "source": [
        "\n",
        "\n",
        "react={}\n",
        "for i in arr2:\n",
        "        keytxt='%s-%s' % (i[0],i[1])\n",
        "        if mydict.get(k2):\n",
        "        print(k2)\n",
        "        #print(react)\n",
        "print(\"react\")\n",
        "print(react)\n",
        "\n",
        "for sset in arr2:\n",
        "    k2='%s-%s' % (sset[0],sset[1])\n",
        "    if mydict.get(k2):\n",
        "        print(k2)\n",
        "\n",
        "print(k2)"
      ],
      "execution_count": null,
      "outputs": []
    },
    {
      "cell_type": "code",
      "metadata": {
        "id": "Bfdcl-dhiPeg",
        "colab_type": "code",
        "colab": {
          "base_uri": "https://localhost:8080/",
          "height": 297
        },
        "outputId": "d18d38c6-c006-4bad-dbb7-3bb434af9687"
      },
      "source": [
        "import codecs\n",
        "import pandas as pd\n",
        "\n",
        "with codecs.open(r'/content/drive/My Drive/arr2.csv', \"r\", \"Shift-JIS\", \"ignore\") as file:\n",
        "    df2 = pd.read_table(file, delimiter=\",\")\n",
        "\n",
        "print(df2)\n",
        "\n",
        "reader = df2\n",
        "\n",
        "#Create a dictionary from Pandas\n",
        "#If you give a value or list/tuple to the character string with the% operator, it can be expanded as follows.\n",
        "react={}\n",
        "for row in reader:\n",
        "        keytxt='%s-%s' % (row[1],row[2])\n",
        "        if keytxt in mydict.keys():\n",
        "         print(keytxt)\n",
        "         \n",
        "print(\"react\")\n",
        "\n",
        "for sset in arr2:\n",
        "    k2='%s-%s' % (sset[0],sset[1])\n",
        "    if react.get(k2):\n",
        "        print(k2)\n",
        "print(k2)"
      ],
      "execution_count": 8,
      "outputs": [
        {
          "output_type": "stream",
          "text": [
            "     Unnamed: 0  odd  even\n",
            "0             0    3     2\n",
            "1             1    3     4\n",
            "2             2    3     4\n",
            "3             3    3     4\n",
            "4             4    3     4\n",
            "..          ...  ...   ...\n",
            "105         105    3     2\n",
            "106         106    3     2\n",
            "107         107    3     4\n",
            "108         108    3     4\n",
            "109         109    3     4\n",
            "\n",
            "[110 rows x 3 columns]\n",
            "react\n",
            "3-4\n"
          ],
          "name": "stdout"
        }
      ]
    },
    {
      "cell_type": "code",
      "metadata": {
        "id": "eQBKc1JmigU3",
        "colab_type": "code",
        "colab": {
          "base_uri": "https://localhost:8080/",
          "height": 34
        },
        "outputId": "e7190404-e3aa-461f-fc94-28fab85c045f"
      },
      "source": [
        "print(sset)"
      ],
      "execution_count": null,
      "outputs": [
        {
          "output_type": "stream",
          "text": [
            "[45, 72]\n"
          ],
          "name": "stdout"
        }
      ]
    },
    {
      "cell_type": "code",
      "metadata": {
        "id": "ELw19n7V9BuL",
        "colab_type": "code",
        "colab": {
          "base_uri": "https://localhost:8080/",
          "height": 457
        },
        "outputId": "5761b58e-d67a-4c6f-d37e-b66289c0a047"
      },
      "source": [
        "\n",
        "import codecs\n",
        "import pandas as pd\n",
        "\n",
        "with codecs.open(r'/content/drive/My Drive/arr2.csv', \"r\", \"Shift-JIS\", \"ignore\") as file:\n",
        "    df2 = pd.read_table(file, delimiter=\",\")\n",
        "\n",
        "#print(df2)\n",
        "\n",
        "reader = df2\n",
        "\n",
        "print(arr2)\n",
        "\n",
        "#Create a dictionary from Pandas\n",
        "#If you give a value or list/tuple to the character string with the% operator, it can be expanded as follows.\n",
        "\n",
        "#\"row\" is used when exporting Excel. Take out the parts separated by commas! !!\n",
        "react={}\n",
        "for arr2 in reader:\n",
        "        keytxt='%s-%s' % (arr2[1],arr2[2])\n",
        "        keytxt2='%s,waiawawaww,%s' % (arr2[1],arr2[2])\n",
        "        print(keytxt2)\n",
        "        react[keytxt]=1\n",
        "        print(react)\n",
        "print(\"react\")\n",
        "\n",
        "print(react)\n",
        "\n",
        "print(\"keytxt\")\n",
        "\n",
        "print(keytxt)\n",
        "\n",
        "print(\"keytxt2\")\n",
        "\n",
        "print(keytxt2)\n",
        "\n",
        "for sset in arr2:\n",
        "    k2='%s-%s' % (sset[1],sset[2])\n",
        "    if react.get(k2):\n",
        "        print(k2)\n",
        "print(\"k2\")\n",
        "\n",
        "print(k2)\n",
        "\n"
      ],
      "execution_count": null,
      "outputs": [
        {
          "output_type": "stream",
          "text": [
            "even\n",
            "n,waiawawaww,n\n",
            "{'n-n': 1}\n",
            "d,waiawawaww,d\n",
            "{'n-n': 1, 'd-d': 1}\n",
            "v,waiawawaww,e\n",
            "{'n-n': 1, 'd-d': 1, 'v-e': 1}\n",
            "react\n",
            "{'n-n': 1, 'd-d': 1, 'v-e': 1}\n",
            "keytxt\n",
            "v-e\n",
            "keytxt2\n",
            "v,waiawawaww,e\n"
          ],
          "name": "stdout"
        },
        {
          "output_type": "error",
          "ename": "IndexError",
          "evalue": "ignored",
          "traceback": [
            "\u001b[0;31m---------------------------------------------------------------------------\u001b[0m",
            "\u001b[0;31mIndexError\u001b[0m                                Traceback (most recent call last)",
            "\u001b[0;32m<ipython-input-31-1bf7b2eedd85>\u001b[0m in \u001b[0;36m<module>\u001b[0;34m()\u001b[0m\n\u001b[1;32m     35\u001b[0m \u001b[0;34m\u001b[0m\u001b[0m\n\u001b[1;32m     36\u001b[0m \u001b[0;32mfor\u001b[0m \u001b[0msset\u001b[0m \u001b[0;32min\u001b[0m \u001b[0marr2\u001b[0m\u001b[0;34m:\u001b[0m\u001b[0;34m\u001b[0m\u001b[0;34m\u001b[0m\u001b[0m\n\u001b[0;32m---> 37\u001b[0;31m     \u001b[0mk2\u001b[0m\u001b[0;34m=\u001b[0m\u001b[0;34m'%s-%s'\u001b[0m \u001b[0;34m%\u001b[0m \u001b[0;34m(\u001b[0m\u001b[0msset\u001b[0m\u001b[0;34m[\u001b[0m\u001b[0;36m1\u001b[0m\u001b[0;34m]\u001b[0m\u001b[0;34m,\u001b[0m\u001b[0msset\u001b[0m\u001b[0;34m[\u001b[0m\u001b[0;36m2\u001b[0m\u001b[0;34m]\u001b[0m\u001b[0;34m)\u001b[0m\u001b[0;34m\u001b[0m\u001b[0;34m\u001b[0m\u001b[0m\n\u001b[0m\u001b[1;32m     38\u001b[0m     \u001b[0;32mif\u001b[0m \u001b[0mreact\u001b[0m\u001b[0;34m.\u001b[0m\u001b[0mget\u001b[0m\u001b[0;34m(\u001b[0m\u001b[0mk2\u001b[0m\u001b[0;34m)\u001b[0m\u001b[0;34m:\u001b[0m\u001b[0;34m\u001b[0m\u001b[0;34m\u001b[0m\u001b[0m\n\u001b[1;32m     39\u001b[0m         \u001b[0mprint\u001b[0m\u001b[0;34m(\u001b[0m\u001b[0mk2\u001b[0m\u001b[0;34m)\u001b[0m\u001b[0;34m\u001b[0m\u001b[0;34m\u001b[0m\u001b[0m\n",
            "\u001b[0;31mIndexError\u001b[0m: string index out of range"
          ]
        }
      ]
    },
    {
      "cell_type": "code",
      "metadata": {
        "id": "Ccr_aIdH9BrD",
        "colab_type": "code",
        "colab": {
          "base_uri": "https://localhost:8080/",
          "height": 304
        },
        "outputId": "2c0f3c1c-1cf9-4e5c-a178-b0586cba1787"
      },
      "source": [
        "import codecs\n",
        "import pandas as pd\n",
        "\n",
        "with codecs.open(r'/content/drive/My Drive/arr2.csv', \"r\", \"Shift-JIS\", \"ignore\") as file:\n",
        "    df2 = pd.read_table(file, delimiter=\",\")\n",
        "\n",
        "#print(df2)\n",
        "\n",
        "reader = df2\n",
        "\n",
        "#Create a dictionary from Pandas\n",
        "#If you give a value or list/tuple to the character string with the% operator, it can be expanded as follows.\n",
        "react={}\n",
        "for row in reader:\n",
        "        keytxt='%s-%s' % (row[1],row[2])\n",
        "        \n",
        "        react[keytxt]=1\n",
        "        print(react)\n",
        "print(\"react\")\n",
        "\n",
        "for sset in arr2:\n",
        "    k2='%s-%s' % (sset[0],sset[1])\n",
        "    if react.get(k2):\n",
        "        print(k2)\n",
        "print(k2)\n"
      ],
      "execution_count": null,
      "outputs": [
        {
          "output_type": "stream",
          "text": [
            "{'n-n': 1}\n",
            "{'n-n': 1, 'd-d': 1}\n",
            "{'n-n': 1, 'd-d': 1, 'v-e': 1}\n",
            "react\n"
          ],
          "name": "stdout"
        },
        {
          "output_type": "error",
          "ename": "IndexError",
          "evalue": "ignored",
          "traceback": [
            "\u001b[0;31m---------------------------------------------------------------------------\u001b[0m",
            "\u001b[0;31mIndexError\u001b[0m                                Traceback (most recent call last)",
            "\u001b[0;32m<ipython-input-32-65bdde7b1376>\u001b[0m in \u001b[0;36m<module>\u001b[0;34m()\u001b[0m\n\u001b[1;32m     20\u001b[0m \u001b[0;34m\u001b[0m\u001b[0m\n\u001b[1;32m     21\u001b[0m \u001b[0;32mfor\u001b[0m \u001b[0msset\u001b[0m \u001b[0;32min\u001b[0m \u001b[0marr2\u001b[0m\u001b[0;34m:\u001b[0m\u001b[0;34m\u001b[0m\u001b[0;34m\u001b[0m\u001b[0m\n\u001b[0;32m---> 22\u001b[0;31m     \u001b[0mk2\u001b[0m\u001b[0;34m=\u001b[0m\u001b[0;34m'%s-%s'\u001b[0m \u001b[0;34m%\u001b[0m \u001b[0;34m(\u001b[0m\u001b[0msset\u001b[0m\u001b[0;34m[\u001b[0m\u001b[0;36m0\u001b[0m\u001b[0;34m]\u001b[0m\u001b[0;34m,\u001b[0m\u001b[0msset\u001b[0m\u001b[0;34m[\u001b[0m\u001b[0;36m1\u001b[0m\u001b[0;34m]\u001b[0m\u001b[0;34m)\u001b[0m\u001b[0;34m\u001b[0m\u001b[0;34m\u001b[0m\u001b[0m\n\u001b[0m\u001b[1;32m     23\u001b[0m     \u001b[0;32mif\u001b[0m \u001b[0mreact\u001b[0m\u001b[0;34m.\u001b[0m\u001b[0mget\u001b[0m\u001b[0;34m(\u001b[0m\u001b[0mk2\u001b[0m\u001b[0;34m)\u001b[0m\u001b[0;34m:\u001b[0m\u001b[0;34m\u001b[0m\u001b[0;34m\u001b[0m\u001b[0m\n\u001b[1;32m     24\u001b[0m         \u001b[0mprint\u001b[0m\u001b[0;34m(\u001b[0m\u001b[0mk2\u001b[0m\u001b[0;34m)\u001b[0m\u001b[0;34m\u001b[0m\u001b[0;34m\u001b[0m\u001b[0m\n",
            "\u001b[0;31mIndexError\u001b[0m: string index out of range"
          ]
        }
      ]
    },
    {
      "cell_type": "code",
      "metadata": {
        "id": "kKuLqTJ3Vs9C",
        "colab_type": "code",
        "colab": {}
      },
      "source": [
        ""
      ],
      "execution_count": null,
      "outputs": []
    },
    {
      "cell_type": "code",
      "metadata": {
        "id": "sie8lnKoVs6_",
        "colab_type": "code",
        "colab": {}
      },
      "source": [
        ""
      ],
      "execution_count": null,
      "outputs": []
    },
    {
      "cell_type": "code",
      "metadata": {
        "id": "6BaoRP-5Vs4G",
        "colab_type": "code",
        "colab": {}
      },
      "source": [
        ""
      ],
      "execution_count": null,
      "outputs": []
    },
    {
      "cell_type": "code",
      "metadata": {
        "id": "UMrHf3k20rFT",
        "colab_type": "code",
        "colab": {
          "base_uri": "https://localhost:8080/",
          "height": 68
        },
        "outputId": "02b816d6-1f36-4d2d-fc74-ffd4e509aa11"
      },
      "source": [
        "mylist = [[0]*2 for i in range(3)]\n",
        "print(mylist)\n",
        "\n",
        "mylist1_1 = mylist\n",
        "print(mylist1_1)\n",
        "mylist1_1[2][1]=100\n",
        "print(mylist1_1)\n"
      ],
      "execution_count": null,
      "outputs": [
        {
          "output_type": "stream",
          "text": [
            "[[0, 0], [0, 0], [0, 0]]\n",
            "[[0, 0], [0, 0], [0, 0]]\n",
            "[[0, 0], [0, 0], [0, 100]]\n"
          ],
          "name": "stdout"
        }
      ]
    },
    {
      "cell_type": "code",
      "metadata": {
        "id": "uL1CuItM9AUZ",
        "colab_type": "code",
        "colab": {}
      },
      "source": [
        ""
      ],
      "execution_count": null,
      "outputs": []
    },
    {
      "cell_type": "code",
      "metadata": {
        "id": "ydCYTy9o1BMg",
        "colab_type": "code",
        "colab": {
          "base_uri": "https://localhost:8080/",
          "height": 221
        },
        "outputId": "0c111f3e-a8a8-491b-8f15-f4bbedb59aab"
      },
      "source": [
        "for i in range(3):\n",
        "  for w in range(2):\n",
        "\n",
        "   print(i)\n",
        "   print(w)"
      ],
      "execution_count": null,
      "outputs": [
        {
          "output_type": "stream",
          "text": [
            "0\n",
            "0\n",
            "0\n",
            "1\n",
            "1\n",
            "0\n",
            "1\n",
            "1\n",
            "2\n",
            "0\n",
            "2\n",
            "1\n"
          ],
          "name": "stdout"
        }
      ]
    },
    {
      "cell_type": "code",
      "metadata": {
        "id": "wzjqKw_40NZ9",
        "colab_type": "code",
        "colab": {
          "base_uri": "https://localhost:8080/",
          "height": 221
        },
        "outputId": "71bf5505-1e12-4b29-bbaf-b18da35aeceb"
      },
      "source": [
        "\n",
        "def Enter_data(a, b):\n",
        " for i in range(a):\n",
        "  for w in range(b):\n",
        "   print(w)\n",
        "   print(i)\n",
        "\n",
        "\n",
        "Enter_data(2, 3)"
      ],
      "execution_count": null,
      "outputs": [
        {
          "output_type": "stream",
          "text": [
            "0\n",
            "0\n",
            "1\n",
            "0\n",
            "2\n",
            "0\n",
            "0\n",
            "1\n",
            "1\n",
            "1\n",
            "2\n",
            "1\n"
          ],
          "name": "stdout"
        }
      ]
    },
    {
      "cell_type": "code",
      "metadata": {
        "id": "4Xng0tME19f8",
        "colab_type": "code",
        "colab": {
          "base_uri": "https://localhost:8080/",
          "height": 221
        },
        "outputId": "d722a8d1-8212-4efd-a245-193ca5ad87bf"
      },
      "source": [
        "Enter_data(2, 3)"
      ],
      "execution_count": null,
      "outputs": [
        {
          "output_type": "stream",
          "text": [
            "0\n",
            "0\n",
            "1\n",
            "0\n",
            "2\n",
            "0\n",
            "0\n",
            "1\n",
            "1\n",
            "1\n",
            "2\n",
            "1\n"
          ],
          "name": "stdout"
        }
      ]
    },
    {
      "cell_type": "code",
      "metadata": {
        "id": "m8AhOjiF2PwF",
        "colab_type": "code",
        "colab": {
          "base_uri": "https://localhost:8080/",
          "height": 85
        },
        "outputId": "dfbc9dbe-8ec4-4e64-ed86-41bec9533c42"
      },
      "source": [
        "mylist2 = mylist\n",
        "\n",
        "def Enter_data2(a, b):\n",
        " for i in range(a):\n",
        "  for w in range(b):\n",
        "   print(w,i)\n",
        "\n",
        "   mylist2[w][0]=w\n",
        "   mylist2[w][1]=w\n",
        "   \n",
        "\n",
        "  return mylist2\n",
        "\n",
        "make_mylist = Enter_data2(2, 3)\n",
        "\n",
        "print(make_mylist)"
      ],
      "execution_count": null,
      "outputs": [
        {
          "output_type": "stream",
          "text": [
            "0 0\n",
            "1 0\n",
            "2 0\n",
            "[[0, 0], [1, 1], [2, 2]]\n"
          ],
          "name": "stdout"
        }
      ]
    },
    {
      "cell_type": "code",
      "metadata": {
        "id": "a8z-xoo34UXk",
        "colab_type": "code",
        "colab": {
          "base_uri": "https://localhost:8080/",
          "height": 221
        },
        "outputId": "e0eb2c20-1592-4538-a0be-76a9c0e9bfa8"
      },
      "source": [
        "mylist2 = mylist\n",
        "\n",
        "def Enter_data2(a, b,c,d):\n",
        " for i in range(a):\n",
        "  for w in range(b):\n",
        "   print(w,i)\n",
        "   mylist2[w][0]=c\n",
        "   mylist2[w][1]=d\n",
        "  return mylist2\n",
        "\n",
        "make_mylist = Enter_data2(2, 3,0,0)\n",
        "\n",
        "print(make_mylist)\n",
        "\n",
        "make_mylist = Enter_data2(2, 3,1,2)\n",
        "\n",
        "print(make_mylist)\n",
        "\n",
        "make_mylist = Enter_data2(2, 3,1,5)\n",
        "\n",
        "print(make_mylist)"
      ],
      "execution_count": null,
      "outputs": [
        {
          "output_type": "stream",
          "text": [
            "0 0\n",
            "1 0\n",
            "2 0\n",
            "[[0, 0], [0, 0], [0, 0]]\n",
            "0 0\n",
            "1 0\n",
            "2 0\n",
            "[[1, 2], [1, 2], [1, 2]]\n",
            "0 0\n",
            "1 0\n",
            "2 0\n",
            "[[1, 5], [1, 5], [1, 5]]\n"
          ],
          "name": "stdout"
        }
      ]
    },
    {
      "cell_type": "code",
      "metadata": {
        "id": "F727ty9e1Un4",
        "colab_type": "code",
        "colab": {
          "base_uri": "https://localhost:8080/",
          "height": 221
        },
        "outputId": "76878a49-dbeb-4296-e733-d1d607069a91"
      },
      "source": [
        "mylist2 = mylist\n",
        "print(mylist2)\n",
        "mylist2[1][0]=100\n",
        "print(mylist2)\n",
        "mylist3 = mylist\n",
        "print(mylist3)\n",
        "\n",
        "mylist4 = list(range(0,7))\n",
        "print(mylist4)\n",
        "\n",
        "for w in range(2):\n",
        "  print(w)\n",
        "  mylist3[0][w]=w\n",
        "  print(mylist3)\n",
        "\n",
        "\n",
        "for w in range(2):\n",
        "  print(w)\n",
        "  mylist3[w][0]=w\n",
        "  print(mylist3)"
      ],
      "execution_count": null,
      "outputs": [
        {
          "output_type": "stream",
          "text": [
            "[[0, 0], [1, 1], [2, 2]]\n",
            "[[0, 0], [100, 1], [2, 2]]\n",
            "[[0, 0], [100, 1], [2, 2]]\n",
            "[0, 1, 2, 3, 4, 5, 6]\n",
            "0\n",
            "[[0, 0], [100, 1], [2, 2]]\n",
            "1\n",
            "[[0, 1], [100, 1], [2, 2]]\n",
            "0\n",
            "[[0, 1], [100, 1], [2, 2]]\n",
            "1\n",
            "[[0, 1], [1, 1], [2, 2]]\n"
          ],
          "name": "stdout"
        }
      ]
    },
    {
      "cell_type": "code",
      "metadata": {
        "id": "O3ciNuwh1VO0",
        "colab_type": "code",
        "colab": {
          "base_uri": "https://localhost:8080/",
          "height": 493
        },
        "outputId": "5185d9e5-cd87-4f44-c67e-e698903ce3cc"
      },
      "source": [
        "lookback = 1\n",
        "\n",
        "for i in range(len(mylist4)):\n",
        " j = 0 - lookback + i\n",
        " k = j + lookback\n",
        "        \n",
        " mylist3[0][0] = mylist4[j]\n",
        " mylist3[0][1] = mylist4[k]\n",
        "\n",
        " print(\"tugihaXdayo\")\n",
        " print(mylist3)\n",
        " print(\"tugihaYdayo\")\n",
        " print(mylist3)"
      ],
      "execution_count": null,
      "outputs": [
        {
          "output_type": "stream",
          "text": [
            "tugihaXdayo\n",
            "[[6, 0], [1, 1], [2, 2]]\n",
            "tugihaYdayo\n",
            "[[6, 0], [1, 1], [2, 2]]\n",
            "tugihaXdayo\n",
            "[[0, 1], [1, 1], [2, 2]]\n",
            "tugihaYdayo\n",
            "[[0, 1], [1, 1], [2, 2]]\n",
            "tugihaXdayo\n",
            "[[1, 2], [1, 1], [2, 2]]\n",
            "tugihaYdayo\n",
            "[[1, 2], [1, 1], [2, 2]]\n",
            "tugihaXdayo\n",
            "[[2, 3], [1, 1], [2, 2]]\n",
            "tugihaYdayo\n",
            "[[2, 3], [1, 1], [2, 2]]\n",
            "tugihaXdayo\n",
            "[[3, 4], [1, 1], [2, 2]]\n",
            "tugihaYdayo\n",
            "[[3, 4], [1, 1], [2, 2]]\n",
            "tugihaXdayo\n",
            "[[4, 5], [1, 1], [2, 2]]\n",
            "tugihaYdayo\n",
            "[[4, 5], [1, 1], [2, 2]]\n",
            "tugihaXdayo\n",
            "[[5, 6], [1, 1], [2, 2]]\n",
            "tugihaYdayo\n",
            "[[5, 6], [1, 1], [2, 2]]\n"
          ],
          "name": "stdout"
        }
      ]
    },
    {
      "cell_type": "code",
      "metadata": {
        "id": "JLznKUYo3PF-",
        "colab_type": "code",
        "colab": {
          "base_uri": "https://localhost:8080/",
          "height": 372
        },
        "outputId": "f047a2a2-4ad5-4a9e-8cd5-461848244eef"
      },
      "source": [
        "lookback = 1\n",
        "\n",
        "for i in range(len(mylist4)):\n",
        " j = i \n",
        "  \n",
        " mylist3[0][j] = mylist4[j-1]\n",
        " mylist3[0][j] = mylist4[j]\n",
        " mylist3[0][j] = mylist4[j]\n",
        "\n",
        "\n",
        " print(\"tugihaXdayo\")\n",
        " print(mylist3)\n",
        " print(\"tugihaYdayo\")\n",
        " print(mylist3)"
      ],
      "execution_count": null,
      "outputs": [
        {
          "output_type": "stream",
          "text": [
            "tugihaXdayo\n",
            "[[0, 1], [1, 1], [2, 2]]\n",
            "tugihaYdayo\n",
            "[[0, 1], [1, 1], [2, 2]]\n",
            "tugihaXdayo\n",
            "[[0, 1], [1, 1], [2, 2]]\n",
            "tugihaYdayo\n",
            "[[0, 1], [1, 1], [2, 2]]\n"
          ],
          "name": "stdout"
        },
        {
          "output_type": "error",
          "ename": "IndexError",
          "evalue": "ignored",
          "traceback": [
            "\u001b[0;31m---------------------------------------------------------------------------\u001b[0m",
            "\u001b[0;31mIndexError\u001b[0m                                Traceback (most recent call last)",
            "\u001b[0;32m<ipython-input-115-d3f6c760e2a1>\u001b[0m in \u001b[0;36m<module>\u001b[0;34m()\u001b[0m\n\u001b[1;32m      4\u001b[0m  \u001b[0mj\u001b[0m \u001b[0;34m=\u001b[0m \u001b[0mi\u001b[0m\u001b[0;34m\u001b[0m\u001b[0;34m\u001b[0m\u001b[0m\n\u001b[1;32m      5\u001b[0m \u001b[0;34m\u001b[0m\u001b[0m\n\u001b[0;32m----> 6\u001b[0;31m  \u001b[0mmylist3\u001b[0m\u001b[0;34m[\u001b[0m\u001b[0;36m0\u001b[0m\u001b[0;34m]\u001b[0m\u001b[0;34m[\u001b[0m\u001b[0mj\u001b[0m\u001b[0;34m]\u001b[0m \u001b[0;34m=\u001b[0m \u001b[0mmylist4\u001b[0m\u001b[0;34m[\u001b[0m\u001b[0mj\u001b[0m\u001b[0;34m-\u001b[0m\u001b[0;36m1\u001b[0m\u001b[0;34m]\u001b[0m\u001b[0;34m\u001b[0m\u001b[0;34m\u001b[0m\u001b[0m\n\u001b[0m\u001b[1;32m      7\u001b[0m  \u001b[0mmylist3\u001b[0m\u001b[0;34m[\u001b[0m\u001b[0;36m0\u001b[0m\u001b[0;34m]\u001b[0m\u001b[0;34m[\u001b[0m\u001b[0mj\u001b[0m\u001b[0;34m]\u001b[0m \u001b[0;34m=\u001b[0m \u001b[0mmylist4\u001b[0m\u001b[0;34m[\u001b[0m\u001b[0mj\u001b[0m\u001b[0;34m]\u001b[0m\u001b[0;34m\u001b[0m\u001b[0;34m\u001b[0m\u001b[0m\n\u001b[1;32m      8\u001b[0m  \u001b[0mmylist3\u001b[0m\u001b[0;34m[\u001b[0m\u001b[0;36m0\u001b[0m\u001b[0;34m]\u001b[0m\u001b[0;34m[\u001b[0m\u001b[0mj\u001b[0m\u001b[0;34m]\u001b[0m \u001b[0;34m=\u001b[0m \u001b[0mmylist4\u001b[0m\u001b[0;34m[\u001b[0m\u001b[0mj\u001b[0m\u001b[0;34m]\u001b[0m\u001b[0;34m\u001b[0m\u001b[0;34m\u001b[0m\u001b[0m\n",
            "\u001b[0;31mIndexError\u001b[0m: list assignment index out of range"
          ]
        }
      ]
    },
    {
      "cell_type": "code",
      "metadata": {
        "id": "1z7ADz3D3PJe",
        "colab_type": "code",
        "colab": {}
      },
      "source": [
        ""
      ],
      "execution_count": null,
      "outputs": []
    }
  ]
}