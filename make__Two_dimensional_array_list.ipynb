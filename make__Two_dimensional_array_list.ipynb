{
  "nbformat": 4,
  "nbformat_minor": 0,
  "metadata": {
    "colab": {
      "name": "make_ Two-dimensional_array_list.ipynb ",
      "provenance": [],
      "collapsed_sections": [],
      "mount_file_id": "1oOXtb2U_upVIz9KuwL-WSrScDG1iXc8o",
      "authorship_tag": "ABX9TyPRRRZrtJw0obOxLi/yolnp",
      "include_colab_link": true
    },
    "kernelspec": {
      "name": "python3",
      "display_name": "Python 3"
    }
  },
  "cells": [
    {
      "cell_type": "markdown",
      "metadata": {
        "id": "view-in-github",
        "colab_type": "text"
      },
      "source": [
        "<a href=\"https://colab.research.google.com/github/dennkitotaichi/kabuka1/blob/master/make__Two_dimensional_array_list.ipynb\" target=\"_parent\"><img src=\"https://colab.research.google.com/assets/colab-badge.svg\" alt=\"Open In Colab\"/></a>"
      ]
    },
    {
      "cell_type": "code",
      "metadata": {
        "id": "-94OsZ4D9AXE",
        "colab_type": "code",
        "colab": {
          "base_uri": "https://localhost:8080/",
          "height": 105
        },
        "outputId": "07cab388-3c0f-4a34-c6e5-866d11427684"
      },
      "source": [
        "\n",
        "list2 = list(range(1,101))\n",
        "\n",
        "odd = list(filter(lambda x: x%2 == 1, list2))\n",
        "print(\"odd\")\n",
        "print(odd)\n",
        "\n",
        "#Display even numbers\n",
        "even = list(filter(lambda x: x%2 == 0, list2))\n",
        "print(\"even\")\n",
        "print(even)"
      ],
      "execution_count": 5,
      "outputs": [
        {
          "output_type": "stream",
          "text": [
            "odd\n",
            "[1, 3, 5, 7, 9, 11, 13, 15, 17, 19, 21, 23, 25, 27, 29, 31, 33, 35, 37, 39, 41, 43, 45, 47, 49, 51, 53, 55, 57, 59, 61, 63, 65, 67, 69, 71, 73, 75, 77, 79, 81, 83, 85, 87, 89, 91, 93, 95, 97, 99]\n",
            "even\n",
            "[2, 4, 6, 8, 10, 12, 14, 16, 18, 20, 22, 24, 26, 28, 30, 32, 34, 36, 38, 40, 42, 44, 46, 48, 50, 52, 54, 56, 58, 60, 62, 64, 66, 68, 70, 72, 74, 76, 78, 80, 82, 84, 86, 88, 90, 92, 94, 96, 98, 100]\n"
          ],
          "name": "stdout"
        }
      ]
    },
    {
      "cell_type": "code",
      "metadata": {
        "id": "8wvQC4Sg9Bxe",
        "colab_type": "code",
        "colab": {
          "base_uri": "https://localhost:8080/",
          "height": 955
        },
        "outputId": "b19259b1-ea69-4df1-c2c4-b65d70f16ac1"
      },
      "source": [
        "import pandas as pd\n",
        "import random\n",
        "random.shuffle(odd)\n",
        "print(odd)\n",
        "\n",
        "random.shuffle(even)\n",
        "print(even)\n",
        "\n",
        "arr2 = []\n",
        "for i, j in zip(odd, even):\n",
        "    arr2.append([i, j])\n",
        "print(arr2)\n",
        "df = pd.DataFrame(arr2,\n",
        "                  columns=['odd', 'even'])\n",
        "print(df)\n",
        "\n",
        "df.to_csv(r'/content/drive/My Drive/arr2.csv', encoding = \"shift-jis\")"
      ],
      "execution_count": 6,
      "outputs": [
        {
          "output_type": "stream",
          "text": [
            "[53, 99, 25, 59, 41, 33, 19, 61, 65, 63, 69, 3, 85, 43, 75, 47, 15, 89, 7, 27, 23, 29, 79, 77, 17, 83, 57, 67, 21, 87, 1, 11, 97, 31, 5, 95, 37, 93, 13, 91, 39, 73, 35, 51, 45, 9, 71, 55, 49, 81]\n",
            "[64, 92, 82, 58, 56, 88, 68, 62, 22, 70, 100, 94, 24, 6, 98, 42, 26, 78, 44, 36, 72, 50, 86, 84, 16, 52, 54, 38, 74, 2, 34, 10, 4, 12, 46, 8, 80, 40, 90, 48, 96, 60, 20, 66, 18, 14, 32, 30, 76, 28]\n",
            "[[53, 64], [99, 92], [25, 82], [59, 58], [41, 56], [33, 88], [19, 68], [61, 62], [65, 22], [63, 70], [69, 100], [3, 94], [85, 24], [43, 6], [75, 98], [47, 42], [15, 26], [89, 78], [7, 44], [27, 36], [23, 72], [29, 50], [79, 86], [77, 84], [17, 16], [83, 52], [57, 54], [67, 38], [21, 74], [87, 2], [1, 34], [11, 10], [97, 4], [31, 12], [5, 46], [95, 8], [37, 80], [93, 40], [13, 90], [91, 48], [39, 96], [73, 60], [35, 20], [51, 66], [45, 18], [9, 14], [71, 32], [55, 30], [49, 76], [81, 28]]\n",
            "    odd  even\n",
            "0    53    64\n",
            "1    99    92\n",
            "2    25    82\n",
            "3    59    58\n",
            "4    41    56\n",
            "5    33    88\n",
            "6    19    68\n",
            "7    61    62\n",
            "8    65    22\n",
            "9    63    70\n",
            "10   69   100\n",
            "11    3    94\n",
            "12   85    24\n",
            "13   43     6\n",
            "14   75    98\n",
            "15   47    42\n",
            "16   15    26\n",
            "17   89    78\n",
            "18    7    44\n",
            "19   27    36\n",
            "20   23    72\n",
            "21   29    50\n",
            "22   79    86\n",
            "23   77    84\n",
            "24   17    16\n",
            "25   83    52\n",
            "26   57    54\n",
            "27   67    38\n",
            "28   21    74\n",
            "29   87     2\n",
            "30    1    34\n",
            "31   11    10\n",
            "32   97     4\n",
            "33   31    12\n",
            "34    5    46\n",
            "35   95     8\n",
            "36   37    80\n",
            "37   93    40\n",
            "38   13    90\n",
            "39   91    48\n",
            "40   39    96\n",
            "41   73    60\n",
            "42   35    20\n",
            "43   51    66\n",
            "44   45    18\n",
            "45    9    14\n",
            "46   71    32\n",
            "47   55    30\n",
            "48   49    76\n",
            "49   81    28\n"
          ],
          "name": "stdout"
        }
      ]
    },
    {
      "cell_type": "code",
      "metadata": {
        "id": "ELw19n7V9BuL",
        "colab_type": "code",
        "colab": {
          "base_uri": "https://localhost:8080/",
          "height": 918
        },
        "outputId": "5e27c567-df0f-426d-b1c5-4d070969facd"
      },
      "source": [
        "import codecs\n",
        "import pandas as pd\n",
        "\n",
        "with codecs.open(r'/content/drive/My Drive/arr2.csv', \"r\", \"Shift-JIS\", \"ignore\") as file:\n",
        "    df2 = pd.read_table(file, delimiter=\",\")\n",
        "\n",
        "print(df2)\n",
        "\n",
        "reader = df2\n",
        "\n",
        "#Create a dictionary from Pandas\n",
        "#If you give a value or list/tuple to the character string with the% operator, it can be expanded as follows.\n",
        "react={}\n",
        "for row in reader:\n",
        "        keytxt='%s-%s' % (row[1],row[2])\n",
        "        react[keytxt]=1\n",
        "print(react)\n",
        "\n",
        "for sset in arr2:\n",
        "    k2='%s-%s' % (sset[0],sset[1])\n",
        "    if react.get(k2):\n",
        "        print(k2)\n",
        "print(k2)\n",
        "\n"
      ],
      "execution_count": 10,
      "outputs": [
        {
          "output_type": "stream",
          "text": [
            "    Unnamed: 0  odd  even\n",
            "0            0   53    64\n",
            "1            1   99    92\n",
            "2            2   25    82\n",
            "3            3   59    58\n",
            "4            4   41    56\n",
            "5            5   33    88\n",
            "6            6   19    68\n",
            "7            7   61    62\n",
            "8            8   65    22\n",
            "9            9   63    70\n",
            "10          10   69   100\n",
            "11          11    3    94\n",
            "12          12   85    24\n",
            "13          13   43     6\n",
            "14          14   75    98\n",
            "15          15   47    42\n",
            "16          16   15    26\n",
            "17          17   89    78\n",
            "18          18    7    44\n",
            "19          19   27    36\n",
            "20          20   23    72\n",
            "21          21   29    50\n",
            "22          22   79    86\n",
            "23          23   77    84\n",
            "24          24   17    16\n",
            "25          25   83    52\n",
            "26          26   57    54\n",
            "27          27   67    38\n",
            "28          28   21    74\n",
            "29          29   87     2\n",
            "30          30    1    34\n",
            "31          31   11    10\n",
            "32          32   97     4\n",
            "33          33   31    12\n",
            "34          34    5    46\n",
            "35          35   95     8\n",
            "36          36   37    80\n",
            "37          37   93    40\n",
            "38          38   13    90\n",
            "39          39   91    48\n",
            "40          40   39    96\n",
            "41          41   73    60\n",
            "42          42   35    20\n",
            "43          43   51    66\n",
            "44          44   45    18\n",
            "45          45    9    14\n",
            "46          46   71    32\n",
            "47          47   55    30\n",
            "48          48   49    76\n",
            "49          49   81    28\n",
            "{'n-n': 1, 'd-d': 1, 'v-e': 1}\n",
            "81-28\n"
          ],
          "name": "stdout"
        }
      ]
    },
    {
      "cell_type": "code",
      "metadata": {
        "id": "Ccr_aIdH9BrD",
        "colab_type": "code",
        "colab": {}
      },
      "source": [
        ""
      ],
      "execution_count": null,
      "outputs": []
    },
    {
      "cell_type": "code",
      "metadata": {
        "id": "UMrHf3k20rFT",
        "colab_type": "code",
        "colab": {
          "base_uri": "https://localhost:8080/",
          "height": 68
        },
        "outputId": "02b816d6-1f36-4d2d-fc74-ffd4e509aa11"
      },
      "source": [
        "mylist = [[0]*2 for i in range(3)]\n",
        "print(mylist)\n",
        "\n",
        "mylist1_1 = mylist\n",
        "print(mylist1_1)\n",
        "mylist1_1[2][1]=100\n",
        "print(mylist1_1)\n"
      ],
      "execution_count": null,
      "outputs": [
        {
          "output_type": "stream",
          "text": [
            "[[0, 0], [0, 0], [0, 0]]\n",
            "[[0, 0], [0, 0], [0, 0]]\n",
            "[[0, 0], [0, 0], [0, 100]]\n"
          ],
          "name": "stdout"
        }
      ]
    },
    {
      "cell_type": "code",
      "metadata": {
        "id": "uL1CuItM9AUZ",
        "colab_type": "code",
        "colab": {}
      },
      "source": [
        ""
      ],
      "execution_count": null,
      "outputs": []
    },
    {
      "cell_type": "code",
      "metadata": {
        "id": "ydCYTy9o1BMg",
        "colab_type": "code",
        "colab": {
          "base_uri": "https://localhost:8080/",
          "height": 221
        },
        "outputId": "0c111f3e-a8a8-491b-8f15-f4bbedb59aab"
      },
      "source": [
        "for i in range(3):\n",
        "  for w in range(2):\n",
        "\n",
        "   print(i)\n",
        "   print(w)"
      ],
      "execution_count": null,
      "outputs": [
        {
          "output_type": "stream",
          "text": [
            "0\n",
            "0\n",
            "0\n",
            "1\n",
            "1\n",
            "0\n",
            "1\n",
            "1\n",
            "2\n",
            "0\n",
            "2\n",
            "1\n"
          ],
          "name": "stdout"
        }
      ]
    },
    {
      "cell_type": "code",
      "metadata": {
        "id": "wzjqKw_40NZ9",
        "colab_type": "code",
        "colab": {
          "base_uri": "https://localhost:8080/",
          "height": 221
        },
        "outputId": "71bf5505-1e12-4b29-bbaf-b18da35aeceb"
      },
      "source": [
        "\n",
        "def Enter_data(a, b):\n",
        " for i in range(a):\n",
        "  for w in range(b):\n",
        "   print(w)\n",
        "   print(i)\n",
        "\n",
        "\n",
        "Enter_data(2, 3)"
      ],
      "execution_count": null,
      "outputs": [
        {
          "output_type": "stream",
          "text": [
            "0\n",
            "0\n",
            "1\n",
            "0\n",
            "2\n",
            "0\n",
            "0\n",
            "1\n",
            "1\n",
            "1\n",
            "2\n",
            "1\n"
          ],
          "name": "stdout"
        }
      ]
    },
    {
      "cell_type": "code",
      "metadata": {
        "id": "4Xng0tME19f8",
        "colab_type": "code",
        "colab": {
          "base_uri": "https://localhost:8080/",
          "height": 221
        },
        "outputId": "d722a8d1-8212-4efd-a245-193ca5ad87bf"
      },
      "source": [
        "Enter_data(2, 3)"
      ],
      "execution_count": null,
      "outputs": [
        {
          "output_type": "stream",
          "text": [
            "0\n",
            "0\n",
            "1\n",
            "0\n",
            "2\n",
            "0\n",
            "0\n",
            "1\n",
            "1\n",
            "1\n",
            "2\n",
            "1\n"
          ],
          "name": "stdout"
        }
      ]
    },
    {
      "cell_type": "code",
      "metadata": {
        "id": "m8AhOjiF2PwF",
        "colab_type": "code",
        "colab": {
          "base_uri": "https://localhost:8080/",
          "height": 85
        },
        "outputId": "dfbc9dbe-8ec4-4e64-ed86-41bec9533c42"
      },
      "source": [
        "mylist2 = mylist\n",
        "\n",
        "def Enter_data2(a, b):\n",
        " for i in range(a):\n",
        "  for w in range(b):\n",
        "   print(w,i)\n",
        "\n",
        "   mylist2[w][0]=w\n",
        "   mylist2[w][1]=w\n",
        "   \n",
        "\n",
        "  return mylist2\n",
        "\n",
        "make_mylist = Enter_data2(2, 3)\n",
        "\n",
        "print(make_mylist)"
      ],
      "execution_count": null,
      "outputs": [
        {
          "output_type": "stream",
          "text": [
            "0 0\n",
            "1 0\n",
            "2 0\n",
            "[[0, 0], [1, 1], [2, 2]]\n"
          ],
          "name": "stdout"
        }
      ]
    },
    {
      "cell_type": "code",
      "metadata": {
        "id": "a8z-xoo34UXk",
        "colab_type": "code",
        "colab": {
          "base_uri": "https://localhost:8080/",
          "height": 221
        },
        "outputId": "e0eb2c20-1592-4538-a0be-76a9c0e9bfa8"
      },
      "source": [
        "mylist2 = mylist\n",
        "\n",
        "def Enter_data2(a, b,c,d):\n",
        " for i in range(a):\n",
        "  for w in range(b):\n",
        "   print(w,i)\n",
        "   mylist2[w][0]=c\n",
        "   mylist2[w][1]=d\n",
        "  return mylist2\n",
        "\n",
        "make_mylist = Enter_data2(2, 3,0,0)\n",
        "\n",
        "print(make_mylist)\n",
        "\n",
        "make_mylist = Enter_data2(2, 3,1,2)\n",
        "\n",
        "print(make_mylist)\n",
        "\n",
        "make_mylist = Enter_data2(2, 3,1,5)\n",
        "\n",
        "print(make_mylist)"
      ],
      "execution_count": null,
      "outputs": [
        {
          "output_type": "stream",
          "text": [
            "0 0\n",
            "1 0\n",
            "2 0\n",
            "[[0, 0], [0, 0], [0, 0]]\n",
            "0 0\n",
            "1 0\n",
            "2 0\n",
            "[[1, 2], [1, 2], [1, 2]]\n",
            "0 0\n",
            "1 0\n",
            "2 0\n",
            "[[1, 5], [1, 5], [1, 5]]\n"
          ],
          "name": "stdout"
        }
      ]
    },
    {
      "cell_type": "code",
      "metadata": {
        "id": "F727ty9e1Un4",
        "colab_type": "code",
        "colab": {
          "base_uri": "https://localhost:8080/",
          "height": 221
        },
        "outputId": "76878a49-dbeb-4296-e733-d1d607069a91"
      },
      "source": [
        "mylist2 = mylist\n",
        "print(mylist2)\n",
        "mylist2[1][0]=100\n",
        "print(mylist2)\n",
        "mylist3 = mylist\n",
        "print(mylist3)\n",
        "\n",
        "mylist4 = list(range(0,7))\n",
        "print(mylist4)\n",
        "\n",
        "for w in range(2):\n",
        "  print(w)\n",
        "  mylist3[0][w]=w\n",
        "  print(mylist3)\n",
        "\n",
        "\n",
        "for w in range(2):\n",
        "  print(w)\n",
        "  mylist3[w][0]=w\n",
        "  print(mylist3)"
      ],
      "execution_count": null,
      "outputs": [
        {
          "output_type": "stream",
          "text": [
            "[[0, 0], [1, 1], [2, 2]]\n",
            "[[0, 0], [100, 1], [2, 2]]\n",
            "[[0, 0], [100, 1], [2, 2]]\n",
            "[0, 1, 2, 3, 4, 5, 6]\n",
            "0\n",
            "[[0, 0], [100, 1], [2, 2]]\n",
            "1\n",
            "[[0, 1], [100, 1], [2, 2]]\n",
            "0\n",
            "[[0, 1], [100, 1], [2, 2]]\n",
            "1\n",
            "[[0, 1], [1, 1], [2, 2]]\n"
          ],
          "name": "stdout"
        }
      ]
    },
    {
      "cell_type": "code",
      "metadata": {
        "id": "O3ciNuwh1VO0",
        "colab_type": "code",
        "colab": {
          "base_uri": "https://localhost:8080/",
          "height": 493
        },
        "outputId": "5185d9e5-cd87-4f44-c67e-e698903ce3cc"
      },
      "source": [
        "lookback = 1\n",
        "\n",
        "for i in range(len(mylist4)):\n",
        " j = 0 - lookback + i\n",
        " k = j + lookback\n",
        "        \n",
        " mylist3[0][0] = mylist4[j]\n",
        " mylist3[0][1] = mylist4[k]\n",
        "\n",
        " print(\"tugihaXdayo\")\n",
        " print(mylist3)\n",
        " print(\"tugihaYdayo\")\n",
        " print(mylist3)"
      ],
      "execution_count": null,
      "outputs": [
        {
          "output_type": "stream",
          "text": [
            "tugihaXdayo\n",
            "[[6, 0], [1, 1], [2, 2]]\n",
            "tugihaYdayo\n",
            "[[6, 0], [1, 1], [2, 2]]\n",
            "tugihaXdayo\n",
            "[[0, 1], [1, 1], [2, 2]]\n",
            "tugihaYdayo\n",
            "[[0, 1], [1, 1], [2, 2]]\n",
            "tugihaXdayo\n",
            "[[1, 2], [1, 1], [2, 2]]\n",
            "tugihaYdayo\n",
            "[[1, 2], [1, 1], [2, 2]]\n",
            "tugihaXdayo\n",
            "[[2, 3], [1, 1], [2, 2]]\n",
            "tugihaYdayo\n",
            "[[2, 3], [1, 1], [2, 2]]\n",
            "tugihaXdayo\n",
            "[[3, 4], [1, 1], [2, 2]]\n",
            "tugihaYdayo\n",
            "[[3, 4], [1, 1], [2, 2]]\n",
            "tugihaXdayo\n",
            "[[4, 5], [1, 1], [2, 2]]\n",
            "tugihaYdayo\n",
            "[[4, 5], [1, 1], [2, 2]]\n",
            "tugihaXdayo\n",
            "[[5, 6], [1, 1], [2, 2]]\n",
            "tugihaYdayo\n",
            "[[5, 6], [1, 1], [2, 2]]\n"
          ],
          "name": "stdout"
        }
      ]
    },
    {
      "cell_type": "code",
      "metadata": {
        "id": "JLznKUYo3PF-",
        "colab_type": "code",
        "colab": {
          "base_uri": "https://localhost:8080/",
          "height": 372
        },
        "outputId": "f047a2a2-4ad5-4a9e-8cd5-461848244eef"
      },
      "source": [
        "lookback = 1\n",
        "\n",
        "for i in range(len(mylist4)):\n",
        " j = i \n",
        "  \n",
        " mylist3[0][j] = mylist4[j-1]\n",
        " mylist3[0][j] = mylist4[j]\n",
        " mylist3[0][j] = mylist4[j]\n",
        "\n",
        "\n",
        " print(\"tugihaXdayo\")\n",
        " print(mylist3)\n",
        " print(\"tugihaYdayo\")\n",
        " print(mylist3)"
      ],
      "execution_count": null,
      "outputs": [
        {
          "output_type": "stream",
          "text": [
            "tugihaXdayo\n",
            "[[0, 1], [1, 1], [2, 2]]\n",
            "tugihaYdayo\n",
            "[[0, 1], [1, 1], [2, 2]]\n",
            "tugihaXdayo\n",
            "[[0, 1], [1, 1], [2, 2]]\n",
            "tugihaYdayo\n",
            "[[0, 1], [1, 1], [2, 2]]\n"
          ],
          "name": "stdout"
        },
        {
          "output_type": "error",
          "ename": "IndexError",
          "evalue": "ignored",
          "traceback": [
            "\u001b[0;31m---------------------------------------------------------------------------\u001b[0m",
            "\u001b[0;31mIndexError\u001b[0m                                Traceback (most recent call last)",
            "\u001b[0;32m<ipython-input-115-d3f6c760e2a1>\u001b[0m in \u001b[0;36m<module>\u001b[0;34m()\u001b[0m\n\u001b[1;32m      4\u001b[0m  \u001b[0mj\u001b[0m \u001b[0;34m=\u001b[0m \u001b[0mi\u001b[0m\u001b[0;34m\u001b[0m\u001b[0;34m\u001b[0m\u001b[0m\n\u001b[1;32m      5\u001b[0m \u001b[0;34m\u001b[0m\u001b[0m\n\u001b[0;32m----> 6\u001b[0;31m  \u001b[0mmylist3\u001b[0m\u001b[0;34m[\u001b[0m\u001b[0;36m0\u001b[0m\u001b[0;34m]\u001b[0m\u001b[0;34m[\u001b[0m\u001b[0mj\u001b[0m\u001b[0;34m]\u001b[0m \u001b[0;34m=\u001b[0m \u001b[0mmylist4\u001b[0m\u001b[0;34m[\u001b[0m\u001b[0mj\u001b[0m\u001b[0;34m-\u001b[0m\u001b[0;36m1\u001b[0m\u001b[0;34m]\u001b[0m\u001b[0;34m\u001b[0m\u001b[0;34m\u001b[0m\u001b[0m\n\u001b[0m\u001b[1;32m      7\u001b[0m  \u001b[0mmylist3\u001b[0m\u001b[0;34m[\u001b[0m\u001b[0;36m0\u001b[0m\u001b[0;34m]\u001b[0m\u001b[0;34m[\u001b[0m\u001b[0mj\u001b[0m\u001b[0;34m]\u001b[0m \u001b[0;34m=\u001b[0m \u001b[0mmylist4\u001b[0m\u001b[0;34m[\u001b[0m\u001b[0mj\u001b[0m\u001b[0;34m]\u001b[0m\u001b[0;34m\u001b[0m\u001b[0;34m\u001b[0m\u001b[0m\n\u001b[1;32m      8\u001b[0m  \u001b[0mmylist3\u001b[0m\u001b[0;34m[\u001b[0m\u001b[0;36m0\u001b[0m\u001b[0;34m]\u001b[0m\u001b[0;34m[\u001b[0m\u001b[0mj\u001b[0m\u001b[0;34m]\u001b[0m \u001b[0;34m=\u001b[0m \u001b[0mmylist4\u001b[0m\u001b[0;34m[\u001b[0m\u001b[0mj\u001b[0m\u001b[0;34m]\u001b[0m\u001b[0;34m\u001b[0m\u001b[0;34m\u001b[0m\u001b[0m\n",
            "\u001b[0;31mIndexError\u001b[0m: list assignment index out of range"
          ]
        }
      ]
    },
    {
      "cell_type": "code",
      "metadata": {
        "id": "1z7ADz3D3PJe",
        "colab_type": "code",
        "colab": {}
      },
      "source": [
        ""
      ],
      "execution_count": null,
      "outputs": []
    }
  ]
}