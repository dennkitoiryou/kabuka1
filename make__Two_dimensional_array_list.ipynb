{
  "nbformat": 4,
  "nbformat_minor": 0,
  "metadata": {
    "colab": {
      "name": "make_ Two-dimensional_array_list.ipynb ",
      "provenance": [],
      "collapsed_sections": [],
      "mount_file_id": "1oOXtb2U_upVIz9KuwL-WSrScDG1iXc8o",
      "authorship_tag": "ABX9TyNpZOz+7S5YBLkwQ9lHArCn",
      "include_colab_link": true
    },
    "kernelspec": {
      "name": "python3",
      "display_name": "Python 3"
    }
  },
  "cells": [
    {
      "cell_type": "markdown",
      "metadata": {
        "id": "view-in-github",
        "colab_type": "text"
      },
      "source": [
        "<a href=\"https://colab.research.google.com/github/dennkitotaichi/kabuka1/blob/master/make__Two_dimensional_array_list.ipynb\" target=\"_parent\"><img src=\"https://colab.research.google.com/assets/colab-badge.svg\" alt=\"Open In Colab\"/></a>"
      ]
    },
    {
      "cell_type": "code",
      "metadata": {
        "id": "-94OsZ4D9AXE",
        "colab_type": "code",
        "colab": {
          "base_uri": "https://localhost:8080/",
          "height": 105
        },
        "outputId": "ec977c4f-c170-4d75-d67c-301fa28141ec"
      },
      "source": [
        "\n",
        "list2 = list(range(1,101))\n",
        "\n",
        "odd = list(filter(lambda x: x%2 == 1, list2))\n",
        "print(\"odd\")\n",
        "print(odd)\n",
        "\n",
        "#Display even numbers\n",
        "even = list(filter(lambda x: x%2 == 0, list2))\n",
        "print(\"even\")\n",
        "print(even)"
      ],
      "execution_count": 4,
      "outputs": [
        {
          "output_type": "stream",
          "text": [
            "odd\n",
            "[1, 3, 5, 7, 9, 11, 13, 15, 17, 19, 21, 23, 25, 27, 29, 31, 33, 35, 37, 39, 41, 43, 45, 47, 49, 51, 53, 55, 57, 59, 61, 63, 65, 67, 69, 71, 73, 75, 77, 79, 81, 83, 85, 87, 89, 91, 93, 95, 97, 99]\n",
            "even\n",
            "[2, 4, 6, 8, 10, 12, 14, 16, 18, 20, 22, 24, 26, 28, 30, 32, 34, 36, 38, 40, 42, 44, 46, 48, 50, 52, 54, 56, 58, 60, 62, 64, 66, 68, 70, 72, 74, 76, 78, 80, 82, 84, 86, 88, 90, 92, 94, 96, 98, 100]\n"
          ],
          "name": "stdout"
        }
      ]
    },
    {
      "cell_type": "code",
      "metadata": {
        "id": "8wvQC4Sg9Bxe",
        "colab_type": "code",
        "colab": {
          "base_uri": "https://localhost:8080/",
          "height": 955
        },
        "outputId": "14e5525d-03e8-4a1d-e62a-7fe01bdc82bb"
      },
      "source": [
        "import pandas as pd\n",
        "import random\n",
        "random.shuffle(odd)\n",
        "print(odd)\n",
        "\n",
        "random.shuffle(even)\n",
        "print(even)\n",
        "\n",
        "arr2 = []\n",
        "for i, j in zip(odd, even):\n",
        "    arr2.append([i, j])\n",
        "print(arr2)\n",
        "df = pd.DataFrame(arr2,\n",
        "                  columns=['odd', 'even'])\n",
        "print(df)\n",
        "\n",
        "df.to_csv(r'/content/drive/My Drive/arr2.csv', encoding = \"shift-jis\")"
      ],
      "execution_count": 17,
      "outputs": [
        {
          "output_type": "stream",
          "text": [
            "[9, 59, 15, 91, 75, 3, 37, 13, 29, 63, 55, 49, 95, 51, 83, 21, 93, 79, 53, 85, 77, 5, 17, 81, 35, 71, 7, 43, 61, 19, 45, 23, 47, 1, 67, 11, 31, 89, 69, 65, 33, 25, 99, 41, 57, 97, 27, 87, 73, 39]\n",
            "[36, 16, 58, 12, 86, 38, 56, 48, 76, 22, 68, 88, 96, 14, 54, 90, 42, 34, 66, 28, 4, 40, 20, 64, 70, 10, 26, 80, 100, 94, 50, 24, 60, 82, 84, 72, 30, 44, 2, 62, 6, 52, 78, 18, 46, 92, 32, 74, 98, 8]\n",
            "[[9, 36], [59, 16], [15, 58], [91, 12], [75, 86], [3, 38], [37, 56], [13, 48], [29, 76], [63, 22], [55, 68], [49, 88], [95, 96], [51, 14], [83, 54], [21, 90], [93, 42], [79, 34], [53, 66], [85, 28], [77, 4], [5, 40], [17, 20], [81, 64], [35, 70], [71, 10], [7, 26], [43, 80], [61, 100], [19, 94], [45, 50], [23, 24], [47, 60], [1, 82], [67, 84], [11, 72], [31, 30], [89, 44], [69, 2], [65, 62], [33, 6], [25, 52], [99, 78], [41, 18], [57, 46], [97, 92], [27, 32], [87, 74], [73, 98], [39, 8]]\n",
            "    odd  even\n",
            "0     9    36\n",
            "1    59    16\n",
            "2    15    58\n",
            "3    91    12\n",
            "4    75    86\n",
            "5     3    38\n",
            "6    37    56\n",
            "7    13    48\n",
            "8    29    76\n",
            "9    63    22\n",
            "10   55    68\n",
            "11   49    88\n",
            "12   95    96\n",
            "13   51    14\n",
            "14   83    54\n",
            "15   21    90\n",
            "16   93    42\n",
            "17   79    34\n",
            "18   53    66\n",
            "19   85    28\n",
            "20   77     4\n",
            "21    5    40\n",
            "22   17    20\n",
            "23   81    64\n",
            "24   35    70\n",
            "25   71    10\n",
            "26    7    26\n",
            "27   43    80\n",
            "28   61   100\n",
            "29   19    94\n",
            "30   45    50\n",
            "31   23    24\n",
            "32   47    60\n",
            "33    1    82\n",
            "34   67    84\n",
            "35   11    72\n",
            "36   31    30\n",
            "37   89    44\n",
            "38   69     2\n",
            "39   65    62\n",
            "40   33     6\n",
            "41   25    52\n",
            "42   99    78\n",
            "43   41    18\n",
            "44   57    46\n",
            "45   97    92\n",
            "46   27    32\n",
            "47   87    74\n",
            "48   73    98\n",
            "49   39     8\n"
          ],
          "name": "stdout"
        }
      ]
    },
    {
      "cell_type": "code",
      "metadata": {
        "id": "ELw19n7V9BuL",
        "colab_type": "code",
        "colab": {
          "base_uri": "https://localhost:8080/",
          "height": 884
        },
        "outputId": "0513b417-eba8-4215-bab2-17b371e041b4"
      },
      "source": [
        "import codecs\n",
        "\n",
        "with codecs.open(r'/content/drive/My Drive/arr2.csv', \"r\", \"Shift-JIS\", \"ignore\") as file:\n",
        "    df2 = pd.read_table(file, delimiter=\",\")\n",
        "\n",
        "print(df2)"
      ],
      "execution_count": 20,
      "outputs": [
        {
          "output_type": "stream",
          "text": [
            "    Unnamed: 0  odd  even\n",
            "0            0    9    36\n",
            "1            1   59    16\n",
            "2            2   15    58\n",
            "3            3   91    12\n",
            "4            4   75    86\n",
            "5            5    3    38\n",
            "6            6   37    56\n",
            "7            7   13    48\n",
            "8            8   29    76\n",
            "9            9   63    22\n",
            "10          10   55    68\n",
            "11          11   49    88\n",
            "12          12   95    96\n",
            "13          13   51    14\n",
            "14          14   83    54\n",
            "15          15   21    90\n",
            "16          16   93    42\n",
            "17          17   79    34\n",
            "18          18   53    66\n",
            "19          19   85    28\n",
            "20          20   77     4\n",
            "21          21    5    40\n",
            "22          22   17    20\n",
            "23          23   81    64\n",
            "24          24   35    70\n",
            "25          25   71    10\n",
            "26          26    7    26\n",
            "27          27   43    80\n",
            "28          28   61   100\n",
            "29          29   19    94\n",
            "30          30   45    50\n",
            "31          31   23    24\n",
            "32          32   47    60\n",
            "33          33    1    82\n",
            "34          34   67    84\n",
            "35          35   11    72\n",
            "36          36   31    30\n",
            "37          37   89    44\n",
            "38          38   69     2\n",
            "39          39   65    62\n",
            "40          40   33     6\n",
            "41          41   25    52\n",
            "42          42   99    78\n",
            "43          43   41    18\n",
            "44          44   57    46\n",
            "45          45   97    92\n",
            "46          46   27    32\n",
            "47          47   87    74\n",
            "48          48   73    98\n",
            "49          49   39     8\n"
          ],
          "name": "stdout"
        }
      ]
    },
    {
      "cell_type": "code",
      "metadata": {
        "id": "Ccr_aIdH9BrD",
        "colab_type": "code",
        "colab": {}
      },
      "source": [
        ""
      ],
      "execution_count": null,
      "outputs": []
    },
    {
      "cell_type": "code",
      "metadata": {
        "id": "UMrHf3k20rFT",
        "colab_type": "code",
        "colab": {
          "base_uri": "https://localhost:8080/",
          "height": 68
        },
        "outputId": "02b816d6-1f36-4d2d-fc74-ffd4e509aa11"
      },
      "source": [
        "mylist = [[0]*2 for i in range(3)]\n",
        "print(mylist)\n",
        "\n",
        "mylist1_1 = mylist\n",
        "print(mylist1_1)\n",
        "mylist1_1[2][1]=100\n",
        "print(mylist1_1)\n"
      ],
      "execution_count": null,
      "outputs": [
        {
          "output_type": "stream",
          "text": [
            "[[0, 0], [0, 0], [0, 0]]\n",
            "[[0, 0], [0, 0], [0, 0]]\n",
            "[[0, 0], [0, 0], [0, 100]]\n"
          ],
          "name": "stdout"
        }
      ]
    },
    {
      "cell_type": "code",
      "metadata": {
        "id": "uL1CuItM9AUZ",
        "colab_type": "code",
        "colab": {}
      },
      "source": [
        ""
      ],
      "execution_count": null,
      "outputs": []
    },
    {
      "cell_type": "code",
      "metadata": {
        "id": "ydCYTy9o1BMg",
        "colab_type": "code",
        "colab": {
          "base_uri": "https://localhost:8080/",
          "height": 221
        },
        "outputId": "0c111f3e-a8a8-491b-8f15-f4bbedb59aab"
      },
      "source": [
        "for i in range(3):\n",
        "  for w in range(2):\n",
        "\n",
        "   print(i)\n",
        "   print(w)"
      ],
      "execution_count": null,
      "outputs": [
        {
          "output_type": "stream",
          "text": [
            "0\n",
            "0\n",
            "0\n",
            "1\n",
            "1\n",
            "0\n",
            "1\n",
            "1\n",
            "2\n",
            "0\n",
            "2\n",
            "1\n"
          ],
          "name": "stdout"
        }
      ]
    },
    {
      "cell_type": "code",
      "metadata": {
        "id": "wzjqKw_40NZ9",
        "colab_type": "code",
        "colab": {
          "base_uri": "https://localhost:8080/",
          "height": 221
        },
        "outputId": "71bf5505-1e12-4b29-bbaf-b18da35aeceb"
      },
      "source": [
        "\n",
        "def Enter_data(a, b):\n",
        " for i in range(a):\n",
        "  for w in range(b):\n",
        "   print(w)\n",
        "   print(i)\n",
        "\n",
        "\n",
        "Enter_data(2, 3)"
      ],
      "execution_count": null,
      "outputs": [
        {
          "output_type": "stream",
          "text": [
            "0\n",
            "0\n",
            "1\n",
            "0\n",
            "2\n",
            "0\n",
            "0\n",
            "1\n",
            "1\n",
            "1\n",
            "2\n",
            "1\n"
          ],
          "name": "stdout"
        }
      ]
    },
    {
      "cell_type": "code",
      "metadata": {
        "id": "4Xng0tME19f8",
        "colab_type": "code",
        "colab": {
          "base_uri": "https://localhost:8080/",
          "height": 221
        },
        "outputId": "d722a8d1-8212-4efd-a245-193ca5ad87bf"
      },
      "source": [
        "Enter_data(2, 3)"
      ],
      "execution_count": null,
      "outputs": [
        {
          "output_type": "stream",
          "text": [
            "0\n",
            "0\n",
            "1\n",
            "0\n",
            "2\n",
            "0\n",
            "0\n",
            "1\n",
            "1\n",
            "1\n",
            "2\n",
            "1\n"
          ],
          "name": "stdout"
        }
      ]
    },
    {
      "cell_type": "code",
      "metadata": {
        "id": "m8AhOjiF2PwF",
        "colab_type": "code",
        "colab": {
          "base_uri": "https://localhost:8080/",
          "height": 85
        },
        "outputId": "dfbc9dbe-8ec4-4e64-ed86-41bec9533c42"
      },
      "source": [
        "mylist2 = mylist\n",
        "\n",
        "def Enter_data2(a, b):\n",
        " for i in range(a):\n",
        "  for w in range(b):\n",
        "   print(w,i)\n",
        "\n",
        "   mylist2[w][0]=w\n",
        "   mylist2[w][1]=w\n",
        "   \n",
        "\n",
        "  return mylist2\n",
        "\n",
        "make_mylist = Enter_data2(2, 3)\n",
        "\n",
        "print(make_mylist)"
      ],
      "execution_count": null,
      "outputs": [
        {
          "output_type": "stream",
          "text": [
            "0 0\n",
            "1 0\n",
            "2 0\n",
            "[[0, 0], [1, 1], [2, 2]]\n"
          ],
          "name": "stdout"
        }
      ]
    },
    {
      "cell_type": "code",
      "metadata": {
        "id": "a8z-xoo34UXk",
        "colab_type": "code",
        "colab": {
          "base_uri": "https://localhost:8080/",
          "height": 221
        },
        "outputId": "e0eb2c20-1592-4538-a0be-76a9c0e9bfa8"
      },
      "source": [
        "mylist2 = mylist\n",
        "\n",
        "def Enter_data2(a, b,c,d):\n",
        " for i in range(a):\n",
        "  for w in range(b):\n",
        "   print(w,i)\n",
        "   mylist2[w][0]=c\n",
        "   mylist2[w][1]=d\n",
        "  return mylist2\n",
        "\n",
        "make_mylist = Enter_data2(2, 3,0,0)\n",
        "\n",
        "print(make_mylist)\n",
        "\n",
        "make_mylist = Enter_data2(2, 3,1,2)\n",
        "\n",
        "print(make_mylist)\n",
        "\n",
        "make_mylist = Enter_data2(2, 3,1,5)\n",
        "\n",
        "print(make_mylist)"
      ],
      "execution_count": null,
      "outputs": [
        {
          "output_type": "stream",
          "text": [
            "0 0\n",
            "1 0\n",
            "2 0\n",
            "[[0, 0], [0, 0], [0, 0]]\n",
            "0 0\n",
            "1 0\n",
            "2 0\n",
            "[[1, 2], [1, 2], [1, 2]]\n",
            "0 0\n",
            "1 0\n",
            "2 0\n",
            "[[1, 5], [1, 5], [1, 5]]\n"
          ],
          "name": "stdout"
        }
      ]
    },
    {
      "cell_type": "code",
      "metadata": {
        "id": "F727ty9e1Un4",
        "colab_type": "code",
        "colab": {
          "base_uri": "https://localhost:8080/",
          "height": 221
        },
        "outputId": "76878a49-dbeb-4296-e733-d1d607069a91"
      },
      "source": [
        "mylist2 = mylist\n",
        "print(mylist2)\n",
        "mylist2[1][0]=100\n",
        "print(mylist2)\n",
        "mylist3 = mylist\n",
        "print(mylist3)\n",
        "\n",
        "mylist4 = list(range(0,7))\n",
        "print(mylist4)\n",
        "\n",
        "for w in range(2):\n",
        "  print(w)\n",
        "  mylist3[0][w]=w\n",
        "  print(mylist3)\n",
        "\n",
        "\n",
        "for w in range(2):\n",
        "  print(w)\n",
        "  mylist3[w][0]=w\n",
        "  print(mylist3)"
      ],
      "execution_count": null,
      "outputs": [
        {
          "output_type": "stream",
          "text": [
            "[[0, 0], [1, 1], [2, 2]]\n",
            "[[0, 0], [100, 1], [2, 2]]\n",
            "[[0, 0], [100, 1], [2, 2]]\n",
            "[0, 1, 2, 3, 4, 5, 6]\n",
            "0\n",
            "[[0, 0], [100, 1], [2, 2]]\n",
            "1\n",
            "[[0, 1], [100, 1], [2, 2]]\n",
            "0\n",
            "[[0, 1], [100, 1], [2, 2]]\n",
            "1\n",
            "[[0, 1], [1, 1], [2, 2]]\n"
          ],
          "name": "stdout"
        }
      ]
    },
    {
      "cell_type": "code",
      "metadata": {
        "id": "O3ciNuwh1VO0",
        "colab_type": "code",
        "colab": {
          "base_uri": "https://localhost:8080/",
          "height": 493
        },
        "outputId": "5185d9e5-cd87-4f44-c67e-e698903ce3cc"
      },
      "source": [
        "lookback = 1\n",
        "\n",
        "for i in range(len(mylist4)):\n",
        " j = 0 - lookback + i\n",
        " k = j + lookback\n",
        "        \n",
        " mylist3[0][0] = mylist4[j]\n",
        " mylist3[0][1] = mylist4[k]\n",
        "\n",
        " print(\"tugihaXdayo\")\n",
        " print(mylist3)\n",
        " print(\"tugihaYdayo\")\n",
        " print(mylist3)"
      ],
      "execution_count": null,
      "outputs": [
        {
          "output_type": "stream",
          "text": [
            "tugihaXdayo\n",
            "[[6, 0], [1, 1], [2, 2]]\n",
            "tugihaYdayo\n",
            "[[6, 0], [1, 1], [2, 2]]\n",
            "tugihaXdayo\n",
            "[[0, 1], [1, 1], [2, 2]]\n",
            "tugihaYdayo\n",
            "[[0, 1], [1, 1], [2, 2]]\n",
            "tugihaXdayo\n",
            "[[1, 2], [1, 1], [2, 2]]\n",
            "tugihaYdayo\n",
            "[[1, 2], [1, 1], [2, 2]]\n",
            "tugihaXdayo\n",
            "[[2, 3], [1, 1], [2, 2]]\n",
            "tugihaYdayo\n",
            "[[2, 3], [1, 1], [2, 2]]\n",
            "tugihaXdayo\n",
            "[[3, 4], [1, 1], [2, 2]]\n",
            "tugihaYdayo\n",
            "[[3, 4], [1, 1], [2, 2]]\n",
            "tugihaXdayo\n",
            "[[4, 5], [1, 1], [2, 2]]\n",
            "tugihaYdayo\n",
            "[[4, 5], [1, 1], [2, 2]]\n",
            "tugihaXdayo\n",
            "[[5, 6], [1, 1], [2, 2]]\n",
            "tugihaYdayo\n",
            "[[5, 6], [1, 1], [2, 2]]\n"
          ],
          "name": "stdout"
        }
      ]
    },
    {
      "cell_type": "code",
      "metadata": {
        "id": "JLznKUYo3PF-",
        "colab_type": "code",
        "colab": {
          "base_uri": "https://localhost:8080/",
          "height": 372
        },
        "outputId": "f047a2a2-4ad5-4a9e-8cd5-461848244eef"
      },
      "source": [
        "lookback = 1\n",
        "\n",
        "for i in range(len(mylist4)):\n",
        " j = i \n",
        "  \n",
        " mylist3[0][j] = mylist4[j-1]\n",
        " mylist3[0][j] = mylist4[j]\n",
        " mylist3[0][j] = mylist4[j]\n",
        "\n",
        "\n",
        " print(\"tugihaXdayo\")\n",
        " print(mylist3)\n",
        " print(\"tugihaYdayo\")\n",
        " print(mylist3)"
      ],
      "execution_count": null,
      "outputs": [
        {
          "output_type": "stream",
          "text": [
            "tugihaXdayo\n",
            "[[0, 1], [1, 1], [2, 2]]\n",
            "tugihaYdayo\n",
            "[[0, 1], [1, 1], [2, 2]]\n",
            "tugihaXdayo\n",
            "[[0, 1], [1, 1], [2, 2]]\n",
            "tugihaYdayo\n",
            "[[0, 1], [1, 1], [2, 2]]\n"
          ],
          "name": "stdout"
        },
        {
          "output_type": "error",
          "ename": "IndexError",
          "evalue": "ignored",
          "traceback": [
            "\u001b[0;31m---------------------------------------------------------------------------\u001b[0m",
            "\u001b[0;31mIndexError\u001b[0m                                Traceback (most recent call last)",
            "\u001b[0;32m<ipython-input-115-d3f6c760e2a1>\u001b[0m in \u001b[0;36m<module>\u001b[0;34m()\u001b[0m\n\u001b[1;32m      4\u001b[0m  \u001b[0mj\u001b[0m \u001b[0;34m=\u001b[0m \u001b[0mi\u001b[0m\u001b[0;34m\u001b[0m\u001b[0;34m\u001b[0m\u001b[0m\n\u001b[1;32m      5\u001b[0m \u001b[0;34m\u001b[0m\u001b[0m\n\u001b[0;32m----> 6\u001b[0;31m  \u001b[0mmylist3\u001b[0m\u001b[0;34m[\u001b[0m\u001b[0;36m0\u001b[0m\u001b[0;34m]\u001b[0m\u001b[0;34m[\u001b[0m\u001b[0mj\u001b[0m\u001b[0;34m]\u001b[0m \u001b[0;34m=\u001b[0m \u001b[0mmylist4\u001b[0m\u001b[0;34m[\u001b[0m\u001b[0mj\u001b[0m\u001b[0;34m-\u001b[0m\u001b[0;36m1\u001b[0m\u001b[0;34m]\u001b[0m\u001b[0;34m\u001b[0m\u001b[0;34m\u001b[0m\u001b[0m\n\u001b[0m\u001b[1;32m      7\u001b[0m  \u001b[0mmylist3\u001b[0m\u001b[0;34m[\u001b[0m\u001b[0;36m0\u001b[0m\u001b[0;34m]\u001b[0m\u001b[0;34m[\u001b[0m\u001b[0mj\u001b[0m\u001b[0;34m]\u001b[0m \u001b[0;34m=\u001b[0m \u001b[0mmylist4\u001b[0m\u001b[0;34m[\u001b[0m\u001b[0mj\u001b[0m\u001b[0;34m]\u001b[0m\u001b[0;34m\u001b[0m\u001b[0;34m\u001b[0m\u001b[0m\n\u001b[1;32m      8\u001b[0m  \u001b[0mmylist3\u001b[0m\u001b[0;34m[\u001b[0m\u001b[0;36m0\u001b[0m\u001b[0;34m]\u001b[0m\u001b[0;34m[\u001b[0m\u001b[0mj\u001b[0m\u001b[0;34m]\u001b[0m \u001b[0;34m=\u001b[0m \u001b[0mmylist4\u001b[0m\u001b[0;34m[\u001b[0m\u001b[0mj\u001b[0m\u001b[0;34m]\u001b[0m\u001b[0;34m\u001b[0m\u001b[0;34m\u001b[0m\u001b[0m\n",
            "\u001b[0;31mIndexError\u001b[0m: list assignment index out of range"
          ]
        }
      ]
    },
    {
      "cell_type": "code",
      "metadata": {
        "id": "1z7ADz3D3PJe",
        "colab_type": "code",
        "colab": {}
      },
      "source": [
        ""
      ],
      "execution_count": null,
      "outputs": []
    }
  ]
}